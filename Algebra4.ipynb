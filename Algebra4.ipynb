{
 "cells": [
  {
   "cell_type": "code",
   "execution_count": 1,
   "id": "bcd56274-b2aa-484d-8579-2fecca59fd24",
   "metadata": {},
   "outputs": [],
   "source": [
    "import numpy as np\n",
    "import pandas as pd\n",
    "import sympy as sp\n",
    "from fractions import Fraction\n",
    "import itertools\n",
    "import timeit"
   ]
  },
  {
   "cell_type": "markdown",
   "id": "a732d6fe-3962-470d-91cc-00e34268c1ec",
   "metadata": {},
   "source": [
    "### Funciones previas"
   ]
  },
  {
   "cell_type": "code",
   "execution_count": 2,
   "id": "9a0e4b0f-83d4-424c-b3ee-d1951243cf17",
   "metadata": {},
   "outputs": [],
   "source": [
    "def permutation(lst):\n",
    "    \n",
    "    if len(lst) == 0:\n",
    "        return []\n",
    "    if len(lst) == 1:\n",
    "        return [lst]\n",
    "    \n",
    "    l = []\n",
    "\n",
    "    for i in range(len(lst)):\n",
    "        m = lst[i]\n",
    "        remLst = lst[:i] + lst[i+1:]\n",
    "\n",
    "        for p in permutation(remLst):\n",
    "            l.append([m] + p)\n",
    "        \n",
    "    return l\n",
    "\n",
    "# Paridad de las permutaciones (solo funciona con el orden de la funcion anterior)\n",
    "\n",
    "def par(lst):\n",
    "    \n",
    "    l = []\n",
    "    \n",
    "    for i in range(len(lst)):\n",
    "        if i % 2 == 0:\n",
    "            l.append(1)\n",
    "            \n",
    "        else:\n",
    "            l.append(-1)\n",
    "    return np.cumprod(np.array(l))\n",
    "\n",
    "def combinations(n,k):\n",
    "    \n",
    "    u = list(range(0,n))\n",
    "    \n",
    "    c = [list(v) for v in itertools.product(u, repeat=k) if len([i for i in v if v.count(i)>1])==0]\n",
    "    \n",
    "    return c \n",
    " \n",
    "def kCombinations(output, temp, index, n, i, K):\n",
    "    if index == K:\n",
    "        output.append(temp.copy())\n",
    "        return\n",
    "    \n",
    "    if i >=n:\n",
    "        return\n",
    "    \n",
    "    temp[index] = i #+ 1\n",
    "    kCombinations(output, temp, index + 1, n, i + 1, K)\n",
    "    kCombinations(output, temp, index, n, i + 1, K)\n",
    "    \n",
    "def findKCombination(K,n):\n",
    "    \n",
    "    output = []\n",
    "    temp = [0]*K\n",
    "    kCombinations(output, temp, 0, n, 0, K)\n",
    "    return output"
   ]
  },
  {
   "cell_type": "markdown",
   "id": "eb6bf1c4-9a74-44b3-b2b6-cc271067a317",
   "metadata": {},
   "source": [
    "### Delta Generalizada"
   ]
  },
  {
   "cell_type": "code",
   "execution_count": 3,
   "id": "9d81129a-e073-4469-96c9-b45809a95cf6",
   "metadata": {},
   "outputs": [],
   "source": [
    "def Delta(upI,lwI):\n",
    "    \n",
    "    per = permutation(lwI)\n",
    "    pari = par(per)\n",
    "    \n",
    "    # Verifica si hay indices repetidos\n",
    "    \n",
    "    if len([i for i in upI if upI.count(i)>1]) > 0:\n",
    "        return 0\n",
    "    if len([i for i in lwI if lwI.count(i)>1]) > 0:\n",
    "        return 0  \n",
    "    \n",
    "    # Busca si los indices superiores son una permutacion (par o impar) del los inferiores\n",
    "    \n",
    "    if upI in per:\n",
    "        k = per.index(upI)\n",
    "        return sp.Rational(pari[k],np.math.factorial(len(upI)))\n",
    "    else:\n",
    "        return 0"
   ]
  },
  {
   "cell_type": "markdown",
   "id": "edfd660b-5278-48e2-916f-4b431ead9fc2",
   "metadata": {},
   "source": [
    "### Check de traza\n",
    "\n",
    "Deberia ser \n",
    "\n",
    "$\\Delta^{\\mu_1 ... \\mu_k}_{\\nu_1 ... \\nu_k} = \\frac{1}{k!}\\frac{n!}{(n-k)!}$"
   ]
  },
  {
   "cell_type": "code",
   "execution_count": 4,
   "id": "96fdd243-75d4-44b2-808d-1b98f9d56173",
   "metadata": {},
   "outputs": [],
   "source": [
    "def TraDelta(n,k):\n",
    "    u = 0\n",
    "    for i in combinations(n,k):\n",
    "        u = u + Delta(i,i)\n",
    "    return u  \n",
    "\n",
    "def checkDelta(n,k):\n",
    "    \n",
    "    s = sp.Rational(1,np.math.factorial(k))*sp.Rational(np.math.factorial(n),np.math.factorial(n-k))\n",
    "    \n",
    "    if TraDelta(n,k) == s:\n",
    "        return True\n",
    "    else: return False\n",
    "        "
   ]
  },
  {
   "cell_type": "code",
   "execution_count": 5,
   "id": "11d2203f-f917-4a5f-8858-b758e36f09fd",
   "metadata": {},
   "outputs": [
    {
     "data": {
      "text/plain": [
       "True"
      ]
     },
     "execution_count": 5,
     "metadata": {},
     "output_type": "execute_result"
    }
   ],
   "source": [
    "checkDelta(4,1)"
   ]
  },
  {
   "cell_type": "code",
   "execution_count": 6,
   "id": "e3174914-8b2e-4614-9f13-b9c2b9fe48cc",
   "metadata": {},
   "outputs": [
    {
     "data": {
      "text/plain": [
       "True"
      ]
     },
     "execution_count": 6,
     "metadata": {},
     "output_type": "execute_result"
    }
   ],
   "source": [
    "checkDelta(4,2)"
   ]
  },
  {
   "cell_type": "code",
   "execution_count": 7,
   "id": "85094f53-20e2-47b6-98a3-916d20cfc70c",
   "metadata": {},
   "outputs": [
    {
     "data": {
      "text/plain": [
       "True"
      ]
     },
     "execution_count": 7,
     "metadata": {},
     "output_type": "execute_result"
    }
   ],
   "source": [
    "checkDelta(4,3)"
   ]
  },
  {
   "cell_type": "code",
   "execution_count": 8,
   "id": "c56d0bd9-d3d6-4cf4-96ef-2a10305e2ded",
   "metadata": {},
   "outputs": [
    {
     "data": {
      "text/plain": [
       "True"
      ]
     },
     "execution_count": 8,
     "metadata": {},
     "output_type": "execute_result"
    }
   ],
   "source": [
    "checkDelta(5,2)"
   ]
  },
  {
   "cell_type": "code",
   "execution_count": 9,
   "id": "0456ea41-835e-49b2-91a1-d14137893e66",
   "metadata": {},
   "outputs": [
    {
     "data": {
      "text/plain": [
       "True"
      ]
     },
     "execution_count": 9,
     "metadata": {},
     "output_type": "execute_result"
    }
   ],
   "source": [
    "checkDelta(5,3)"
   ]
  },
  {
   "cell_type": "code",
   "execution_count": 10,
   "id": "cf30bb09-bd2a-4af3-8270-d5fccc9ab7b5",
   "metadata": {},
   "outputs": [
    {
     "data": {
      "text/plain": [
       "True"
      ]
     },
     "execution_count": 10,
     "metadata": {},
     "output_type": "execute_result"
    }
   ],
   "source": [
    "checkDelta(5,4)"
   ]
  },
  {
   "cell_type": "markdown",
   "id": "6fdb8a20-2df1-4553-8c1c-d4c0016b9c22",
   "metadata": {},
   "source": [
    "### Representacion fundamental de SU(n)"
   ]
  },
  {
   "cell_type": "code",
   "execution_count": 11,
   "id": "6db31c68-cf9d-4f1b-a346-ff5953726857",
   "metadata": {},
   "outputs": [],
   "source": [
    "def Li(n,i,j,a,b):\n",
    "    \n",
    "    s = Delta([a],[j])*Delta([i],[b])-Delta([i],[j])*Delta([a],[b])*sp.Rational(1,n)\n",
    "    \n",
    "    return s\n",
    "\n",
    "def LiM(n,i,j):\n",
    "    \n",
    "    u = np.zeros((n,n),dtype=object)\n",
    "    \n",
    "    for a in range(0,n):\n",
    "        for b in range(0,n):\n",
    "            u[a][b]=Li(n,i,j,a,b)\n",
    "    return u   \n",
    "\n",
    "def L2(n,i,j):\n",
    "    \n",
    "    u = np.zeros((n,n),dtype=object)\n",
    "    \n",
    "    for a in range(0,n):\n",
    "        for b in range(a,n):\n",
    "            u[a][b] = (sp.Rational(1,2))*(Li(n,i,j,a,b)+Li(n,j,i,a,b))\n",
    "            u[b][a] = u[a][b]\n",
    "            \n",
    "    return u          \n",
    "\n",
    "def M2(n,i,k):\n",
    "    \n",
    "    u = np.zeros((n,n),dtype=object)\n",
    "    \n",
    "    for a in range(0,n):\n",
    "        for b in range(a,n):\n",
    "            u[a][b] = (sp.Rational(1,2))*(1j)*(Li(n,i,k,a,b)-Li(n,k,i,a,b))\n",
    "            u[b][a] = -u[a][b]\n",
    "            \n",
    "    return u\n",
    "\n",
    "def D(n,k):\n",
    "    \n",
    "    u = sp.sqrt(2*(k+1)*(k+2))\n",
    "    \n",
    "    s = np.zeros((n,n),dtype=object)\n",
    "    \n",
    "    for i in range(0,k+1):\n",
    "        s = s + LiM(n,i,i)\n",
    "        \n",
    "    s = s - (k+1)*LiM(n,k+1,k+1)\n",
    "    \n",
    "    return s*(1/u)"
   ]
  },
  {
   "cell_type": "code",
   "execution_count": 12,
   "id": "f87021b3-07cc-4309-808b-082c28aa6724",
   "metadata": {},
   "outputs": [],
   "source": [
    "def GenLamda3(n):\n",
    "    \n",
    "    p = []\n",
    "    b = []\n",
    "\n",
    "    for j in range(1,n):\n",
    "        for i in range(0,j):\n",
    "           # if i >= j:\n",
    "           #     continue    \n",
    "\n",
    "            p.append(2*L2(n,i,j))\n",
    "            b.append('s')\n",
    "            p.append(2*M2(n,i,j))\n",
    "            b.append('as')\n",
    "        p.append(2*D(n,j-1))\n",
    "        b.append('d')\n",
    "    return p,b"
   ]
  },
  {
   "cell_type": "markdown",
   "id": "99d70de3-23c2-4370-9c4e-ae8cf4907cdf",
   "metadata": {},
   "source": [
    "### Traza de los generadores $\\lambda_I$"
   ]
  },
  {
   "cell_type": "code",
   "execution_count": 13,
   "id": "5800b098-83fe-44b6-96e2-2fd416b6c7c5",
   "metadata": {},
   "outputs": [],
   "source": [
    "def Traza(A,B):\n",
    "    \n",
    "    u = np.trace(np.matmul(A,B,dtype=object))\n",
    "    \n",
    "    return u"
   ]
  },
  {
   "cell_type": "code",
   "execution_count": 14,
   "id": "ba197480-53c7-4acb-8274-82e2445e29db",
   "metadata": {},
   "outputs": [],
   "source": [
    "def checkTL(Lamdas):\n",
    "    \n",
    "    u = (Lamdas[0].shape)[0]\n",
    "    s = []\n",
    "    \n",
    "    for i,j in itertools.product(range(0,u*u-1), repeat=2):\n",
    "        \n",
    "        if Traza(Lamdas[i],Lamdas[j]) == 2*Delta([i],[j]):\n",
    "            s.append(True)\n",
    "        else:\n",
    "            s.append(False)\n",
    "    \n",
    "    \n",
    "    if all(s) == True:\n",
    "        return 'Todas las relaciones se cumplen'\n",
    "    else:\n",
    "        return 'Algo va mal'\n",
    "    \n",
    "    "
   ]
  },
  {
   "cell_type": "code",
   "execution_count": 15,
   "id": "4726252e-8906-471b-8804-8098b9cced0c",
   "metadata": {},
   "outputs": [
    {
     "data": {
      "text/plain": [
       "'Todas las relaciones se cumplen'"
      ]
     },
     "execution_count": 15,
     "metadata": {},
     "output_type": "execute_result"
    }
   ],
   "source": [
    "checkTL(GenLamda3(2)[0])"
   ]
  },
  {
   "cell_type": "code",
   "execution_count": 16,
   "id": "05564f3b-ce55-4a04-90cb-b67911e981c3",
   "metadata": {},
   "outputs": [
    {
     "data": {
      "text/plain": [
       "'Todas las relaciones se cumplen'"
      ]
     },
     "execution_count": 16,
     "metadata": {},
     "output_type": "execute_result"
    }
   ],
   "source": [
    "checkTL(GenLamda3(3)[0])"
   ]
  },
  {
   "cell_type": "code",
   "execution_count": 17,
   "id": "512c418c-8622-4000-afd0-68b770ab4d7f",
   "metadata": {},
   "outputs": [
    {
     "data": {
      "text/plain": [
       "'Todas las relaciones se cumplen'"
      ]
     },
     "execution_count": 17,
     "metadata": {},
     "output_type": "execute_result"
    }
   ],
   "source": [
    "checkTL(GenLamda3(4)[0])"
   ]
  },
  {
   "cell_type": "code",
   "execution_count": 18,
   "id": "45d76e4c-1d46-4db0-a9e0-f7f217cfc5d4",
   "metadata": {},
   "outputs": [
    {
     "data": {
      "text/plain": [
       "'Todas las relaciones se cumplen'"
      ]
     },
     "execution_count": 18,
     "metadata": {},
     "output_type": "execute_result"
    }
   ],
   "source": [
    "checkTL(GenLamda3(5)[0])"
   ]
  },
  {
   "cell_type": "code",
   "execution_count": 19,
   "id": "7b5f21f8-f6cc-4a43-8679-eac57274aaa0",
   "metadata": {},
   "outputs": [
    {
     "data": {
      "text/plain": [
       "'Todas las relaciones se cumplen'"
      ]
     },
     "execution_count": 19,
     "metadata": {},
     "output_type": "execute_result"
    }
   ],
   "source": [
    "checkTL(GenLamda3(6)[0])"
   ]
  },
  {
   "cell_type": "markdown",
   "id": "d8f89fca-0941-4681-8439-68316c8b272f",
   "metadata": {},
   "source": [
    "### Calculo de los $t_I$\n",
    "\n",
    "$(t_I)^{\\mu_1 \\ldots \\mu_k}_{\\nu_1 \\ldots \\nu_k} = (-1)^{k-1}(k-1)!\\delta_{l_1}^{[\\mu_1}\\Delta^{\\mu_2 \\ldots \\mu_k]\\rho_1}_{\\nu_1 \\ldots \\nu_k}(\\lambda_I)_{\\rho_1}^{l_1}$"
   ]
  },
  {
   "cell_type": "code",
   "execution_count": 20,
   "id": "317b5e6f-1cf1-4f90-a504-00c6a823d1c4",
   "metadata": {},
   "outputs": [],
   "source": [
    "def Pro(UpI,LwI):\n",
    "    \n",
    "    s = 0\n",
    "    \n",
    "    perU = permutation(UpI[:len(UpI)-1])\n",
    "    pari = par(perU)\n",
    "    \n",
    "    if len([i for i in UpI[:len(UpI)-1] if UpI[:len(UpI)-1].count(i)>1]) > 0:\n",
    "        return 0\n",
    "    else:\n",
    "        for i in perU:\n",
    "            k = perU.index(i)\n",
    "            s = s + Delta([i[0]],[LwI[0]])*Delta(i[1:]+[UpI[-1]],LwI[1:])*pari[k]*Fraction(1,np.math.factorial(len(UpI)-1))\n",
    "    return s "
   ]
  },
  {
   "cell_type": "code",
   "execution_count": 21,
   "id": "1e5947f5-cdf1-4658-8c2f-3996c3ff86a6",
   "metadata": {},
   "outputs": [],
   "source": [
    "def t3(n,matrix,upI,lwI):\n",
    "    \n",
    "    i = 0\n",
    "    \n",
    "    sig = ((-1)**(len(upI)-1))*np.math.factorial(len(upI)-1)\n",
    "    \n",
    "    s,t = np.where(matrix !=0 )\n",
    "    \n",
    "    \n",
    "    for p,m in zip(s,t):\n",
    "        UpI = upI + [p]\n",
    "        LpI = [m] + lwI\n",
    "        i = i + Pro(UpI,LpI)*(matrix)[p][m]\n",
    "    \n",
    "    return i*sig"
   ]
  },
  {
   "cell_type": "markdown",
   "id": "b88617ce-1828-4991-bd4d-fcf99a6b44fb",
   "metadata": {},
   "source": [
    "### Verifiquemos la traza"
   ]
  },
  {
   "cell_type": "code",
   "execution_count": 54,
   "id": "f77cc0a3-10c6-4dbb-b0af-22a9a8d9d131",
   "metadata": {},
   "outputs": [],
   "source": [
    "def Tract(matrix,k):\n",
    "    \n",
    "    u = (matrix[0].shape)[0]\n",
    "    \n",
    "    p = combinations(u,k)\n",
    "    \n",
    "    rs = 2*sp.Rational(np.math.factorial(k-1)*np.math.factorial(u-2),k*k*np.math.factorial(u-k-1))\n",
    "    \n",
    "    t = []\n",
    "    \n",
    "    for i,j in itertools.product(range(0,u*u-1), repeat=2):\n",
    "        \n",
    "        l = []\n",
    "        \n",
    "        for upI in p:\n",
    "            for lwI in p:\n",
    "                l.append(t3(u,matrix[i],upI,lwI)*t3(u,matrix[j],lwI,upI))\n",
    "                \n",
    "        #print(sp.nsimplify(sum(l)),sp.nsimplify(rs*Delta([i],[j])))\n",
    "        \n",
    "        if sp.nsimplify(sum(l)) == sp.nsimplify(rs*Delta([i],[j])):\n",
    "            t.append(True)\n",
    "        else:\n",
    "            t.append(False)\n",
    "            \n",
    "    if all(t) == True:\n",
    "        return 'Todas las relaciones se cumplen'\n",
    "    else:\n",
    "        return 'Algo va mal'            "
   ]
  },
  {
   "cell_type": "code",
   "execution_count": 55,
   "id": "27f7686a-867b-47fb-8104-1cc22da0f317",
   "metadata": {},
   "outputs": [
    {
     "data": {
      "text/plain": [
       "'Todas las relaciones se cumplen'"
      ]
     },
     "execution_count": 55,
     "metadata": {},
     "output_type": "execute_result"
    }
   ],
   "source": [
    "Tract(GenLamda3(3)[0],2)"
   ]
  },
  {
   "cell_type": "code",
   "execution_count": 56,
   "id": "c4be0582-e68e-4368-b103-e629cf4b3853",
   "metadata": {},
   "outputs": [
    {
     "data": {
      "text/plain": [
       "'Todas las relaciones se cumplen'"
      ]
     },
     "execution_count": 56,
     "metadata": {},
     "output_type": "execute_result"
    }
   ],
   "source": [
    "Tract(GenLamda3(4)[0],2)"
   ]
  },
  {
   "cell_type": "code",
   "execution_count": 58,
   "id": "34584858-4c11-4d3c-a582-d7c3a77caf73",
   "metadata": {},
   "outputs": [
    {
     "data": {
      "text/plain": [
       "'Todas las relaciones se cumplen'"
      ]
     },
     "execution_count": 58,
     "metadata": {},
     "output_type": "execute_result"
    }
   ],
   "source": [
    "Tract(GenLamda3(4)[0],3)"
   ]
  },
  {
   "cell_type": "code",
   "execution_count": 59,
   "id": "11c39b05-24fc-4d4b-b19a-1534407cda3e",
   "metadata": {},
   "outputs": [
    {
     "data": {
      "text/plain": [
       "'Todas las relaciones se cumplen'"
      ]
     },
     "execution_count": 59,
     "metadata": {},
     "output_type": "execute_result"
    }
   ],
   "source": [
    "Tract(GenLamda3(5)[0],2)"
   ]
  },
  {
   "cell_type": "markdown",
   "id": "22db1537-fb58-4481-9f5f-f7302300773d",
   "metadata": {},
   "source": [
    "### Veamos el bracket"
   ]
  },
  {
   "cell_type": "code",
   "execution_count": 110,
   "id": "60129ed1-9939-4bf7-84a0-0f11a77595ed",
   "metadata": {},
   "outputs": [],
   "source": [
    "def brat(n,A,B,upI,lwI):\n",
    "    \n",
    "    k = len(upI)\n",
    "    u = 0\n",
    "    \n",
    "    p = combinations(n,k)\n",
    "        \n",
    "    for s in p:\n",
    "        u = u + (t3(n,A,s,lwI)*t3(n,B,upI,s) - t3(n,B,s,lwI)*t3(n,A,upI,s))\n",
    "        \n",
    "    return u    \n",
    "    "
   ]
  },
  {
   "cell_type": "code",
   "execution_count": 124,
   "id": "a72f3773-a63d-47fb-b114-8f3276ace67c",
   "metadata": {},
   "outputs": [
    {
     "data": {
      "text/latex": [
       "$\\displaystyle \\frac{3 i}{16}$"
      ],
      "text/plain": [
       "3*I/16"
      ]
     },
     "execution_count": 124,
     "metadata": {},
     "output_type": "execute_result"
    }
   ],
   "source": [
    "sp.nsimplify(brat(5,(GenLamda3(5)[0])[0],(GenLamda3(5)[0])[1],[0,2,3,4],[0,2,3,4]))"
   ]
  },
  {
   "cell_type": "code",
   "execution_count": 125,
   "id": "7b5412e9-33fb-4c42-b53c-80405509d674",
   "metadata": {},
   "outputs": [
    {
     "data": {
      "text/latex": [
       "$\\displaystyle \\frac{1}{16}$"
      ],
      "text/plain": [
       "1/16"
      ]
     },
     "execution_count": 125,
     "metadata": {},
     "output_type": "execute_result"
    }
   ],
   "source": [
    "t3(4,(GenLamda3(5)[0])[2],[0,2,3,4],[0,2,3,4])"
   ]
  },
  {
   "cell_type": "code",
   "execution_count": null,
   "id": "0741cc50-e19e-4a82-aab6-5da767d705f2",
   "metadata": {},
   "outputs": [],
   "source": [
    "def rhstbra(n,st,upI,lwI):\n",
    "    \n",
    "    k\n",
    "    \n",
    "    u = 0\n",
    "    \n",
    "    for i in range(0,)\n",
    "    \n",
    "    "
   ]
  },
  {
   "cell_type": "markdown",
   "id": "811d4e58-9275-4992-a5da-a69a03053abe",
   "metadata": {},
   "source": [
    "## Representacion Matricial de los generadores"
   ]
  },
  {
   "cell_type": "code",
   "execution_count": 64,
   "id": "4cf43278-98a4-44f3-85f3-1d5ddc5e0ead",
   "metadata": {},
   "outputs": [],
   "source": [
    "def tM(n,Ma,st,k):\n",
    "    \n",
    "    values = findKCombination(k,n)\n",
    "    dim = len(values)\n",
    "    keys = [i for i in range(0,dim)]\n",
    "    \n",
    "    dic = dict(zip(keys,values))\n",
    "    \n",
    "    matrix = np.zeros((dim,dim),dtype=object)\n",
    "    \n",
    "    if st == 's':\n",
    "        \n",
    "        for i in range(0,dim):\n",
    "            for j in range(i,dim):\n",
    "                matrix[i][j] = t3(n,Ma,dic[j],dic[i])\n",
    "                matrix[j][i] = matrix[i][j]\n",
    "                \n",
    "    elif st == 'as':\n",
    "        \n",
    "        for i in range(0,dim):\n",
    "            for j in range(i,dim):\n",
    "                matrix[i][j] = t3(n,Ma,dic[j],dic[i])\n",
    "                matrix[j][i] = -matrix[i][j]\n",
    "                \n",
    "    elif st == 'd':\n",
    "        \n",
    "        for i in range(0,dim):\n",
    "            matrix[i][i] = t3(n,Ma,dic[i],dic[i])       \n",
    "            \n",
    "    return matrix"
   ]
  },
  {
   "cell_type": "code",
   "execution_count": 79,
   "id": "2d4290aa-f4b5-4443-963e-cdd39cb63491",
   "metadata": {},
   "outputs": [],
   "source": [
    "def tMf(n,k):\n",
    "    \n",
    "    ##############################################################\n",
    "    ############ Todas las matrices y su simetria ################\n",
    "    ##############################################################\n",
    "    \n",
    "    Lamda, Sim = GenLamda3(n)\n",
    "    \n",
    "    ###############################################################\n",
    "    ######## Representacion Matricial de los T ####################\n",
    "    ###############################################################\n",
    "    \n",
    "    a = []\n",
    "    \n",
    "    for u in range(0,n*n-1):\n",
    "        \n",
    "        a.append(tM(n,Lamda[u],Sim[u],k))\n",
    "    \n",
    "    return Lamda,a"
   ]
  },
  {
   "cell_type": "code",
   "execution_count": 80,
   "id": "c0c23d40",
   "metadata": {},
   "outputs": [],
   "source": [
    "def bra(A,B):\n",
    "    \n",
    "    return np.matmul(A,B,dtype=object)-np.matmul(B,A,dtype=object)\n",
    "\n",
    "### Anticomutador\n",
    "\n",
    "\n",
    "def Abra(A,B):\n",
    "    \n",
    "    return np.matmul(A,B,dtype=object)+np.matmul(B,A,dtype=object)\n",
    "\n",
    "\n",
    "\n",
    "def f3(LamdL,n):\n",
    "       \n",
    "    u = range(0,n*n-1)\n",
    "    \n",
    "   # values = [list(v) for v in itertools.product(u, repeat=3)]\n",
    "    di = {}\n",
    "    \n",
    "    for i,j,k in itertools.product(u, repeat=3):\n",
    "        \n",
    "        m = sp.nsimplify(-(1j)*sp.Rational(1,4)*np.trace(np.matmul(LamdL[i],bra(LamdL[j],LamdL[k]),dtype=object)))\n",
    "        di[(i,j,k)] = m\n",
    "        \n",
    "    return di    \n",
    "\n"
   ]
  },
  {
   "cell_type": "markdown",
   "id": "bb00528b-b302-4218-a644-aed3829bbfa1",
   "metadata": {},
   "source": [
    "## Generadores $T_I$ \n",
    "\n",
    "En esta parte se calculan todos los $T_I$ en su representacion matricial. Por simplicidad aqui calculare todos los generadores para $n=3$,$n=4$,$n=5$. Para todos los valores de $2 \\leq k < n$."
   ]
  },
  {
   "cell_type": "markdown",
   "id": "174f137e-43f1-4c79-972f-a68f65c9e7d2",
   "metadata": {},
   "source": [
    "### n=3"
   ]
  },
  {
   "cell_type": "code",
   "execution_count": 81,
   "id": "899bfa4e-b842-4719-ba1a-302240918d15",
   "metadata": {},
   "outputs": [],
   "source": [
    "# k=2\n",
    "\n",
    "Lamda_3, T32 = tMf(3,2)"
   ]
  },
  {
   "cell_type": "code",
   "execution_count": 82,
   "id": "dfffb75d",
   "metadata": {},
   "outputs": [],
   "source": [
    "F_3 = f3(Lamda_3,3)"
   ]
  },
  {
   "cell_type": "markdown",
   "id": "0469860d-5ace-46b1-9756-a3ccc763a1c2",
   "metadata": {},
   "source": [
    "### n=4"
   ]
  },
  {
   "cell_type": "code",
   "execution_count": 127,
   "id": "68516b15-8acf-4327-a785-bed36db597b7",
   "metadata": {},
   "outputs": [],
   "source": [
    "# k = 2\n",
    "\n",
    "Lamda_4, T42 = tMf(4,2) \n",
    "\n",
    "# k =3\n",
    "T43 = tMf(4,3)[1]"
   ]
  },
  {
   "cell_type": "code",
   "execution_count": 128,
   "id": "48dcb6a0",
   "metadata": {},
   "outputs": [],
   "source": [
    "F_4 = f3(Lamda_4,4)"
   ]
  },
  {
   "cell_type": "markdown",
   "id": "c24e6179-fc1a-4757-b8d9-cfdb6734ca57",
   "metadata": {},
   "source": [
    "### n = 5"
   ]
  },
  {
   "cell_type": "code",
   "execution_count": 129,
   "id": "7e4ba1ad-88a4-4162-87f9-ecb82c17272a",
   "metadata": {},
   "outputs": [],
   "source": [
    "# k = 2\n",
    "\n",
    "Lamda_5, T52 = tMf(5,2)\n",
    "\n",
    "# k = 3\n",
    "\n",
    "T53 = tMf(5,3)[1]\n",
    "\n",
    "# k = 4\n",
    "\n",
    "T54 = tMf(5,4)[1]"
   ]
  },
  {
   "cell_type": "code",
   "execution_count": 130,
   "id": "120e9763",
   "metadata": {},
   "outputs": [],
   "source": [
    "F_5 = f3(Lamda_5,5)"
   ]
  },
  {
   "cell_type": "code",
   "execution_count": 87,
   "id": "2fd0521c-a2de-445e-8511-05ec36d010a2",
   "metadata": {},
   "outputs": [
    {
     "data": {
      "text/plain": [
       "array([[0, 0, 0, 0, 0, 0],\n",
       "       [0, 1/4, 0, 0, 0, 0],\n",
       "       [0, 0, 1/4, 0, 0, 0],\n",
       "       [0, 0, 0, -1/4, 0, 0],\n",
       "       [0, 0, 0, 0, -1/4, 0],\n",
       "       [0, 0, 0, 0, 0, 0]], dtype=object)"
      ]
     },
     "execution_count": 87,
     "metadata": {},
     "output_type": "execute_result"
    }
   ],
   "source": [
    "T42[2]"
   ]
  },
  {
   "cell_type": "markdown",
   "id": "6384364f-3bf2-4609-95c2-c16b8cdaaa0c",
   "metadata": {},
   "source": [
    "### Pruebas de traza y algebra"
   ]
  },
  {
   "cell_type": "code",
   "execution_count": 74,
   "id": "33ea94c9-72b5-4925-9490-d8de71921cbc",
   "metadata": {},
   "outputs": [],
   "source": [
    "## Comutador\n",
    "\n",
    "\n",
    "\n",
    "## Constantes de estructura de SU(n)\n",
    "\n",
    "def f2(LamdL,I,J,K):\n",
    "    \n",
    "    if I == J or J == K:\n",
    "        return 0\n",
    "    else:\n",
    "        return  sp.nsimplify(-(1j)*sp.Rational(1,4)*np.trace(np.matmul(LamdL[I],bra(LamdL[J],LamdL[K]),dtype=object)))\n",
    "    \n"
   ]
  },
  {
   "cell_type": "markdown",
   "id": "e7b7dff8-93bd-42f9-9222-1f052b35990c",
   "metadata": {},
   "source": [
    "### Algebra"
   ]
  },
  {
   "cell_type": "code",
   "execution_count": 131,
   "id": "d0033344",
   "metadata": {},
   "outputs": [],
   "source": [
    "def rhs(n,I,J,Mat,Lamda,st):\n",
    "    \n",
    "    a = np.zeros((len(Mat[0]),len(Mat[0])),dtype=object)\n",
    "    \n",
    "    for i in range(0,n*n-1):\n",
    "        if st == 'l':\n",
    "            p = 2j\n",
    "        elif st == 't':\n",
    "            p = 2j\n",
    "        elif st == 'T':\n",
    "            p = 1\n",
    "        u = f2(Lamda,I,J,i)*p*Mat[i]\n",
    "        u[u!=0] = np.array([sp.nsimplify(i) for i in u[u!=0]],dtype=object)\n",
    "        \n",
    "        a = a + u\n",
    "        \n",
    "    return a\n",
    "\n",
    "def rhs2(n,I,J,Mat,estc,st,k):\n",
    "    \n",
    "    a = np.zeros((len(Mat[0]),len(Mat[0])),dtype=object)\n",
    "    \n",
    "    for i in range(0,n*n-1):\n",
    "        if st == 'l':\n",
    "            p = 2j\n",
    "        elif st == 't':\n",
    "            p = sp.nsimplify(2j*sp.Rational(1,k*k))\n",
    "        elif st == 'T':\n",
    "            p = 1\n",
    "        u = estc[(I,J,i)]*p*Mat[i]\n",
    "        u[u!=0] = np.array([sp.nsimplify(i) for i in u[u!=0]],dtype=object)\n",
    "        \n",
    "        a = a + u\n",
    "        \n",
    "    return a\n",
    "    "
   ]
  },
  {
   "cell_type": "code",
   "execution_count": 90,
   "id": "deba7d62-238c-46f7-9101-0ee51f6ffb4d",
   "metadata": {},
   "outputs": [],
   "source": [
    "def alg(n,I,J,Mat,Lamda,st,k):\n",
    "    \n",
    "    a = rhs(n,I,J,Mat,Lamda,st)\n",
    "        \n",
    "    b = bra(Mat[I],Mat[J])\n",
    "    \n",
    "    ## Verifiquemos que todo sea del mismo tipo\n",
    "    \n",
    "    a[a!=0] = np.array([sp.nsimplify(i) for i in a[a!=0]],dtype=object)\n",
    "    b[b!=0] = np.array([sp.nsimplify(i) for i in b[b!=0]],dtype=object)\n",
    "    \n",
    "    if (b == a).all():\n",
    "        return True\n",
    "    else:\n",
    "        return False\n",
    "    \n",
    "def alg2(n,I,J,Mat,estc,st,k):\n",
    "    \n",
    "    a = rhs2(n,I,J,Mat,estc,st,k)\n",
    "        \n",
    "    b = bra(Mat[I],Mat[J])\n",
    "    \n",
    "    ## Verifiquemos que todo sea del mismo tipo\n",
    "    \n",
    "    a[a!=0] = np.array([sp.nsimplify(i) for i in a[a!=0]],dtype=object)\n",
    "    b[b!=0] = np.array([sp.nsimplify(i) for i in b[b!=0]],dtype=object)\n",
    "    \n",
    "    if (b == a).all():\n",
    "        return True\n",
    "    else:\n",
    "        return False    "
   ]
  },
  {
   "cell_type": "markdown",
   "id": "de1efae7",
   "metadata": {},
   "source": [
    "### Vamos ahora con las pruebas para cada caso"
   ]
  },
  {
   "cell_type": "code",
   "execution_count": 91,
   "id": "abd9bde6",
   "metadata": {},
   "outputs": [],
   "source": [
    "def Algtest(n,Mat,Lamda,st,k):\n",
    "    \n",
    "    a = []\n",
    "    \n",
    "    for i,j in combinations(n*n-1,2):\n",
    "        a.append(alg(n,i,j,Mat,Lamda,st))\n",
    "        \n",
    "        # Para saber en que indices no se cumple\n",
    "        \n",
    "        # if alg(n,i,j,Mat,st) == False:\n",
    "            \n",
    "        #     print(i,j)\n",
    "        \n",
    "    if all(a) == True:\n",
    "        return 'Todas las relaciones se cumplen'\n",
    "    else:\n",
    "        return 'Algo va mal'\n",
    "    \n",
    "def Algtest2(n,Mat,estc,st,k):\n",
    "    \n",
    "    a = []\n",
    "    \n",
    "    for i,j in combinations(n*n-1,2):\n",
    "        a.append(alg2(n,i,j,Mat,estc,st,k))\n",
    "        \n",
    "        # Para saber en que indices no se cumple\n",
    "        \n",
    "        #if alg2(n,i,j,Mat,estc,st) == False:\n",
    "            \n",
    "        #    print(i,j)\n",
    "        \n",
    "    if all(a) == True:\n",
    "        return 'Todas las relaciones se cumplen'\n",
    "    else:\n",
    "        return 'Algo va mal'    "
   ]
  },
  {
   "cell_type": "markdown",
   "id": "7c2a1b86",
   "metadata": {},
   "source": [
    "### Verificando las relaciones de conmutacion de los $\\lambda_I$"
   ]
  },
  {
   "cell_type": "code",
   "execution_count": 93,
   "id": "83bc0582",
   "metadata": {},
   "outputs": [
    {
     "data": {
      "text/plain": [
       "'Todas las relaciones se cumplen'"
      ]
     },
     "execution_count": 93,
     "metadata": {},
     "output_type": "execute_result"
    }
   ],
   "source": [
    "Algtest2(3,Lamda_3,F_3,'l',1)"
   ]
  },
  {
   "cell_type": "code",
   "execution_count": 94,
   "id": "b5878785",
   "metadata": {},
   "outputs": [
    {
     "data": {
      "text/plain": [
       "'Todas las relaciones se cumplen'"
      ]
     },
     "execution_count": 94,
     "metadata": {},
     "output_type": "execute_result"
    }
   ],
   "source": [
    "Algtest2(4,Lamda_4,F_4,'l',1)"
   ]
  },
  {
   "cell_type": "code",
   "execution_count": 95,
   "id": "9386a259",
   "metadata": {},
   "outputs": [
    {
     "data": {
      "text/plain": [
       "'Todas las relaciones se cumplen'"
      ]
     },
     "execution_count": 95,
     "metadata": {},
     "output_type": "execute_result"
    }
   ],
   "source": [
    "Algtest2(5,Lamda_5,F_5,'l',1)"
   ]
  },
  {
   "cell_type": "markdown",
   "id": "c518bdbb",
   "metadata": {},
   "source": [
    "### Verificando las relaciones de commutacion de los $t_I$"
   ]
  },
  {
   "cell_type": "code",
   "execution_count": 135,
   "id": "c9f2c9bd",
   "metadata": {},
   "outputs": [
    {
     "data": {
      "text/plain": [
       "'Todas las relaciones se cumplen'"
      ]
     },
     "execution_count": 135,
     "metadata": {},
     "output_type": "execute_result"
    }
   ],
   "source": [
    "Algtest2(3,T32,F_3,'t',2)"
   ]
  },
  {
   "cell_type": "code",
   "execution_count": 136,
   "id": "55231dd0",
   "metadata": {},
   "outputs": [
    {
     "data": {
      "text/plain": [
       "'Todas las relaciones se cumplen'"
      ]
     },
     "execution_count": 136,
     "metadata": {},
     "output_type": "execute_result"
    }
   ],
   "source": [
    "Algtest2(4,T42,F_4,'t',2)"
   ]
  },
  {
   "cell_type": "code",
   "execution_count": 137,
   "id": "be0b4d65",
   "metadata": {},
   "outputs": [
    {
     "data": {
      "text/plain": [
       "'Todas las relaciones se cumplen'"
      ]
     },
     "execution_count": 137,
     "metadata": {},
     "output_type": "execute_result"
    }
   ],
   "source": [
    "Algtest2(4,T43,F_4,'t',3)"
   ]
  },
  {
   "cell_type": "code",
   "execution_count": 139,
   "id": "c473e2e2",
   "metadata": {},
   "outputs": [
    {
     "data": {
      "text/plain": [
       "'Todas las relaciones se cumplen'"
      ]
     },
     "execution_count": 139,
     "metadata": {},
     "output_type": "execute_result"
    }
   ],
   "source": [
    "Algtest2(5,T52,F_5,'t',2)"
   ]
  },
  {
   "cell_type": "code",
   "execution_count": 140,
   "id": "74c9eb6e-bc21-47b9-8a69-6bc2e968f2de",
   "metadata": {},
   "outputs": [
    {
     "data": {
      "text/plain": [
       "'Todas las relaciones se cumplen'"
      ]
     },
     "execution_count": 140,
     "metadata": {},
     "output_type": "execute_result"
    }
   ],
   "source": [
    "Algtest2(5,T53,F_5,'t',3)"
   ]
  },
  {
   "cell_type": "code",
   "execution_count": 141,
   "id": "bd597c70-10bd-41f2-a860-4c21d8a3c00e",
   "metadata": {},
   "outputs": [
    {
     "data": {
      "text/plain": [
       "'Todas las relaciones se cumplen'"
      ]
     },
     "execution_count": 141,
     "metadata": {},
     "output_type": "execute_result"
    }
   ],
   "source": [
    "Algtest2(5,T54,F_5,'t',4)"
   ]
  },
  {
   "cell_type": "code",
   "execution_count": 142,
   "id": "06b01ba2-566e-4637-bfe1-4319582b2255",
   "metadata": {},
   "outputs": [
    {
     "data": {
      "text/plain": [
       "array([[0, 0, 0, 0],\n",
       "       [0, 0, 0, 0],\n",
       "       [0, 0, 0.0246913580246914*I, 0],\n",
       "       [0, 0, 0, -0.0246913580246914*I]], dtype=object)"
      ]
     },
     "execution_count": 142,
     "metadata": {},
     "output_type": "execute_result"
    }
   ],
   "source": [
    "bra(T43[0],T43[1])"
   ]
  },
  {
   "cell_type": "code",
   "execution_count": 134,
   "id": "9a5de220-cc27-4ee4-ae5f-bd93d07a73f9",
   "metadata": {},
   "outputs": [
    {
     "data": {
      "text/plain": [
       "array([[0, 0, 0, 0],\n",
       "       [0, 0, 0, 0],\n",
       "       [0, 0, 2*I/81, 0],\n",
       "       [0, 0, 0, -2*I/81]], dtype=object)"
      ]
     },
     "execution_count": 134,
     "metadata": {},
     "output_type": "execute_result"
    }
   ],
   "source": [
    "rhs2(4,0,1,T43,F_4,'t',3)"
   ]
  },
  {
   "cell_type": "code",
   "execution_count": 59,
   "id": "6370dddd-d26d-4b0c-aaf8-594f246a232f",
   "metadata": {},
   "outputs": [
    {
     "data": {
      "text/plain": [
       "array([[0, 0, 0, 0, 0, 0, 0, 0, 0, 0],\n",
       "       [0, 0, 0, 0, 0, 0, 0, 0, 0, 0],\n",
       "       [0, 0, 0, 0, 0, 0, 0, 0, 0, 0],\n",
       "       [0, 0, 0, 0, 0, 0, -8/81, 0, 0, 0],\n",
       "       [0, 0, 0, 0, 0, 0, 0, -8/81, 0, 0],\n",
       "       [0, 0, 0, 0, 0, 0, 0, 0, -8/81, 0],\n",
       "       [0, 0, 0, 8/81, 0, 0, 0, 0, 0, 0],\n",
       "       [0, 0, 0, 0, 8/81, 0, 0, 0, 0, 0],\n",
       "       [0, 0, 0, 0, 0, 8/81, 0, 0, 0, 0],\n",
       "       [0, 0, 0, 0, 0, 0, 0, 0, 0, 0]], dtype=object)"
      ]
     },
     "execution_count": 59,
     "metadata": {},
     "output_type": "execute_result"
    }
   ],
   "source": [
    "bra(T53[0],T53[2])"
   ]
  },
  {
   "cell_type": "code",
   "execution_count": 60,
   "id": "a24b8fe9-3c5f-436d-8d6b-4b84473a66be",
   "metadata": {},
   "outputs": [
    {
     "data": {
      "text/plain": [
       "array([[0, 0, 0, 0, 0, 0, 0, 0, 0, 0],\n",
       "       [0, 0, 0, 0, 0, 0, 0, 0, 0, 0],\n",
       "       [0, 0, 0, 0, 0, 0, 0, 0, 0, 0],\n",
       "       [0, 0, 0, 0, 0, 0, -2/9, 0, 0, 0],\n",
       "       [0, 0, 0, 0, 0, 0, 0, -2/9, 0, 0],\n",
       "       [0, 0, 0, 0, 0, 0, 0, 0, -2/9, 0],\n",
       "       [0, 0, 0, 2/9, 0, 0, 0, 0, 0, 0],\n",
       "       [0, 0, 0, 0, 2/9, 0, 0, 0, 0, 0],\n",
       "       [0, 0, 0, 0, 0, 2/9, 0, 0, 0, 0],\n",
       "       [0, 0, 0, 0, 0, 0, 0, 0, 0, 0]], dtype=object)"
      ]
     },
     "execution_count": 60,
     "metadata": {},
     "output_type": "execute_result"
    }
   ],
   "source": [
    "rhs2(5,0,2,T53,F_5,'t')"
   ]
  },
  {
   "cell_type": "markdown",
   "id": "4836bf9c-bdf9-4960-9bee-d412d1a5c374",
   "metadata": {},
   "source": [
    "### Veamos por que "
   ]
  },
  {
   "cell_type": "markdown",
   "id": "e2484aa6-8ea8-423f-a2e1-c999c7e1d20a",
   "metadata": {},
   "source": [
    "### Verificando la traza"
   ]
  },
  {
   "cell_type": "code",
   "execution_count": 37,
   "id": "2c393a18-8bed-49b4-b9b6-297ef6d8f018",
   "metadata": {},
   "outputs": [],
   "source": [
    "def traz(A,B):\n",
    "    \n",
    "    u = np.trace(np.matmul(A,B,dtype=object))\n",
    "    \n",
    "    return u"
   ]
  },
  {
   "cell_type": "code",
   "execution_count": null,
   "id": "6ea6769b-bcf1-45cf-aa5d-ec23744c4db3",
   "metadata": {},
   "outputs": [],
   "source": [
    "def checkTrace(ListM,strig):\n",
    "    \n",
    "    \n",
    "    "
   ]
  }
 ],
 "metadata": {
  "kernelspec": {
   "display_name": "Python 3 (ipykernel)",
   "language": "python",
   "name": "python3"
  },
  "language_info": {
   "codemirror_mode": {
    "name": "ipython",
    "version": 3
   },
   "file_extension": ".py",
   "mimetype": "text/x-python",
   "name": "python",
   "nbconvert_exporter": "python",
   "pygments_lexer": "ipython3",
   "version": "3.10.9"
  }
 },
 "nbformat": 4,
 "nbformat_minor": 5
}

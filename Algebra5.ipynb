{
 "cells": [
  {
   "cell_type": "code",
   "execution_count": 1,
   "id": "bcd56274-b2aa-484d-8579-2fecca59fd24",
   "metadata": {},
   "outputs": [],
   "source": [
    "import numpy as np\n",
    "import pandas as pd\n",
    "import sympy as sp\n",
    "from fractions import Fraction\n",
    "import itertools\n",
    "import timeit"
   ]
  },
  {
   "cell_type": "markdown",
   "id": "a732d6fe-3962-470d-91cc-00e34268c1ec",
   "metadata": {},
   "source": [
    "### Funciones previas"
   ]
  },
  {
   "cell_type": "code",
   "execution_count": 2,
   "id": "9a0e4b0f-83d4-424c-b3ee-d1951243cf17",
   "metadata": {},
   "outputs": [],
   "source": [
    "def permutation(lst):\n",
    "    \n",
    "    if len(lst) == 0:\n",
    "        return []\n",
    "    if len(lst) == 1:\n",
    "        return [lst]\n",
    "    \n",
    "    l = []\n",
    "\n",
    "    for i in range(len(lst)):\n",
    "        m = lst[i]\n",
    "        remLst = lst[:i] + lst[i+1:]\n",
    "\n",
    "        for p in permutation(remLst):\n",
    "            l.append([m] + p)\n",
    "        \n",
    "    return l\n",
    "\n",
    "# Paridad de las permutaciones (solo funciona con el orden de la funcion anterior)\n",
    "\n",
    "def par(lst):\n",
    "    \n",
    "    l = []\n",
    "    \n",
    "    for i in range(len(lst)):\n",
    "        if i % 2 == 0:\n",
    "            l.append(1)\n",
    "            \n",
    "        else:\n",
    "            l.append(-1)\n",
    "    return np.cumprod(np.array(l))\n",
    "\n",
    "def combinations(n,k):\n",
    "    \n",
    "    u = list(range(0,n))\n",
    "    \n",
    "    c = [list(v) for v in itertools.product(u, repeat=k) if len([i for i in v if v.count(i)>1])==0]\n",
    "    \n",
    "    return c \n",
    " \n",
    "def kCombinations(output, temp, index, n, i, K):\n",
    "    if index == K:\n",
    "        output.append(temp.copy())\n",
    "        return\n",
    "    \n",
    "    if i >=n:\n",
    "        return\n",
    "    \n",
    "    temp[index] = i #+ 1\n",
    "    kCombinations(output, temp, index + 1, n, i + 1, K)\n",
    "    kCombinations(output, temp, index, n, i + 1, K)\n",
    "    \n",
    "def findKCombination(K,n):\n",
    "    \n",
    "    output = []\n",
    "    temp = [0]*K\n",
    "    kCombinations(output, temp, 0, n, 0, K)\n",
    "    return output"
   ]
  },
  {
   "cell_type": "markdown",
   "id": "eb6bf1c4-9a74-44b3-b2b6-cc271067a317",
   "metadata": {},
   "source": [
    "### Delta Generalizada"
   ]
  },
  {
   "cell_type": "code",
   "execution_count": 3,
   "id": "9d81129a-e073-4469-96c9-b45809a95cf6",
   "metadata": {},
   "outputs": [],
   "source": [
    "def Delta(upI,lwI):\n",
    "    \n",
    "    per = permutation(lwI)\n",
    "    pari = par(per)\n",
    "    \n",
    "    # Verifica si hay indices repetidos\n",
    "    \n",
    "    if len([i for i in upI if upI.count(i)>1]) > 0:\n",
    "        return 0\n",
    "    if len([i for i in lwI if lwI.count(i)>1]) > 0:\n",
    "        return 0  \n",
    "    \n",
    "    # Busca si los indices superiores son una permutacion (par o impar) del los inferiores\n",
    "    \n",
    "    if upI in per:\n",
    "        k = per.index(upI)\n",
    "        return sp.Rational(pari[k],np.math.factorial(len(upI)))\n",
    "    else:\n",
    "        return 0"
   ]
  },
  {
   "cell_type": "markdown",
   "id": "edfd660b-5278-48e2-916f-4b431ead9fc2",
   "metadata": {},
   "source": [
    "### Check de traza\n",
    "\n",
    "Deberia ser \n",
    "\n",
    "$\\Delta^{\\mu_1 ... \\mu_k}_{\\nu_1 ... \\nu_k} = \\frac{1}{k!}\\frac{n!}{(n-k)!}$"
   ]
  },
  {
   "cell_type": "code",
   "execution_count": 4,
   "id": "96fdd243-75d4-44b2-808d-1b98f9d56173",
   "metadata": {},
   "outputs": [],
   "source": [
    "def TraDelta(n,k):\n",
    "    u = 0\n",
    "    for i in combinations(n,k):\n",
    "        u = u + Delta(i,i)\n",
    "    return u  \n",
    "\n",
    "def checkDelta(n,k):\n",
    "    \n",
    "    s = sp.Rational(1,np.math.factorial(k))*sp.Rational(np.math.factorial(n),np.math.factorial(n-k))\n",
    "    \n",
    "    if TraDelta(n,k) == s:\n",
    "        return True\n",
    "    else: return False\n",
    "        "
   ]
  },
  {
   "cell_type": "code",
   "execution_count": 5,
   "id": "11d2203f-f917-4a5f-8858-b758e36f09fd",
   "metadata": {},
   "outputs": [
    {
     "data": {
      "text/plain": [
       "True"
      ]
     },
     "execution_count": 5,
     "metadata": {},
     "output_type": "execute_result"
    }
   ],
   "source": [
    "checkDelta(4,1)"
   ]
  },
  {
   "cell_type": "code",
   "execution_count": 6,
   "id": "e3174914-8b2e-4614-9f13-b9c2b9fe48cc",
   "metadata": {},
   "outputs": [
    {
     "data": {
      "text/plain": [
       "True"
      ]
     },
     "execution_count": 6,
     "metadata": {},
     "output_type": "execute_result"
    }
   ],
   "source": [
    "checkDelta(4,2)"
   ]
  },
  {
   "cell_type": "code",
   "execution_count": 7,
   "id": "85094f53-20e2-47b6-98a3-916d20cfc70c",
   "metadata": {},
   "outputs": [
    {
     "data": {
      "text/plain": [
       "True"
      ]
     },
     "execution_count": 7,
     "metadata": {},
     "output_type": "execute_result"
    }
   ],
   "source": [
    "checkDelta(4,3)"
   ]
  },
  {
   "cell_type": "code",
   "execution_count": 8,
   "id": "c56d0bd9-d3d6-4cf4-96ef-2a10305e2ded",
   "metadata": {},
   "outputs": [
    {
     "data": {
      "text/plain": [
       "True"
      ]
     },
     "execution_count": 8,
     "metadata": {},
     "output_type": "execute_result"
    }
   ],
   "source": [
    "checkDelta(5,2)"
   ]
  },
  {
   "cell_type": "code",
   "execution_count": 9,
   "id": "0456ea41-835e-49b2-91a1-d14137893e66",
   "metadata": {},
   "outputs": [
    {
     "data": {
      "text/plain": [
       "True"
      ]
     },
     "execution_count": 9,
     "metadata": {},
     "output_type": "execute_result"
    }
   ],
   "source": [
    "checkDelta(5,3)"
   ]
  },
  {
   "cell_type": "code",
   "execution_count": 10,
   "id": "cf30bb09-bd2a-4af3-8270-d5fccc9ab7b5",
   "metadata": {},
   "outputs": [
    {
     "data": {
      "text/plain": [
       "True"
      ]
     },
     "execution_count": 10,
     "metadata": {},
     "output_type": "execute_result"
    }
   ],
   "source": [
    "checkDelta(5,4)"
   ]
  },
  {
   "cell_type": "markdown",
   "id": "6fdb8a20-2df1-4553-8c1c-d4c0016b9c22",
   "metadata": {},
   "source": [
    "### Representacion fundamental de SU(n)"
   ]
  },
  {
   "cell_type": "code",
   "execution_count": 11,
   "id": "6db31c68-cf9d-4f1b-a346-ff5953726857",
   "metadata": {},
   "outputs": [],
   "source": [
    "def Li(n,i,j,a,b):\n",
    "    \n",
    "    s = Delta([a],[j])*Delta([i],[b])-Delta([i],[j])*Delta([a],[b])*sp.Rational(1,n)\n",
    "    \n",
    "    return s\n",
    "\n",
    "def LiM(n,i,j):\n",
    "    \n",
    "    u = np.zeros((n,n),dtype=object)\n",
    "    \n",
    "    for a in range(0,n):\n",
    "        for b in range(0,n):\n",
    "            u[a][b]=Li(n,i,j,a,b)\n",
    "    return u   \n",
    "\n",
    "def L2(n,i,j):\n",
    "    \n",
    "    u = np.zeros((n,n),dtype=object)\n",
    "    \n",
    "    for a in range(0,n):\n",
    "        for b in range(a,n):\n",
    "            u[a][b] = (sp.Rational(1,2))*(Li(n,i,j,a,b)+Li(n,j,i,a,b))\n",
    "            u[b][a] = u[a][b]\n",
    "            \n",
    "    return u          \n",
    "\n",
    "def M2(n,i,k):\n",
    "    \n",
    "    u = np.zeros((n,n),dtype=object)\n",
    "    \n",
    "    for a in range(0,n):\n",
    "        for b in range(a,n):\n",
    "            u[a][b] = (sp.Rational(1,2))*(1j)*(Li(n,i,k,a,b)-Li(n,k,i,a,b))\n",
    "            u[b][a] = -u[a][b]\n",
    "            \n",
    "    return u\n",
    "\n",
    "def D(n,k):\n",
    "    \n",
    "    u = sp.sqrt(2*(k+1)*(k+2))\n",
    "    \n",
    "    s = np.zeros((n,n),dtype=object)\n",
    "    \n",
    "    for i in range(0,k+1):\n",
    "        s = s + LiM(n,i,i)\n",
    "        \n",
    "    s = s - (k+1)*LiM(n,k+1,k+1)\n",
    "    \n",
    "    return s*(1/u)"
   ]
  },
  {
   "cell_type": "code",
   "execution_count": 12,
   "id": "f87021b3-07cc-4309-808b-082c28aa6724",
   "metadata": {},
   "outputs": [],
   "source": [
    "def GenLamda3(n):\n",
    "    \n",
    "    p = []\n",
    "    b = []\n",
    "\n",
    "    for j in range(1,n):\n",
    "        for i in range(0,j):\n",
    "           # if i >= j:\n",
    "           #     continue    \n",
    "\n",
    "            p.append(2*L2(n,i,j))\n",
    "            b.append('s')\n",
    "            p.append(2*M2(n,i,j))\n",
    "            b.append('as')\n",
    "        p.append(2*D(n,j-1))\n",
    "        b.append('d')\n",
    "    return p,b"
   ]
  },
  {
   "cell_type": "markdown",
   "id": "99d70de3-23c2-4370-9c4e-ae8cf4907cdf",
   "metadata": {},
   "source": [
    "### Traza de los generadores $\\lambda_I$"
   ]
  },
  {
   "cell_type": "code",
   "execution_count": 13,
   "id": "5800b098-83fe-44b6-96e2-2fd416b6c7c5",
   "metadata": {},
   "outputs": [],
   "source": [
    "def Traza(A,B):\n",
    "    \n",
    "    u = np.trace(np.matmul(A,B,dtype=object))\n",
    "    \n",
    "    return u"
   ]
  },
  {
   "cell_type": "code",
   "execution_count": 14,
   "id": "ba197480-53c7-4acb-8274-82e2445e29db",
   "metadata": {},
   "outputs": [],
   "source": [
    "def checkTL(Lamdas):\n",
    "    \n",
    "    u = (Lamdas[0].shape)[0]\n",
    "    s = []\n",
    "    \n",
    "    for i,j in itertools.product(range(0,u*u-1), repeat=2):\n",
    "        \n",
    "        if Traza(Lamdas[i],Lamdas[j]) == 2*Delta([i],[j]):\n",
    "            s.append(True)\n",
    "        else:\n",
    "            s.append(False)\n",
    "    \n",
    "    \n",
    "    if all(s) == True:\n",
    "        return 'Todas las relaciones se cumplen'\n",
    "    else:\n",
    "        return 'Algo va mal'\n",
    "    \n",
    "    "
   ]
  },
  {
   "cell_type": "code",
   "execution_count": 15,
   "id": "4726252e-8906-471b-8804-8098b9cced0c",
   "metadata": {},
   "outputs": [
    {
     "data": {
      "text/plain": [
       "'Todas las relaciones se cumplen'"
      ]
     },
     "execution_count": 15,
     "metadata": {},
     "output_type": "execute_result"
    }
   ],
   "source": [
    "checkTL(GenLamda3(2)[0])"
   ]
  },
  {
   "cell_type": "code",
   "execution_count": 16,
   "id": "05564f3b-ce55-4a04-90cb-b67911e981c3",
   "metadata": {},
   "outputs": [
    {
     "data": {
      "text/plain": [
       "'Todas las relaciones se cumplen'"
      ]
     },
     "execution_count": 16,
     "metadata": {},
     "output_type": "execute_result"
    }
   ],
   "source": [
    "checkTL(GenLamda3(3)[0])"
   ]
  },
  {
   "cell_type": "code",
   "execution_count": 17,
   "id": "512c418c-8622-4000-afd0-68b770ab4d7f",
   "metadata": {},
   "outputs": [
    {
     "data": {
      "text/plain": [
       "'Todas las relaciones se cumplen'"
      ]
     },
     "execution_count": 17,
     "metadata": {},
     "output_type": "execute_result"
    }
   ],
   "source": [
    "checkTL(GenLamda3(4)[0])"
   ]
  },
  {
   "cell_type": "code",
   "execution_count": 18,
   "id": "45d76e4c-1d46-4db0-a9e0-f7f217cfc5d4",
   "metadata": {},
   "outputs": [
    {
     "data": {
      "text/plain": [
       "'Todas las relaciones se cumplen'"
      ]
     },
     "execution_count": 18,
     "metadata": {},
     "output_type": "execute_result"
    }
   ],
   "source": [
    "checkTL(GenLamda3(5)[0])"
   ]
  },
  {
   "cell_type": "code",
   "execution_count": 19,
   "id": "7b5f21f8-f6cc-4a43-8679-eac57274aaa0",
   "metadata": {},
   "outputs": [
    {
     "data": {
      "text/plain": [
       "'Todas las relaciones se cumplen'"
      ]
     },
     "execution_count": 19,
     "metadata": {},
     "output_type": "execute_result"
    }
   ],
   "source": [
    "checkTL(GenLamda3(6)[0])"
   ]
  },
  {
   "cell_type": "markdown",
   "id": "d8f89fca-0941-4681-8439-68316c8b272f",
   "metadata": {},
   "source": [
    "### Calculo de los $t_I$\n",
    "\n",
    "$(t_I)^{\\quad \\ \\ \\  \\mu_1 \\ldots \\mu_k}_{\\nu_1 \\ldots \\nu_k} = (-1)^{k-1}(k-1)!\\delta_{l_1}^{[\\mu_1}\\Delta^{\\mu_2 \\ldots \\mu_k]\\rho_1}_{\\nu_1 \\ldots \\nu_k}(\\lambda_I)_{\\rho_1}^{l_1}$\n",
    "\n",
    "Estos generadores satisfacen la condicion:\n",
    "\n",
    "$Tr(t_It_J) = \\frac{2(k-1)!(n-2)!}{k^2(n-k-1)!}\\delta_{IJ}$\n",
    "\n",
    "$[t_I,t_J]^{\\quad \\ \\ \\  \\mu_1 \\ldots \\mu_k}_{\\nu_1 \\ldots \\nu_k} = 2i\\frac{(k-1)!}{k}f_{IJ}^K (t_K)^{\\quad \\ \\ \\  \\mu_1 \\ldots \\mu_k}_{\\nu_1 \\ldots \\nu_k} $\n",
    "\n",
    "Resulta mas comodo definir todo como\n",
    "\n",
    "\n",
    "$(t_I)^{\\quad \\ \\ \\  \\mu_1 \\ldots \\mu_k}_{\\nu_1 \\ldots \\nu_k} = (-1)^{k-1}\\frac{2}{k}\\delta_{l_1}^{[\\mu_1}\\Delta^{\\mu_2 \\ldots \\mu_k]\\rho_1}_{\\nu_1 \\ldots \\nu_k}(\\lambda_I)_{\\rho_1}^{l_1}$\n",
    "\n",
    "\n",
    "$Tr(t_It_J) = \\frac{(n-2)!}{2(k-1)!(n-k-1)!}\\delta_{IJ}$\n",
    "\n",
    "$[t_I,t_J]^{\\quad \\ \\ \\  \\mu_1 \\ldots \\mu_k}_{\\nu_1 \\ldots \\nu_k} = if_{IJ}^K (t_K)^{\\quad \\ \\ \\  \\mu_1 \\ldots \\mu_k}_{\\nu_1 \\ldots \\nu_k} $\n"
   ]
  },
  {
   "cell_type": "code",
   "execution_count": 20,
   "id": "317b5e6f-1cf1-4f90-a504-00c6a823d1c4",
   "metadata": {},
   "outputs": [],
   "source": [
    "def Pro(UpI,LwI):\n",
    "    \n",
    "    s = 0\n",
    "    \n",
    "    perU = permutation(UpI[:len(UpI)-1])\n",
    "    pari = par(perU)\n",
    "    \n",
    "    if len([i for i in UpI[:len(UpI)-1] if UpI[:len(UpI)-1].count(i)>1]) > 0:\n",
    "        return 0\n",
    "    else:\n",
    "        for i in perU:\n",
    "            k = perU.index(i)\n",
    "            s = s + Delta([i[0]],[LwI[0]])*Delta(i[1:]+[UpI[-1]],LwI[1:])*pari[k]*Fraction(1,np.math.factorial(len(UpI)-1))\n",
    "    return s "
   ]
  },
  {
   "cell_type": "code",
   "execution_count": 21,
   "id": "1e5947f5-cdf1-4658-8c2f-3996c3ff86a6",
   "metadata": {},
   "outputs": [],
   "source": [
    "def t3(n,matrix,upI,lwI):\n",
    "    \n",
    "    i = 0\n",
    "    \n",
    "    sig = ((-1)**(len(upI)-1))*sp.Rational(len(upI),2)\n",
    "    \n",
    "    s,t = np.where(matrix !=0 )\n",
    "    \n",
    "    \n",
    "    for p,m in zip(s,t):\n",
    "        UpI = upI + [p]\n",
    "        LpI = [m] + lwI\n",
    "        i = i + Pro(UpI,LpI)*(matrix)[p][m]\n",
    "    \n",
    "    return i*sig"
   ]
  },
  {
   "cell_type": "markdown",
   "id": "b88617ce-1828-4991-bd4d-fcf99a6b44fb",
   "metadata": {},
   "source": [
    "### Verifiquemos la traza\n",
    "\n",
    "La traza esta definida como:\n",
    "\n",
    "$tr(t_It_J) = (t_I)_{\\mu_1 \\cdots \\mu_k}^{\\quad \\ \\ \\nu_1 \\cdots \\nu_k}(t_J)_{\\nu_1 \\cdots \\nu_k}^{\\quad \\ \\ \\mu_1 \\cdots \\mu_k}$\n",
    "\n",
    "Se puede demostrar que \n",
    "\n",
    "$tr(t_It_J) = (k!)^2 (t_I)_{[\\mu_1 \\cdots \\mu_k]}^{\\quad \\ \\ [\\nu_1 \\cdots \\nu_k]}(t_J)_{[\\nu_1 \\cdots \\nu_k]}^{\\quad \\ \\ [\\mu_1 \\cdots \\mu_k]}$\n",
    "\n",
    "Que es mucho mas eficiente a nivel de computo"
   ]
  },
  {
   "cell_type": "code",
   "execution_count": 22,
   "id": "f77cc0a3-10c6-4dbb-b0af-22a9a8d9d131",
   "metadata": {},
   "outputs": [],
   "source": [
    "def Tract3(matrix,k):\n",
    "    \n",
    "    u = (matrix[0].shape)[0]\n",
    "    \n",
    "    p = findKCombination(k,u)\n",
    "    \n",
    "    rs = sp.Rational(np.math.factorial(u-2),2*np.math.factorial(k-1)*np.math.factorial(u-k-1))\n",
    "    \n",
    "    t = []\n",
    "    \n",
    "    for i,j in itertools.product(range(0,u*u-1), repeat=2):\n",
    "        \n",
    "        l = []\n",
    "        \n",
    "        for upI in p:\n",
    "            for lwI in p:\n",
    "                l.append(t3(u,matrix[i],upI,lwI)*t3(u,matrix[j],lwI,upI))\n",
    "                \n",
    "  #      print(sp.nsimplify(sum(l)),sp.nsimplify(rs*Delta([i],[j])))\n",
    "        \n",
    "        if abs(np.math.factorial(k)**2*sum(l) - rs*Delta([i],[j])) < 1.0E-10:\n",
    "            t.append(True)\n",
    "        else:\n",
    "            t.append(False)\n",
    "            \n",
    "    if all(t) == True:\n",
    "        return 'Todas las relaciones se cumplen'\n",
    "    else:\n",
    "        return 'Algo va mal'     "
   ]
  },
  {
   "cell_type": "code",
   "execution_count": 23,
   "id": "b0ac16f6-8f1d-4b04-a810-ccdbe9a59e72",
   "metadata": {},
   "outputs": [
    {
     "data": {
      "text/plain": [
       "'Todas las relaciones se cumplen'"
      ]
     },
     "execution_count": 23,
     "metadata": {},
     "output_type": "execute_result"
    }
   ],
   "source": [
    "Tract3(GenLamda3(3)[0],2)"
   ]
  },
  {
   "cell_type": "code",
   "execution_count": 24,
   "id": "c4be0582-e68e-4368-b103-e629cf4b3853",
   "metadata": {},
   "outputs": [
    {
     "data": {
      "text/plain": [
       "'Todas las relaciones se cumplen'"
      ]
     },
     "execution_count": 24,
     "metadata": {},
     "output_type": "execute_result"
    }
   ],
   "source": [
    "Tract3(GenLamda3(4)[0],2)"
   ]
  },
  {
   "cell_type": "code",
   "execution_count": 25,
   "id": "34584858-4c11-4d3c-a582-d7c3a77caf73",
   "metadata": {},
   "outputs": [
    {
     "data": {
      "text/plain": [
       "'Todas las relaciones se cumplen'"
      ]
     },
     "execution_count": 25,
     "metadata": {},
     "output_type": "execute_result"
    }
   ],
   "source": [
    "Tract3(GenLamda3(4)[0],3)"
   ]
  },
  {
   "cell_type": "code",
   "execution_count": 26,
   "id": "11c39b05-24fc-4d4b-b19a-1534407cda3e",
   "metadata": {},
   "outputs": [
    {
     "data": {
      "text/plain": [
       "'Todas las relaciones se cumplen'"
      ]
     },
     "execution_count": 26,
     "metadata": {},
     "output_type": "execute_result"
    }
   ],
   "source": [
    "Tract3(GenLamda3(5)[0],2)"
   ]
  },
  {
   "cell_type": "code",
   "execution_count": 27,
   "id": "6c5a474e-cb38-4eeb-a2af-7fdb62b24f03",
   "metadata": {},
   "outputs": [
    {
     "data": {
      "text/plain": [
       "'Todas las relaciones se cumplen'"
      ]
     },
     "execution_count": 27,
     "metadata": {},
     "output_type": "execute_result"
    }
   ],
   "source": [
    "Tract3(GenLamda3(5)[0],3)"
   ]
  },
  {
   "cell_type": "code",
   "execution_count": 28,
   "id": "fa96c9b7-21f6-462e-bda8-bd5f14b5df08",
   "metadata": {},
   "outputs": [
    {
     "data": {
      "text/plain": [
       "'Todas las relaciones se cumplen'"
      ]
     },
     "execution_count": 28,
     "metadata": {},
     "output_type": "execute_result"
    }
   ],
   "source": [
    "Tract3(GenLamda3(5)[0],4)"
   ]
  },
  {
   "cell_type": "markdown",
   "id": "22db1537-fb58-4481-9f5f-f7302300773d",
   "metadata": {},
   "source": [
    "### Veamos el bracket\n"
   ]
  },
  {
   "cell_type": "code",
   "execution_count": 29,
   "id": "60129ed1-9939-4bf7-84a0-0f11a77595ed",
   "metadata": {},
   "outputs": [],
   "source": [
    "def brat(n,A,B,upI,lwI):\n",
    "    \n",
    "    k = len(upI)\n",
    "    u = 0\n",
    "    \n",
    "    p = combinations(n,k)\n",
    "        \n",
    "    for s in p:\n",
    "        u = u + (t3(n,A,s,lwI)*t3(n,B,upI,s) - t3(n,B,s,lwI)*t3(n,A,upI,s))\n",
    "        \n",
    "    return u    \n",
    "    "
   ]
  },
  {
   "cell_type": "markdown",
   "id": "811d4e58-9275-4992-a5da-a69a03053abe",
   "metadata": {},
   "source": [
    "## Representacion Matricial de los generadores"
   ]
  },
  {
   "cell_type": "code",
   "execution_count": 30,
   "id": "4cf43278-98a4-44f3-85f3-1d5ddc5e0ead",
   "metadata": {},
   "outputs": [],
   "source": [
    "def tM(n,Ma,st,k):\n",
    "    \n",
    "    values = findKCombination(k,n)\n",
    "    dim = len(values)\n",
    "    keys = [i for i in range(0,dim)]\n",
    "    \n",
    "    dic = dict(zip(keys,values))\n",
    "    \n",
    "    matrix = np.zeros((dim,dim),dtype=object)\n",
    "    \n",
    "    if st == 's':\n",
    "        \n",
    "        for i in range(0,dim):\n",
    "            for j in range(i,dim):\n",
    "                matrix[i][j] = np.math.factorial(k)*t3(n,Ma,dic[j],dic[i])\n",
    "                matrix[j][i] = matrix[i][j]\n",
    "                \n",
    "    elif st == 'as':\n",
    "        \n",
    "        for i in range(0,dim):\n",
    "            for j in range(i,dim):\n",
    "                matrix[i][j] = np.math.factorial(k)*t3(n,Ma,dic[j],dic[i])\n",
    "                matrix[j][i] = -matrix[i][j]\n",
    "                \n",
    "    elif st == 'd':\n",
    "        \n",
    "        for i in range(0,dim):\n",
    "            matrix[i][i] = np.math.factorial(k)*t3(n,Ma,dic[i],dic[i])       \n",
    "            \n",
    "    return matrix"
   ]
  },
  {
   "cell_type": "code",
   "execution_count": 31,
   "id": "2d4290aa-f4b5-4443-963e-cdd39cb63491",
   "metadata": {},
   "outputs": [],
   "source": [
    "def tMf(n,k):\n",
    "    \n",
    "    ##############################################################\n",
    "    ############ Todas las matrices y su simetria ################\n",
    "    ##############################################################\n",
    "    \n",
    "    Lamda, Sim = GenLamda3(n)\n",
    "    \n",
    "    ###############################################################\n",
    "    ######## Representacion Matricial de los T ####################\n",
    "    ###############################################################\n",
    "    \n",
    "    a = []\n",
    "    \n",
    "    for u in range(0,n*n-1):\n",
    "        \n",
    "        a.append(tM(n,Lamda[u],Sim[u],k))\n",
    "    \n",
    "    return Lamda,a"
   ]
  },
  {
   "cell_type": "code",
   "execution_count": 32,
   "id": "c0c23d40",
   "metadata": {},
   "outputs": [],
   "source": [
    "def bra(A,B):\n",
    "    \n",
    "    return np.matmul(A,B)-np.matmul(B,A)\n",
    "\n",
    "### Anticomutador\n",
    "\n",
    "\n",
    "def Abra(A,B):\n",
    "    \n",
    "    return np.matmul(A,B)+np.matmul(B,A)\n",
    "\n",
    "def f32(LamdL,n):\n",
    "       \n",
    "    u = range(0,n*n-1)\n",
    "    \n",
    "   # values = [list(v) for v in itertools.product(u, repeat=3)]\n",
    "    di = {}\n",
    "    \n",
    "    for i,j,k in itertools.product(u, repeat=3):\n",
    "        \n",
    "        m = -(1j)*sp.Rational(1,4)*np.trace(np.matmul(LamdL[i],bra(LamdL[j],LamdL[k])))\n",
    "        di[(i,j,k)] = m\n",
    "        \n",
    "    return di "
   ]
  },
  {
   "cell_type": "markdown",
   "id": "bb00528b-b302-4218-a644-aed3829bbfa1",
   "metadata": {},
   "source": [
    "## Generadores $T_I$ \n",
    "\n",
    "En esta parte se calculan todos los $T_I$ en su representacion matricial. Por simplicidad aqui calculare todos los generadores para $n=3$,$n=4$,$n=5$. Para todos los valores de $2 \\leq k < n$."
   ]
  },
  {
   "cell_type": "markdown",
   "id": "174f137e-43f1-4c79-972f-a68f65c9e7d2",
   "metadata": {},
   "source": [
    "### n=3"
   ]
  },
  {
   "cell_type": "code",
   "execution_count": 33,
   "id": "899bfa4e-b842-4719-ba1a-302240918d15",
   "metadata": {},
   "outputs": [],
   "source": [
    "# k=2\n",
    "\n",
    "Lamda_3, T32 = tMf(3,2)"
   ]
  },
  {
   "cell_type": "code",
   "execution_count": 34,
   "id": "dfffb75d",
   "metadata": {},
   "outputs": [],
   "source": [
    "F_3 = f32(Lamda_3,3)"
   ]
  },
  {
   "cell_type": "markdown",
   "id": "0469860d-5ace-46b1-9756-a3ccc763a1c2",
   "metadata": {},
   "source": [
    "### n=4"
   ]
  },
  {
   "cell_type": "code",
   "execution_count": 35,
   "id": "68516b15-8acf-4327-a785-bed36db597b7",
   "metadata": {},
   "outputs": [],
   "source": [
    "# k = 2\n",
    "\n",
    "Lamda_4, T42 = tMf(4,2) \n",
    "\n",
    "# k =3\n",
    "T43 = tMf(4,3)[1]"
   ]
  },
  {
   "cell_type": "code",
   "execution_count": 36,
   "id": "48dcb6a0",
   "metadata": {},
   "outputs": [],
   "source": [
    "F_4 = f32(Lamda_4,4)"
   ]
  },
  {
   "cell_type": "markdown",
   "id": "c24e6179-fc1a-4757-b8d9-cfdb6734ca57",
   "metadata": {},
   "source": [
    "### n = 5"
   ]
  },
  {
   "cell_type": "code",
   "execution_count": 37,
   "id": "7e4ba1ad-88a4-4162-87f9-ecb82c17272a",
   "metadata": {},
   "outputs": [],
   "source": [
    "# k = 2\n",
    "\n",
    "Lamda_5, T52 = tMf(5,2)\n",
    "\n",
    "# k = 3\n",
    "\n",
    "T53 = tMf(5,3)[1]\n",
    "\n",
    "# k = 4\n",
    "\n",
    "T54 = tMf(5,4)[1]"
   ]
  },
  {
   "cell_type": "code",
   "execution_count": 38,
   "id": "120e9763",
   "metadata": {},
   "outputs": [],
   "source": [
    "F_5 = f32(Lamda_5,5)"
   ]
  },
  {
   "cell_type": "markdown",
   "id": "6384364f-3bf2-4609-95c2-c16b8cdaaa0c",
   "metadata": {},
   "source": [
    "### Pruebas de traza y algebra"
   ]
  },
  {
   "cell_type": "markdown",
   "id": "e7b7dff8-93bd-42f9-9222-1f052b35990c",
   "metadata": {},
   "source": [
    "### Algebra"
   ]
  },
  {
   "cell_type": "code",
   "execution_count": 39,
   "id": "d0033344",
   "metadata": {},
   "outputs": [],
   "source": [
    "def rhs3(I,J,Mat,estc,st):\n",
    "    \n",
    "    a = np.zeros((len(Mat[0]),len(Mat[0])))\n",
    "    \n",
    "    for i in range(0,len(Mat)):\n",
    "        if st == 'l':\n",
    "            p = 2j\n",
    "        elif st == 't':\n",
    "            p = 1j\n",
    "        elif st == 'T':\n",
    "            p = 1\n",
    "        u = estc[(I,J,i)]*p*Mat[i]\n",
    "      #  u[u!=0] = np.array([sp.nsimplify(i) for i in u[u!=0]],dtype=object)        \n",
    "        a = a + u\n",
    "        \n",
    "    return a\n",
    "    "
   ]
  },
  {
   "cell_type": "code",
   "execution_count": 40,
   "id": "deba7d62-238c-46f7-9101-0ee51f6ffb4d",
   "metadata": {},
   "outputs": [],
   "source": [
    "def alg3(I,J,Mat,estc,st):\n",
    "    \n",
    "    a = rhs3(I,J,Mat,estc,st)\n",
    "        \n",
    "    b = bra(Mat[I],Mat[J])\n",
    "    \n",
    "    ## Verifiquemos que todo sea del mismo tipo\n",
    "    \n",
    "  #  a[a!=0] = np.array([sp.nsimplify(i) for i in a[a!=0]],dtype=object)\n",
    "  #  b[b!=0] = np.array([sp.nsimplify(i) for i in b[b!=0]],dtype=object)\n",
    "    \n",
    "    if (np.absolute(b-a) < 1.0E-10).all():\n",
    "        return True\n",
    "    else:\n",
    "        return False     "
   ]
  },
  {
   "cell_type": "markdown",
   "id": "de1efae7",
   "metadata": {},
   "source": [
    "### Vamos ahora con las pruebas para cada caso"
   ]
  },
  {
   "cell_type": "code",
   "execution_count": 41,
   "id": "abd9bde6",
   "metadata": {},
   "outputs": [],
   "source": [
    "def Algtest3(Mat,estc,st):\n",
    "    \n",
    "    a = []\n",
    "    \n",
    "    for i,j in combinations(len(Mat),2):\n",
    "        a.append(alg3(i,j,Mat,estc,st))\n",
    "        \n",
    "        # Para saber en que indices no se cumple\n",
    "        \n",
    "        #if alg2(n,i,j,Mat,estc,st) == False:\n",
    "            \n",
    "        #    print(i,j)\n",
    "        \n",
    "    if all(a) == True:\n",
    "        return 'Todas las relaciones se cumplen'\n",
    "    else:\n",
    "        return 'Algo va mal'    "
   ]
  },
  {
   "cell_type": "markdown",
   "id": "7c2a1b86",
   "metadata": {},
   "source": [
    "### Verificando las relaciones de conmutacion de los $\\lambda_I$"
   ]
  },
  {
   "cell_type": "code",
   "execution_count": 42,
   "id": "83bc0582",
   "metadata": {},
   "outputs": [
    {
     "data": {
      "text/plain": [
       "'Todas las relaciones se cumplen'"
      ]
     },
     "execution_count": 42,
     "metadata": {},
     "output_type": "execute_result"
    }
   ],
   "source": [
    "Algtest3(Lamda_3,F_3,'l')"
   ]
  },
  {
   "cell_type": "code",
   "execution_count": 43,
   "id": "b5878785",
   "metadata": {},
   "outputs": [
    {
     "data": {
      "text/plain": [
       "'Todas las relaciones se cumplen'"
      ]
     },
     "execution_count": 43,
     "metadata": {},
     "output_type": "execute_result"
    }
   ],
   "source": [
    "Algtest3(Lamda_4,F_4,'l')"
   ]
  },
  {
   "cell_type": "code",
   "execution_count": 44,
   "id": "9386a259",
   "metadata": {},
   "outputs": [
    {
     "data": {
      "text/plain": [
       "'Todas las relaciones se cumplen'"
      ]
     },
     "execution_count": 44,
     "metadata": {},
     "output_type": "execute_result"
    }
   ],
   "source": [
    "Algtest3(Lamda_5,F_5,'l')"
   ]
  },
  {
   "cell_type": "markdown",
   "id": "c518bdbb",
   "metadata": {},
   "source": [
    "### Verificando las relaciones de commutacion de los $t_I$"
   ]
  },
  {
   "cell_type": "code",
   "execution_count": 45,
   "id": "c9f2c9bd",
   "metadata": {},
   "outputs": [
    {
     "data": {
      "text/plain": [
       "'Todas las relaciones se cumplen'"
      ]
     },
     "execution_count": 45,
     "metadata": {},
     "output_type": "execute_result"
    }
   ],
   "source": [
    "Algtest3(T32,F_3,'t')"
   ]
  },
  {
   "cell_type": "code",
   "execution_count": 46,
   "id": "55231dd0",
   "metadata": {},
   "outputs": [
    {
     "data": {
      "text/plain": [
       "'Todas las relaciones se cumplen'"
      ]
     },
     "execution_count": 46,
     "metadata": {},
     "output_type": "execute_result"
    }
   ],
   "source": [
    "Algtest3(T42,F_4,'t')"
   ]
  },
  {
   "cell_type": "code",
   "execution_count": 47,
   "id": "be0b4d65",
   "metadata": {},
   "outputs": [
    {
     "data": {
      "text/plain": [
       "'Todas las relaciones se cumplen'"
      ]
     },
     "execution_count": 47,
     "metadata": {},
     "output_type": "execute_result"
    }
   ],
   "source": [
    "Algtest3(T43,F_4,'t')"
   ]
  },
  {
   "cell_type": "code",
   "execution_count": 48,
   "id": "c473e2e2",
   "metadata": {},
   "outputs": [
    {
     "data": {
      "text/plain": [
       "'Todas las relaciones se cumplen'"
      ]
     },
     "execution_count": 48,
     "metadata": {},
     "output_type": "execute_result"
    }
   ],
   "source": [
    "Algtest3(T52,F_5,'t')"
   ]
  },
  {
   "cell_type": "code",
   "execution_count": 49,
   "id": "74c9eb6e-bc21-47b9-8a69-6bc2e968f2de",
   "metadata": {},
   "outputs": [
    {
     "data": {
      "text/plain": [
       "'Todas las relaciones se cumplen'"
      ]
     },
     "execution_count": 49,
     "metadata": {},
     "output_type": "execute_result"
    }
   ],
   "source": [
    "Algtest3(T53,F_5,'t')"
   ]
  },
  {
   "cell_type": "code",
   "execution_count": 50,
   "id": "bd597c70-10bd-41f2-a860-4c21d8a3c00e",
   "metadata": {},
   "outputs": [
    {
     "data": {
      "text/plain": [
       "'Todas las relaciones se cumplen'"
      ]
     },
     "execution_count": 50,
     "metadata": {},
     "output_type": "execute_result"
    }
   ],
   "source": [
    "Algtest3(T54,F_5,'t')"
   ]
  },
  {
   "cell_type": "markdown",
   "id": "e2484aa6-8ea8-423f-a2e1-c999c7e1d20a",
   "metadata": {},
   "source": [
    "### Verificando la traza"
   ]
  },
  {
   "cell_type": "code",
   "execution_count": 51,
   "id": "2c393a18-8bed-49b4-b9b6-297ef6d8f018",
   "metadata": {},
   "outputs": [],
   "source": [
    "def checkTTmat(tmat,n,k):\n",
    "    \n",
    "    s = []\n",
    "    \n",
    "    rs = sp.Rational(np.math.factorial(n-2),2*np.math.factorial(k-1)*np.math.factorial(n-k-1))\n",
    "    \n",
    "    for i,j in itertools.product(range(0,len(tmat)), repeat=2):\n",
    "        \n",
    "        if abs(Traza(tmat[i],tmat[j]) - rs*Delta([i],[j])) < 1.0E-10:\n",
    "            s.append(True)\n",
    "        else:\n",
    "            print(i,j)\n",
    "            s.append(False)\n",
    "    \n",
    "    \n",
    "    if all(s) == True:\n",
    "        return 'Todas las relaciones se cumplen'\n",
    "    else:\n",
    "        return 'Algo va mal'"
   ]
  },
  {
   "cell_type": "code",
   "execution_count": 52,
   "id": "6ea6769b-bcf1-45cf-aa5d-ec23744c4db3",
   "metadata": {},
   "outputs": [
    {
     "data": {
      "text/plain": [
       "'Todas las relaciones se cumplen'"
      ]
     },
     "execution_count": 52,
     "metadata": {},
     "output_type": "execute_result"
    }
   ],
   "source": [
    "checkTTmat(T32,3,2)"
   ]
  },
  {
   "cell_type": "code",
   "execution_count": 53,
   "id": "33427eb6-e319-4ae1-83d8-07614da33bd4",
   "metadata": {},
   "outputs": [
    {
     "data": {
      "text/plain": [
       "'Todas las relaciones se cumplen'"
      ]
     },
     "execution_count": 53,
     "metadata": {},
     "output_type": "execute_result"
    }
   ],
   "source": [
    "checkTTmat(T42,4,2)"
   ]
  },
  {
   "cell_type": "code",
   "execution_count": 54,
   "id": "d61dea9e-c74d-4a62-a0c2-0d25bc1c2a1f",
   "metadata": {},
   "outputs": [
    {
     "data": {
      "text/plain": [
       "'Todas las relaciones se cumplen'"
      ]
     },
     "execution_count": 54,
     "metadata": {},
     "output_type": "execute_result"
    }
   ],
   "source": [
    "checkTTmat(T43,4,3)"
   ]
  },
  {
   "cell_type": "code",
   "execution_count": 55,
   "id": "5490ab5f-3aeb-49d7-9af2-8c180db47f93",
   "metadata": {},
   "outputs": [
    {
     "data": {
      "text/plain": [
       "'Todas las relaciones se cumplen'"
      ]
     },
     "execution_count": 55,
     "metadata": {},
     "output_type": "execute_result"
    }
   ],
   "source": [
    "checkTTmat(T52,5,2)"
   ]
  },
  {
   "cell_type": "code",
   "execution_count": 56,
   "id": "aea0a7c0-0ea5-4947-b999-81660362ed01",
   "metadata": {},
   "outputs": [
    {
     "data": {
      "text/plain": [
       "'Todas las relaciones se cumplen'"
      ]
     },
     "execution_count": 56,
     "metadata": {},
     "output_type": "execute_result"
    }
   ],
   "source": [
    "checkTTmat(T53,5,3)"
   ]
  },
  {
   "cell_type": "code",
   "execution_count": 57,
   "id": "ac3695ea-8e87-4a79-9c09-0025c2c9aa7f",
   "metadata": {},
   "outputs": [
    {
     "data": {
      "text/plain": [
       "'Todas las relaciones se cumplen'"
      ]
     },
     "execution_count": 57,
     "metadata": {},
     "output_type": "execute_result"
    }
   ],
   "source": [
    "checkTTmat(T54,5,4)"
   ]
  },
  {
   "cell_type": "markdown",
   "id": "ba55070f-9663-4914-9eb3-b0130da99982",
   "metadata": {},
   "source": [
    "### Vamos ahora a calcular los $T_I$\n",
    "\n",
    "En base a los cambios anteriores yo colocaria \n",
    "\n",
    "$(T_I)^{A}_{B} = i(t^t_I)^{A}_{B}$"
   ]
  },
  {
   "cell_type": "code",
   "execution_count": 58,
   "id": "1a6609a2-404f-4ed2-bf93-7bc2486991a2",
   "metadata": {},
   "outputs": [],
   "source": [
    "def Ts(tm):\n",
    "    \n",
    "    s = tm[0].shape\n",
    "    a = []\n",
    "    \n",
    "    for k in tm:\n",
    "        \n",
    "        u = np.array(np.zeros((s[0]+4,s[0]+4),dtype=object))\n",
    "        u[4:,4:] = (1j)*np.transpose(k)\n",
    "        a.append(u)\n",
    "        \n",
    "    return a   "
   ]
  },
  {
   "cell_type": "code",
   "execution_count": 59,
   "id": "025b36d5-8114-4494-baf3-fa54884bd54e",
   "metadata": {},
   "outputs": [],
   "source": [
    "TF32 = Ts(T32)\n",
    "TF42 = Ts(T42)\n",
    "TF43 = Ts(T43)\n",
    "TF52 = Ts(T52)\n",
    "TF53 = Ts(T53)\n",
    "TF54 = Ts(T54)"
   ]
  },
  {
   "cell_type": "code",
   "execution_count": 60,
   "id": "5093e10e-2fa8-4ada-83d1-2e9a2419bde0",
   "metadata": {},
   "outputs": [
    {
     "data": {
      "text/plain": [
       "'Todas las relaciones se cumplen'"
      ]
     },
     "execution_count": 60,
     "metadata": {},
     "output_type": "execute_result"
    }
   ],
   "source": [
    "Algtest3(TF32,F_3,'T')"
   ]
  },
  {
   "cell_type": "code",
   "execution_count": 61,
   "id": "b1da8d61-404f-4b26-b0c1-12b20f584ece",
   "metadata": {},
   "outputs": [
    {
     "data": {
      "text/plain": [
       "'Todas las relaciones se cumplen'"
      ]
     },
     "execution_count": 61,
     "metadata": {},
     "output_type": "execute_result"
    }
   ],
   "source": [
    "Algtest3(TF42,F_4,'T')"
   ]
  },
  {
   "cell_type": "code",
   "execution_count": 62,
   "id": "debe5aef-d775-4c9c-bacd-f6b14e62170e",
   "metadata": {},
   "outputs": [
    {
     "data": {
      "text/plain": [
       "'Todas las relaciones se cumplen'"
      ]
     },
     "execution_count": 62,
     "metadata": {},
     "output_type": "execute_result"
    }
   ],
   "source": [
    "Algtest3(TF43,F_4,'T')"
   ]
  },
  {
   "cell_type": "code",
   "execution_count": 63,
   "id": "6f114651-7d2d-4437-8bbc-5094625a06d6",
   "metadata": {},
   "outputs": [
    {
     "data": {
      "text/plain": [
       "'Todas las relaciones se cumplen'"
      ]
     },
     "execution_count": 63,
     "metadata": {},
     "output_type": "execute_result"
    }
   ],
   "source": [
    "Algtest3(TF52,F_5,'T')"
   ]
  },
  {
   "cell_type": "code",
   "execution_count": 64,
   "id": "cd8052f1-01a9-4a1d-bdd5-fa6ae793e5f0",
   "metadata": {},
   "outputs": [
    {
     "data": {
      "text/plain": [
       "'Todas las relaciones se cumplen'"
      ]
     },
     "execution_count": 64,
     "metadata": {},
     "output_type": "execute_result"
    }
   ],
   "source": [
    "Algtest3(TF53,F_5,'T')"
   ]
  },
  {
   "cell_type": "code",
   "execution_count": 65,
   "id": "889d7437-d527-42eb-97c1-9ab225bd8808",
   "metadata": {},
   "outputs": [
    {
     "data": {
      "text/plain": [
       "'Todas las relaciones se cumplen'"
      ]
     },
     "execution_count": 65,
     "metadata": {},
     "output_type": "execute_result"
    }
   ],
   "source": [
    "Algtest3(TF54,F_5,'T')"
   ]
  },
  {
   "cell_type": "markdown",
   "id": "f66d6f9c-af18-4e57-ad10-934cc57cdb3e",
   "metadata": {},
   "source": [
    "## Verifiquemos la propiedad $T_I^\\dagger = - T_I$"
   ]
  },
  {
   "cell_type": "code",
   "execution_count": 66,
   "id": "4fe78b5d-9eda-4a6f-aa9e-3576e6fbf5c5",
   "metadata": {},
   "outputs": [],
   "source": [
    "def anticheck(Matrix):\n",
    "    \n",
    "    a = []\n",
    "    \n",
    "    for i in Matrix:\n",
    "        \n",
    "        u = np.conjugate(np.transpose(i))\n",
    "        \n",
    "        if (u == -i).all():\n",
    "            a.append(True)\n",
    "        else:\n",
    "            a.append(False)\n",
    "            \n",
    "    \n",
    "    if all(a) == True:\n",
    "        return 'Todas las relaciones se cumplen'\n",
    "    else:\n",
    "        return 'Algo va mal'            "
   ]
  },
  {
   "cell_type": "code",
   "execution_count": 67,
   "id": "349e2295-d48c-48dd-8f35-9ee7cbc0de91",
   "metadata": {},
   "outputs": [
    {
     "data": {
      "text/plain": [
       "'Todas las relaciones se cumplen'"
      ]
     },
     "execution_count": 67,
     "metadata": {},
     "output_type": "execute_result"
    }
   ],
   "source": [
    "anticheck(TF32)"
   ]
  },
  {
   "cell_type": "code",
   "execution_count": 68,
   "id": "c4e109ca-baa5-4cba-8222-f6fe8a2379b4",
   "metadata": {},
   "outputs": [
    {
     "data": {
      "text/plain": [
       "'Todas las relaciones se cumplen'"
      ]
     },
     "execution_count": 68,
     "metadata": {},
     "output_type": "execute_result"
    }
   ],
   "source": [
    "anticheck(TF42)"
   ]
  },
  {
   "cell_type": "code",
   "execution_count": 69,
   "id": "a05f13a4-8ddb-4cbe-b510-4456b379f71d",
   "metadata": {},
   "outputs": [
    {
     "data": {
      "text/plain": [
       "'Todas las relaciones se cumplen'"
      ]
     },
     "execution_count": 69,
     "metadata": {},
     "output_type": "execute_result"
    }
   ],
   "source": [
    "anticheck(TF43)"
   ]
  },
  {
   "cell_type": "code",
   "execution_count": 70,
   "id": "76e86e27-e481-4609-8ff4-8d71263270b1",
   "metadata": {},
   "outputs": [
    {
     "data": {
      "text/plain": [
       "'Todas las relaciones se cumplen'"
      ]
     },
     "execution_count": 70,
     "metadata": {},
     "output_type": "execute_result"
    }
   ],
   "source": [
    "anticheck(TF52)"
   ]
  },
  {
   "cell_type": "code",
   "execution_count": 71,
   "id": "b1c7024a-f586-463e-8d8e-0f5b203257ee",
   "metadata": {},
   "outputs": [
    {
     "data": {
      "text/plain": [
       "'Todas las relaciones se cumplen'"
      ]
     },
     "execution_count": 71,
     "metadata": {},
     "output_type": "execute_result"
    }
   ],
   "source": [
    "anticheck(TF53)"
   ]
  },
  {
   "cell_type": "code",
   "execution_count": 72,
   "id": "1e8ab879-d357-4572-a8c5-30766c5834c0",
   "metadata": {},
   "outputs": [
    {
     "data": {
      "text/plain": [
       "'Todas las relaciones se cumplen'"
      ]
     },
     "execution_count": 72,
     "metadata": {},
     "output_type": "execute_result"
    }
   ],
   "source": [
    "anticheck(TF54)"
   ]
  },
  {
   "cell_type": "code",
   "execution_count": 73,
   "id": "a2509b22-2698-4858-aade-205174dbf666",
   "metadata": {},
   "outputs": [],
   "source": [
    "def Gamma(n,k):\n",
    "    \n",
    "    d = TraDelta(n,k)\n",
    "    \n",
    "    u = np.array(np.zeros((d+4,d+4),dtype=object))\n",
    "\n",
    "    for i in range(0,4): u[i][i] = 1\n",
    "    \n",
    "    for i in range(4,d+4): u[i][i] = -1#sp.Rational(d,np.math.factorial(k))\n",
    "    \n",
    "    return u\n",
    "    "
   ]
  },
  {
   "cell_type": "code",
   "execution_count": 74,
   "id": "c8a3a079-dda3-4c29-a088-e39a7e41cebe",
   "metadata": {},
   "outputs": [
    {
     "data": {
      "text/plain": [
       "array([[1, 0, 0, 0, 0, 0, 0, 0, 0, 0],\n",
       "       [0, 1, 0, 0, 0, 0, 0, 0, 0, 0],\n",
       "       [0, 0, 1, 0, 0, 0, 0, 0, 0, 0],\n",
       "       [0, 0, 0, 1, 0, 0, 0, 0, 0, 0],\n",
       "       [0, 0, 0, 0, -1, 0, 0, 0, 0, 0],\n",
       "       [0, 0, 0, 0, 0, -1, 0, 0, 0, 0],\n",
       "       [0, 0, 0, 0, 0, 0, -1, 0, 0, 0],\n",
       "       [0, 0, 0, 0, 0, 0, 0, -1, 0, 0],\n",
       "       [0, 0, 0, 0, 0, 0, 0, 0, -1, 0],\n",
       "       [0, 0, 0, 0, 0, 0, 0, 0, 0, -1]], dtype=object)"
      ]
     },
     "execution_count": 74,
     "metadata": {},
     "output_type": "execute_result"
    }
   ],
   "source": [
    "Gamma(4,2)"
   ]
  },
  {
   "cell_type": "code",
   "execution_count": 75,
   "id": "c1cbab30-da3d-4919-9f50-d45e8e8ac7a1",
   "metadata": {},
   "outputs": [],
   "source": [
    "def superTr(n,k,mat):\n",
    "    \n",
    "    s = Gamma(n,k)\n",
    "    \n",
    "    l = []\n",
    "    \n",
    "    rs = sp.Rational(np.math.factorial(n-2),2*np.math.factorial(k-1)*np.math.factorial(n-k-1))\n",
    "    \n",
    "    for i,j in itertools.product(range(0,n*n-1), repeat=2):\n",
    "        \n",
    "        t = np.matmul(s,np.matmul(mat[i],mat[j],dtype=object),dtype=object)\n",
    "        \n",
    "     #   t[t!=0] = np.array([sp.nsimplify(o) for o in t[t!=0]],dtype=object)\n",
    "        \n",
    "        u = np.trace(t)\n",
    "        \n",
    "        if abs((u - rs*Delta([i],[j]))) < 1.0E-10 :\n",
    "            l.append(True)\n",
    "        else:\n",
    "            l.append(False)\n",
    "            print(u,sp.nsimplify(rs*Delta([i],[j])))\n",
    "    \n",
    "    \n",
    "    if all(l) == True:\n",
    "        return 'Todas las relaciones se cumplen'\n",
    "    else:\n",
    "        return 'Algo va mal'\n",
    "       \n",
    "    return l        "
   ]
  },
  {
   "cell_type": "code",
   "execution_count": 76,
   "id": "f5f41c17-eadb-47ad-b63d-e97604ab70e2",
   "metadata": {},
   "outputs": [
    {
     "data": {
      "text/plain": [
       "'Todas las relaciones se cumplen'"
      ]
     },
     "execution_count": 76,
     "metadata": {},
     "output_type": "execute_result"
    }
   ],
   "source": [
    "superTr(3,2,TF32)"
   ]
  },
  {
   "cell_type": "code",
   "execution_count": 77,
   "id": "9c1c1ded-bff8-4b6d-b66e-5eeb55baa5ba",
   "metadata": {},
   "outputs": [
    {
     "data": {
      "text/plain": [
       "'Todas las relaciones se cumplen'"
      ]
     },
     "execution_count": 77,
     "metadata": {},
     "output_type": "execute_result"
    }
   ],
   "source": [
    "superTr(4,2,TF42)"
   ]
  },
  {
   "cell_type": "code",
   "execution_count": 78,
   "id": "2d03da79-1ec0-4046-a252-b608469e62c8",
   "metadata": {},
   "outputs": [
    {
     "data": {
      "text/plain": [
       "'Todas las relaciones se cumplen'"
      ]
     },
     "execution_count": 78,
     "metadata": {},
     "output_type": "execute_result"
    }
   ],
   "source": [
    "superTr(4,3,TF43)"
   ]
  },
  {
   "cell_type": "code",
   "execution_count": 79,
   "id": "5c292c57-a3ae-4af8-8dc8-ede6328b5e58",
   "metadata": {},
   "outputs": [
    {
     "data": {
      "text/plain": [
       "'Todas las relaciones se cumplen'"
      ]
     },
     "execution_count": 79,
     "metadata": {},
     "output_type": "execute_result"
    }
   ],
   "source": [
    "superTr(5,2,TF52)"
   ]
  },
  {
   "cell_type": "code",
   "execution_count": 80,
   "id": "2b1dab96-33a2-483c-a787-2f220815b7be",
   "metadata": {},
   "outputs": [
    {
     "data": {
      "text/plain": [
       "'Todas las relaciones se cumplen'"
      ]
     },
     "execution_count": 80,
     "metadata": {},
     "output_type": "execute_result"
    }
   ],
   "source": [
    "superTr(5,3,TF53)"
   ]
  },
  {
   "cell_type": "code",
   "execution_count": 81,
   "id": "a1074b5d-e084-44ce-89da-8ac639cbb8d3",
   "metadata": {},
   "outputs": [
    {
     "data": {
      "text/plain": [
       "'Todas las relaciones se cumplen'"
      ]
     },
     "execution_count": 81,
     "metadata": {},
     "output_type": "execute_result"
    }
   ],
   "source": [
    "superTr(5,4,TF54)"
   ]
  },
  {
   "cell_type": "markdown",
   "id": "65fafdfd-0486-4352-868b-33629713c580",
   "metadata": {},
   "source": [
    "### Las Cargas susy:\n",
    "\n",
    "$(Q_{i'}^\\alpha)^A_B = k! \\Delta^A_{i'+4} \\delta^\\alpha_{B} \\quad (\\bar{Q}^{i'}_\\alpha)^A_B = k!  \\delta_\\alpha^{A}\\Delta_B^{i'+4}$"
   ]
  },
  {
   "cell_type": "code",
   "execution_count": 82,
   "id": "e0949e4c-c8fc-4dd9-bb47-1e8d95d2fe76",
   "metadata": {},
   "outputs": [],
   "source": [
    "def char(d,k,a,i):\n",
    "    \n",
    "   # d = TraDelta(n,k)\n",
    "    \n",
    "    u = np.zeros((d+4,d+4),dtype=object)\n",
    "    \n",
    "    u[i+4][a] = np.math.factorial(k)*1\n",
    "        \n",
    "    return u\n",
    "    \n",
    "def charB(d,k,a,i):\n",
    "    \n",
    "   # d = TraDelta(n,k)\n",
    "    \n",
    "    u = np.zeros((d+4,d+4),dtype=object)\n",
    "    \n",
    "    u[a][i+4] = np.math.factorial(k)*1\n",
    "        \n",
    "    return u    "
   ]
  },
  {
   "cell_type": "markdown",
   "id": "98defdfa-6dde-4e2f-9739-f4b4ba4e970a",
   "metadata": {},
   "source": [
    "### Vamos a generarlas todas ahora"
   ]
  },
  {
   "cell_type": "code",
   "execution_count": 83,
   "id": "888c27b7-ee3c-4817-9974-3b62a0023864",
   "metadata": {},
   "outputs": [],
   "source": [
    "def Charges(n,k):\n",
    "    \n",
    "    d = TraDelta(n,k)\n",
    "    p = {}\n",
    "    \n",
    "    for a in range(0,4):\n",
    "        for i in range(0,d):\n",
    "            \n",
    "            p[(a,i)] = char(d,k,a,i)\n",
    "            \n",
    "    return p \n",
    "\n",
    "def ChargesB(n,k):\n",
    "    \n",
    "    d = TraDelta(n,k)\n",
    "    p = {}\n",
    "    \n",
    "    for a in range(0,4):\n",
    "        for i in range(0,d):\n",
    "            \n",
    "            p[(i,a)] = charB(d,k,a,i)\n",
    "            \n",
    "    return p    "
   ]
  },
  {
   "cell_type": "code",
   "execution_count": 84,
   "id": "4555787b-42c7-42b3-83ed-5c84aeb347c2",
   "metadata": {},
   "outputs": [],
   "source": [
    "Q32 = Charges(3,2)\n",
    "QB32 = ChargesB(3,2)"
   ]
  },
  {
   "cell_type": "code",
   "execution_count": 85,
   "id": "45b0be57-70ca-4e23-b419-413e6e6d1aa7",
   "metadata": {},
   "outputs": [
    {
     "data": {
      "text/plain": [
       "{(0,\n",
       "  0): array([[0, 0, 0, 0, 0, 0, 0],\n",
       "        [0, 0, 0, 0, 0, 0, 0],\n",
       "        [0, 0, 0, 0, 0, 0, 0],\n",
       "        [0, 0, 0, 0, 0, 0, 0],\n",
       "        [2, 0, 0, 0, 0, 0, 0],\n",
       "        [0, 0, 0, 0, 0, 0, 0],\n",
       "        [0, 0, 0, 0, 0, 0, 0]], dtype=object),\n",
       " (0,\n",
       "  1): array([[0, 0, 0, 0, 0, 0, 0],\n",
       "        [0, 0, 0, 0, 0, 0, 0],\n",
       "        [0, 0, 0, 0, 0, 0, 0],\n",
       "        [0, 0, 0, 0, 0, 0, 0],\n",
       "        [0, 0, 0, 0, 0, 0, 0],\n",
       "        [2, 0, 0, 0, 0, 0, 0],\n",
       "        [0, 0, 0, 0, 0, 0, 0]], dtype=object),\n",
       " (0,\n",
       "  2): array([[0, 0, 0, 0, 0, 0, 0],\n",
       "        [0, 0, 0, 0, 0, 0, 0],\n",
       "        [0, 0, 0, 0, 0, 0, 0],\n",
       "        [0, 0, 0, 0, 0, 0, 0],\n",
       "        [0, 0, 0, 0, 0, 0, 0],\n",
       "        [0, 0, 0, 0, 0, 0, 0],\n",
       "        [2, 0, 0, 0, 0, 0, 0]], dtype=object),\n",
       " (1,\n",
       "  0): array([[0, 0, 0, 0, 0, 0, 0],\n",
       "        [0, 0, 0, 0, 0, 0, 0],\n",
       "        [0, 0, 0, 0, 0, 0, 0],\n",
       "        [0, 0, 0, 0, 0, 0, 0],\n",
       "        [0, 2, 0, 0, 0, 0, 0],\n",
       "        [0, 0, 0, 0, 0, 0, 0],\n",
       "        [0, 0, 0, 0, 0, 0, 0]], dtype=object),\n",
       " (1,\n",
       "  1): array([[0, 0, 0, 0, 0, 0, 0],\n",
       "        [0, 0, 0, 0, 0, 0, 0],\n",
       "        [0, 0, 0, 0, 0, 0, 0],\n",
       "        [0, 0, 0, 0, 0, 0, 0],\n",
       "        [0, 0, 0, 0, 0, 0, 0],\n",
       "        [0, 2, 0, 0, 0, 0, 0],\n",
       "        [0, 0, 0, 0, 0, 0, 0]], dtype=object),\n",
       " (1,\n",
       "  2): array([[0, 0, 0, 0, 0, 0, 0],\n",
       "        [0, 0, 0, 0, 0, 0, 0],\n",
       "        [0, 0, 0, 0, 0, 0, 0],\n",
       "        [0, 0, 0, 0, 0, 0, 0],\n",
       "        [0, 0, 0, 0, 0, 0, 0],\n",
       "        [0, 0, 0, 0, 0, 0, 0],\n",
       "        [0, 2, 0, 0, 0, 0, 0]], dtype=object),\n",
       " (2,\n",
       "  0): array([[0, 0, 0, 0, 0, 0, 0],\n",
       "        [0, 0, 0, 0, 0, 0, 0],\n",
       "        [0, 0, 0, 0, 0, 0, 0],\n",
       "        [0, 0, 0, 0, 0, 0, 0],\n",
       "        [0, 0, 2, 0, 0, 0, 0],\n",
       "        [0, 0, 0, 0, 0, 0, 0],\n",
       "        [0, 0, 0, 0, 0, 0, 0]], dtype=object),\n",
       " (2,\n",
       "  1): array([[0, 0, 0, 0, 0, 0, 0],\n",
       "        [0, 0, 0, 0, 0, 0, 0],\n",
       "        [0, 0, 0, 0, 0, 0, 0],\n",
       "        [0, 0, 0, 0, 0, 0, 0],\n",
       "        [0, 0, 0, 0, 0, 0, 0],\n",
       "        [0, 0, 2, 0, 0, 0, 0],\n",
       "        [0, 0, 0, 0, 0, 0, 0]], dtype=object),\n",
       " (2,\n",
       "  2): array([[0, 0, 0, 0, 0, 0, 0],\n",
       "        [0, 0, 0, 0, 0, 0, 0],\n",
       "        [0, 0, 0, 0, 0, 0, 0],\n",
       "        [0, 0, 0, 0, 0, 0, 0],\n",
       "        [0, 0, 0, 0, 0, 0, 0],\n",
       "        [0, 0, 0, 0, 0, 0, 0],\n",
       "        [0, 0, 2, 0, 0, 0, 0]], dtype=object),\n",
       " (3,\n",
       "  0): array([[0, 0, 0, 0, 0, 0, 0],\n",
       "        [0, 0, 0, 0, 0, 0, 0],\n",
       "        [0, 0, 0, 0, 0, 0, 0],\n",
       "        [0, 0, 0, 0, 0, 0, 0],\n",
       "        [0, 0, 0, 2, 0, 0, 0],\n",
       "        [0, 0, 0, 0, 0, 0, 0],\n",
       "        [0, 0, 0, 0, 0, 0, 0]], dtype=object),\n",
       " (3,\n",
       "  1): array([[0, 0, 0, 0, 0, 0, 0],\n",
       "        [0, 0, 0, 0, 0, 0, 0],\n",
       "        [0, 0, 0, 0, 0, 0, 0],\n",
       "        [0, 0, 0, 0, 0, 0, 0],\n",
       "        [0, 0, 0, 0, 0, 0, 0],\n",
       "        [0, 0, 0, 2, 0, 0, 0],\n",
       "        [0, 0, 0, 0, 0, 0, 0]], dtype=object),\n",
       " (3,\n",
       "  2): array([[0, 0, 0, 0, 0, 0, 0],\n",
       "        [0, 0, 0, 0, 0, 0, 0],\n",
       "        [0, 0, 0, 0, 0, 0, 0],\n",
       "        [0, 0, 0, 0, 0, 0, 0],\n",
       "        [0, 0, 0, 0, 0, 0, 0],\n",
       "        [0, 0, 0, 0, 0, 0, 0],\n",
       "        [0, 0, 0, 2, 0, 0, 0]], dtype=object)}"
      ]
     },
     "execution_count": 85,
     "metadata": {},
     "output_type": "execute_result"
    }
   ],
   "source": [
    "Q32"
   ]
  },
  {
   "cell_type": "code",
   "execution_count": 86,
   "id": "53ea4008-aeef-420c-8b47-b57d4a59b6f3",
   "metadata": {},
   "outputs": [],
   "source": [
    "Q42 = Charges(4,2)\n",
    "QB42 = ChargesB(4,2)\n",
    "\n",
    "Q43 = Charges(4,3)\n",
    "QB43 = ChargesB(4,3)"
   ]
  },
  {
   "cell_type": "code",
   "execution_count": 87,
   "id": "2da0fcee-8d1b-4e43-9cde-20348316227e",
   "metadata": {},
   "outputs": [],
   "source": [
    "Q52 = Charges(5,2)\n",
    "QB52 = ChargesB(5,2)\n",
    "\n",
    "Q53 = Charges(5,3)\n",
    "QB53 = ChargesB(5,3)\n",
    "\n",
    "Q54 = Charges(5,4)\n",
    "QB54 = ChargesB(5,4)"
   ]
  },
  {
   "cell_type": "markdown",
   "id": "f01323f2-2571-4297-8047-dd14528252af",
   "metadata": {},
   "source": [
    "### Los conmutadores \n",
    "\n",
    "$[T_I,Q^\\alpha_{i'}] = i(t_I)_{i'}^{\\ \\ j'}Q^\\alpha_{j'}$\n",
    "\n",
    "$[T_I,\\bar{Q}_\\alpha^{i'}] = -i\\bar{Q}_\\alpha^{j'}(t_I)^{\\ \\ i'}_{j'}$"
   ]
  },
  {
   "cell_type": "code",
   "execution_count": 88,
   "id": "fb38787b-9665-4ff9-909c-ad36c47ebc27",
   "metadata": {},
   "outputs": [],
   "source": [
    "def rhsQ(n,k,Mat,tmat,I,i,a,st):\n",
    "    \n",
    "    d = TraDelta(n,k)\n",
    "    \n",
    "    p = np.zeros((d+4,d+4),dtype=object)\n",
    "    \n",
    "    for s in range(0,d):\n",
    "        \n",
    "        if st == 'Q':\n",
    "            u = (tmat[I])[i][s]*Mat[(a,s)]\n",
    "           # u[u!=0] = np.array([sp.nsimplify(i) for i in u[u!=0]],dtype=object)\n",
    "        \n",
    "            p = p + u\n",
    "            \n",
    "        elif st == 'QB':\n",
    "            \n",
    "            u = (tmat[I])[s][i]*Mat[(s,a)]\n",
    "            #u[u!=0] = np.array([sp.nsimplify(i) for i in u[u!=0]],dtype=object)\n",
    "        \n",
    "            p = p + u\n",
    "            \n",
    "    if st == 'Q':\n",
    "        return (1j)*p\n",
    "        \n",
    "    elif st == 'QB':\n",
    "        return -(1j)*p\n",
    "\n",
    "def algQ(n,k,Tmat,tmat,Mat,I,i,al,st):\n",
    "    \n",
    "    a = rhsQ(n,k,Mat,tmat,I,i,al,st)\n",
    "    \n",
    "    if st == 'Q':\n",
    "        \n",
    "        b = bra(Tmat[I],Mat[(al,i)])\n",
    "    \n",
    "    elif st == 'QB':\n",
    "        \n",
    "        b = bra(Tmat[I],Mat[(i,al)])\n",
    "        \n",
    "    ## Verifiquemos que todo sea del mismo tipo\n",
    "    \n",
    "    #a[a!=0] = np.array([sp.nsimplify(s) for s in a[a!=0]],dtype=object)\n",
    "    #b[b!=0] = np.array([sp.nsimplify(s) for s in b[b!=0]],dtype=object)\n",
    "    \n",
    "    if (np.absolute(b - a) < 1.0E-10).all():\n",
    "        return True\n",
    "    else:\n",
    "        return False \n",
    "    \n",
    "def AlgtestQ(n,k,Tmat,tmat,Mat,st):\n",
    "    \n",
    "    a = []\n",
    "    \n",
    "    d = TraDelta(n,k)\n",
    "    \n",
    "    for I in range(0,n*n-1):\n",
    "        for al in range(0,4):\n",
    "            for i in range(0,d):\n",
    "                a.append(algQ(n,k,Tmat,tmat,Mat,I,i,al,st))\n",
    "    \n",
    "        # Para saber en que indices no se cumple\n",
    "        \n",
    "        #if alg2(n,i,j,Mat,estc,st) == False:\n",
    "            \n",
    "        #    print(i,j)\n",
    "        \n",
    "    if all(a) == True:\n",
    "        return 'Todas las relaciones se cumplen'\n",
    "    else:\n",
    "        return 'Algo va mal'    "
   ]
  },
  {
   "cell_type": "code",
   "execution_count": 89,
   "id": "9723bc26-d305-4a45-b844-7858180246ae",
   "metadata": {},
   "outputs": [
    {
     "data": {
      "text/plain": [
       "'Todas las relaciones se cumplen'"
      ]
     },
     "execution_count": 89,
     "metadata": {},
     "output_type": "execute_result"
    }
   ],
   "source": [
    "AlgtestQ(3,2,TF32,T32,Q32,'Q')"
   ]
  },
  {
   "cell_type": "code",
   "execution_count": 90,
   "id": "833e8ed8-bb9c-44b6-86f5-6d864bc44b92",
   "metadata": {},
   "outputs": [
    {
     "data": {
      "text/plain": [
       "'Todas las relaciones se cumplen'"
      ]
     },
     "execution_count": 90,
     "metadata": {},
     "output_type": "execute_result"
    }
   ],
   "source": [
    "AlgtestQ(3,2,TF32,T32,QB32,'QB')"
   ]
  },
  {
   "cell_type": "code",
   "execution_count": 91,
   "id": "5b4140c3-1ac7-4495-94fa-d42db912d0ee",
   "metadata": {},
   "outputs": [
    {
     "data": {
      "text/plain": [
       "'Todas las relaciones se cumplen'"
      ]
     },
     "execution_count": 91,
     "metadata": {},
     "output_type": "execute_result"
    }
   ],
   "source": [
    "AlgtestQ(4,2,TF42,T42,Q42,'Q')"
   ]
  },
  {
   "cell_type": "code",
   "execution_count": 92,
   "id": "687f8ff3-29e6-482d-bd04-9e1cee592d9b",
   "metadata": {},
   "outputs": [
    {
     "data": {
      "text/plain": [
       "'Todas las relaciones se cumplen'"
      ]
     },
     "execution_count": 92,
     "metadata": {},
     "output_type": "execute_result"
    }
   ],
   "source": [
    "AlgtestQ(4,2,TF42,T42,QB42,'QB')"
   ]
  },
  {
   "cell_type": "code",
   "execution_count": 93,
   "id": "a915080a-fbd1-4810-8939-d8b1e5b112e0",
   "metadata": {},
   "outputs": [
    {
     "data": {
      "text/plain": [
       "'Todas las relaciones se cumplen'"
      ]
     },
     "execution_count": 93,
     "metadata": {},
     "output_type": "execute_result"
    }
   ],
   "source": [
    "AlgtestQ(4,3,TF43,T43,Q43,'Q')"
   ]
  },
  {
   "cell_type": "code",
   "execution_count": 94,
   "id": "8c775b50-80a0-4943-8bb4-14f42bc0b027",
   "metadata": {},
   "outputs": [
    {
     "data": {
      "text/plain": [
       "'Todas las relaciones se cumplen'"
      ]
     },
     "execution_count": 94,
     "metadata": {},
     "output_type": "execute_result"
    }
   ],
   "source": [
    "AlgtestQ(4,3,TF43,T43,QB43,'QB')"
   ]
  },
  {
   "cell_type": "code",
   "execution_count": 95,
   "id": "ea3f20fd-07f3-44de-b51c-2085e0a4c041",
   "metadata": {},
   "outputs": [
    {
     "data": {
      "text/plain": [
       "'Todas las relaciones se cumplen'"
      ]
     },
     "execution_count": 95,
     "metadata": {},
     "output_type": "execute_result"
    }
   ],
   "source": [
    "AlgtestQ(5,2,TF52,T52,Q52,'Q')"
   ]
  },
  {
   "cell_type": "code",
   "execution_count": 96,
   "id": "0df4322c-ada5-4ce7-b916-40c2a9bc2187",
   "metadata": {},
   "outputs": [
    {
     "data": {
      "text/plain": [
       "'Todas las relaciones se cumplen'"
      ]
     },
     "execution_count": 96,
     "metadata": {},
     "output_type": "execute_result"
    }
   ],
   "source": [
    "AlgtestQ(5,2,TF52,T52,QB52,'QB')"
   ]
  },
  {
   "cell_type": "code",
   "execution_count": 97,
   "id": "3b127c2b-7e45-4def-9bb1-e231773ddf33",
   "metadata": {},
   "outputs": [
    {
     "data": {
      "text/plain": [
       "'Todas las relaciones se cumplen'"
      ]
     },
     "execution_count": 97,
     "metadata": {},
     "output_type": "execute_result"
    }
   ],
   "source": [
    "AlgtestQ(5,3,TF53,T53,Q53,'Q')"
   ]
  },
  {
   "cell_type": "code",
   "execution_count": 98,
   "id": "a2b4615b-4b3d-4e52-a3b5-c79f1e25220a",
   "metadata": {},
   "outputs": [
    {
     "data": {
      "text/plain": [
       "'Todas las relaciones se cumplen'"
      ]
     },
     "execution_count": 98,
     "metadata": {},
     "output_type": "execute_result"
    }
   ],
   "source": [
    "AlgtestQ(5,3,TF53,T53,QB53,'QB')"
   ]
  },
  {
   "cell_type": "code",
   "execution_count": 99,
   "id": "50c0644b-5adf-49d2-8772-386e6ba67d8e",
   "metadata": {},
   "outputs": [
    {
     "data": {
      "text/plain": [
       "'Todas las relaciones se cumplen'"
      ]
     },
     "execution_count": 99,
     "metadata": {},
     "output_type": "execute_result"
    }
   ],
   "source": [
    "AlgtestQ(5,4,TF54,T54,Q54,'Q')"
   ]
  },
  {
   "cell_type": "code",
   "execution_count": 100,
   "id": "a1d015ac-2573-4eee-b0aa-d475f1e57268",
   "metadata": {},
   "outputs": [
    {
     "data": {
      "text/plain": [
       "'Todas las relaciones se cumplen'"
      ]
     },
     "execution_count": 100,
     "metadata": {},
     "output_type": "execute_result"
    }
   ],
   "source": [
    "AlgtestQ(5,4,TF54,T54,QB54,'QB')"
   ]
  },
  {
   "cell_type": "markdown",
   "id": "83371236-a8de-4b11-9357-7e069a092393",
   "metadata": {},
   "source": [
    "### Supertraza de las cargas"
   ]
  },
  {
   "cell_type": "code",
   "execution_count": 101,
   "id": "0ccb4cd1-1a77-4b39-9535-c1b3592c9595",
   "metadata": {},
   "outputs": [],
   "source": [
    "def superTrQ(n,k,mat1,mat2):\n",
    "    \n",
    "    d = TraDelta(n,k)\n",
    "    \n",
    "    s = Gamma(n,k)\n",
    "    \n",
    "    l = []\n",
    "    \n",
    "#    rs = sp.Rational(np.math.factorial(n-2),2*np.math.factorial(k-1)*np.math.factorial(n-k-1))\n",
    "    \n",
    "    for i,j in itertools.product(range(0,d), repeat=2):\n",
    "        for al,bl in itertools.product(range(0,4), repeat=2):\n",
    "        \n",
    "            t = np.matmul(s,np.matmul(mat1[(al,i)],mat2[(j,bl)],dtype=object),dtype=object)\n",
    "        \n",
    "           # t[t!=0] = np.array([sp.nsimplify(o) for o in t[t!=0]],dtype=object)\n",
    "        \n",
    "            u = np.trace(t)\n",
    "        \n",
    "            if abs(u + np.math.factorial(k)**2*Delta([al],[bl])*Delta([i],[j]))<1.0E-10:\n",
    "                l.append(True)\n",
    "            else:\n",
    "                l.append(False)\n",
    "                print(u,sp.nsimplify(-Delta([al],[bl])*Delta([i],[j])))\n",
    "    \n",
    "    if all(l) == True:\n",
    "        return 'Todas las relaciones se cumplen'\n",
    "    else:\n",
    "        return 'Algo va mal'\n",
    "       \n",
    "    return l    "
   ]
  },
  {
   "cell_type": "code",
   "execution_count": 102,
   "id": "7aa35d57-052e-4455-8a0f-e7baaa842270",
   "metadata": {},
   "outputs": [
    {
     "data": {
      "text/plain": [
       "'Todas las relaciones se cumplen'"
      ]
     },
     "execution_count": 102,
     "metadata": {},
     "output_type": "execute_result"
    }
   ],
   "source": [
    "superTrQ(3,2,Q32,QB32)"
   ]
  },
  {
   "cell_type": "code",
   "execution_count": 103,
   "id": "933fa169-a229-4593-a982-91434ea9bca8",
   "metadata": {},
   "outputs": [
    {
     "data": {
      "text/plain": [
       "'Todas las relaciones se cumplen'"
      ]
     },
     "execution_count": 103,
     "metadata": {},
     "output_type": "execute_result"
    }
   ],
   "source": [
    "superTrQ(4,2,Q42,QB42)"
   ]
  },
  {
   "cell_type": "code",
   "execution_count": 104,
   "id": "333d02a1-0a1d-4e15-8240-54d3e8eae558",
   "metadata": {},
   "outputs": [
    {
     "data": {
      "text/plain": [
       "'Todas las relaciones se cumplen'"
      ]
     },
     "execution_count": 104,
     "metadata": {},
     "output_type": "execute_result"
    }
   ],
   "source": [
    "superTrQ(4,3,Q43,QB43)"
   ]
  },
  {
   "cell_type": "code",
   "execution_count": 105,
   "id": "54539187-c8a5-4e34-9085-4bf888d28450",
   "metadata": {},
   "outputs": [
    {
     "data": {
      "text/plain": [
       "'Todas las relaciones se cumplen'"
      ]
     },
     "execution_count": 105,
     "metadata": {},
     "output_type": "execute_result"
    }
   ],
   "source": [
    "superTrQ(5,2,Q52,QB52)"
   ]
  },
  {
   "cell_type": "code",
   "execution_count": 106,
   "id": "41cccf72-9dca-463b-b6d0-dffc95ecbd67",
   "metadata": {},
   "outputs": [
    {
     "data": {
      "text/plain": [
       "'Todas las relaciones se cumplen'"
      ]
     },
     "execution_count": 106,
     "metadata": {},
     "output_type": "execute_result"
    }
   ],
   "source": [
    "superTrQ(5,3,Q53,QB53)"
   ]
  },
  {
   "cell_type": "code",
   "execution_count": 107,
   "id": "379a7e46-06f2-4824-ad04-095a21034afa",
   "metadata": {},
   "outputs": [
    {
     "data": {
      "text/plain": [
       "'Todas las relaciones se cumplen'"
      ]
     },
     "execution_count": 107,
     "metadata": {},
     "output_type": "execute_result"
    }
   ],
   "source": [
    "superTrQ(5,4,Q54,QB54)"
   ]
  },
  {
   "cell_type": "markdown",
   "id": "bb30b10d-c313-4b37-a545-a1d3a6b1dff3",
   "metadata": {},
   "source": [
    "### Carga Central\n",
    "\n",
    "$Z^A_B = iz(\\delta^A_\\alpha\\delta_B^\\alpha + 4 \\Delta^A_{i'+4}\\Delta^{i'+4}_B/d_n)$"
   ]
  },
  {
   "cell_type": "code",
   "execution_count": 108,
   "id": "ea35f6a9-da3a-4324-850c-dbc334697fd4",
   "metadata": {},
   "outputs": [],
   "source": [
    "def Z(n,k,c):\n",
    "    \n",
    "    d = TraDelta(n,k)\n",
    "    \n",
    "    u = np.zeros((d+4,d+4),dtype=object)\n",
    "    \n",
    "    for i in range(0,4):\n",
    "        \n",
    "        u[i,i] = (1j)*c\n",
    "    \n",
    "    for j in range(4,d+4):\n",
    "        \n",
    "        u[j,j] = (1j)*sp.Rational(4,d)*c\n",
    "        \n",
    "    return u     "
   ]
  },
  {
   "cell_type": "markdown",
   "id": "1e9a5dd8-a15f-4b16-917e-1e3212337055",
   "metadata": {},
   "source": [
    "### Relaciones de conmutacion"
   ]
  },
  {
   "cell_type": "markdown",
   "id": "e35bbe6d-5d4f-45a5-b496-fd04ea2bd6af",
   "metadata": {},
   "source": [
    "$[Z,Q^\\alpha_{i'}] = iz(4/d_{n}-1)Q^\\alpha_{i'}$\n",
    "\n",
    "$[Z,\\bar{Q}_\\alpha^{i'}] = -iz(4/d_{n}-1)\\bar{Q}_\\alpha^{i'}$"
   ]
  },
  {
   "cell_type": "code",
   "execution_count": 109,
   "id": "1727a317-a08e-4081-a68b-2b4c9918e340",
   "metadata": {},
   "outputs": [],
   "source": [
    "def algQZ(n,k,Mat,i,al,st):\n",
    "    \n",
    "    d = TraDelta(n,k)\n",
    "    \n",
    "    if st == 'Q':\n",
    "        \n",
    "        a = (1j)*(4/d-1)*Mat[(al,i)]\n",
    "        \n",
    "        b = bra(Z(n,k,1),Mat[(al,i)])\n",
    "    \n",
    "    elif st == 'QB':\n",
    "        \n",
    "        a = -(1j)*(sp.Rational(4,d)-1)*Mat[(i,al)]\n",
    "        \n",
    "        b = bra(Z(n,k,1),Mat[(i,al)])   \n",
    "        \n",
    "    ## Verifiquemos que todo sea del mismo tipo\n",
    "    \n",
    "  #  a[a!=0] = np.array([sp.nsimplify(s) for s in a[a!=0]],dtype=object)\n",
    "  #  b[b!=0] = np.array([sp.nsimplify(s) for s in b[b!=0]],dtype=object)\n",
    "    \n",
    "    if (np.absolute(b - a)<1.0E-10).all():\n",
    "        return True\n",
    "    else:\n",
    "        print(np.absolute(b - a))\n",
    "        return False \n",
    "    \n",
    "def AlgtestQZ(n,k,Mat,st):\n",
    "    \n",
    "    a = []\n",
    "    \n",
    "    d = TraDelta(n,k)\n",
    "    \n",
    "    for al in range(0,4):\n",
    "        for i in range(0,d):\n",
    "            a.append(algQZ(n,k,Mat,i,al,st))\n",
    "    \n",
    "         #Para saber en que indices no se cumple\n",
    "        \n",
    "        if algQZ(n,k,Mat,i,al,st) == False:\n",
    "            \n",
    "            print(al,i)\n",
    "        \n",
    "    if all(a) == True:\n",
    "        return 'Todas las relaciones se cumplen'\n",
    "    else:\n",
    "        return 'Algo va mal'    "
   ]
  },
  {
   "cell_type": "code",
   "execution_count": 110,
   "id": "7bdc18e9-a7e0-49c5-a277-41571c6228a2",
   "metadata": {},
   "outputs": [
    {
     "data": {
      "text/plain": [
       "'Todas las relaciones se cumplen'"
      ]
     },
     "execution_count": 110,
     "metadata": {},
     "output_type": "execute_result"
    }
   ],
   "source": [
    "AlgtestQZ(3,2,Q32,'Q')"
   ]
  },
  {
   "cell_type": "code",
   "execution_count": 111,
   "id": "a8f24cc7-68c5-4633-80fd-427e8d0a3ce0",
   "metadata": {},
   "outputs": [
    {
     "data": {
      "text/plain": [
       "'Todas las relaciones se cumplen'"
      ]
     },
     "execution_count": 111,
     "metadata": {},
     "output_type": "execute_result"
    }
   ],
   "source": [
    "AlgtestQZ(3,2,QB32,'QB')"
   ]
  },
  {
   "cell_type": "code",
   "execution_count": 112,
   "id": "e9f515f2-923f-45fe-a5af-c49fab31b5ba",
   "metadata": {},
   "outputs": [
    {
     "data": {
      "text/plain": [
       "'Todas las relaciones se cumplen'"
      ]
     },
     "execution_count": 112,
     "metadata": {},
     "output_type": "execute_result"
    }
   ],
   "source": [
    "AlgtestQZ(4,2,Q42,'Q')"
   ]
  },
  {
   "cell_type": "code",
   "execution_count": 113,
   "id": "92c3600a-7ebf-411b-9c49-fedb61f3e88e",
   "metadata": {},
   "outputs": [
    {
     "data": {
      "text/plain": [
       "'Todas las relaciones se cumplen'"
      ]
     },
     "execution_count": 113,
     "metadata": {},
     "output_type": "execute_result"
    }
   ],
   "source": [
    "AlgtestQZ(4,2,QB42,'QB')"
   ]
  },
  {
   "cell_type": "code",
   "execution_count": 114,
   "id": "db5c7f37-15bb-4630-91ae-cee5fbdcf5d2",
   "metadata": {},
   "outputs": [
    {
     "data": {
      "text/plain": [
       "'Todas las relaciones se cumplen'"
      ]
     },
     "execution_count": 114,
     "metadata": {},
     "output_type": "execute_result"
    }
   ],
   "source": [
    "AlgtestQZ(4,3,Q43,'Q')"
   ]
  },
  {
   "cell_type": "code",
   "execution_count": 115,
   "id": "412d2263-1ff9-46c0-ae6c-319af55cd34b",
   "metadata": {},
   "outputs": [
    {
     "data": {
      "text/plain": [
       "'Todas las relaciones se cumplen'"
      ]
     },
     "execution_count": 115,
     "metadata": {},
     "output_type": "execute_result"
    }
   ],
   "source": [
    "AlgtestQZ(4,3,QB43,'QB')"
   ]
  },
  {
   "cell_type": "code",
   "execution_count": 116,
   "id": "ecf4ccb8-368f-4285-9dbc-f2aa40777071",
   "metadata": {},
   "outputs": [
    {
     "data": {
      "text/plain": [
       "'Todas las relaciones se cumplen'"
      ]
     },
     "execution_count": 116,
     "metadata": {},
     "output_type": "execute_result"
    }
   ],
   "source": [
    "AlgtestQZ(5,2,Q52,'Q')"
   ]
  },
  {
   "cell_type": "code",
   "execution_count": 117,
   "id": "2e1eff11-1726-43a4-9e87-cf63a398ebd2",
   "metadata": {},
   "outputs": [
    {
     "data": {
      "text/plain": [
       "'Todas las relaciones se cumplen'"
      ]
     },
     "execution_count": 117,
     "metadata": {},
     "output_type": "execute_result"
    }
   ],
   "source": [
    "AlgtestQZ(5,2,QB52,'QB')"
   ]
  },
  {
   "cell_type": "code",
   "execution_count": 118,
   "id": "fb939988-e83d-423e-87b0-7550ee06d0df",
   "metadata": {},
   "outputs": [
    {
     "data": {
      "text/plain": [
       "'Todas las relaciones se cumplen'"
      ]
     },
     "execution_count": 118,
     "metadata": {},
     "output_type": "execute_result"
    }
   ],
   "source": [
    "AlgtestQZ(5,3,Q53,'Q')"
   ]
  },
  {
   "cell_type": "code",
   "execution_count": 119,
   "id": "2f68f5bb-e2af-4ecf-975c-3eedd8b223b5",
   "metadata": {},
   "outputs": [
    {
     "data": {
      "text/plain": [
       "'Todas las relaciones se cumplen'"
      ]
     },
     "execution_count": 119,
     "metadata": {},
     "output_type": "execute_result"
    }
   ],
   "source": [
    "AlgtestQZ(5,3,QB53,'QB')"
   ]
  },
  {
   "cell_type": "code",
   "execution_count": 120,
   "id": "f98ab2c2-8206-431a-b424-5904e5fed0bc",
   "metadata": {},
   "outputs": [
    {
     "data": {
      "text/plain": [
       "'Todas las relaciones se cumplen'"
      ]
     },
     "execution_count": 120,
     "metadata": {},
     "output_type": "execute_result"
    }
   ],
   "source": [
    "AlgtestQZ(5,4,Q54,'Q')"
   ]
  },
  {
   "cell_type": "code",
   "execution_count": 121,
   "id": "9b0565c2-feca-45c6-b4e5-b7ba2a08de3a",
   "metadata": {},
   "outputs": [
    {
     "data": {
      "text/plain": [
       "'Todas las relaciones se cumplen'"
      ]
     },
     "execution_count": 121,
     "metadata": {},
     "output_type": "execute_result"
    }
   ],
   "source": [
    "AlgtestQZ(5,4,QB54,'QB')"
   ]
  },
  {
   "cell_type": "markdown",
   "id": "ffeef524-8e9b-4b0d-8856-3889fec3ab15",
   "metadata": {},
   "source": [
    "### Generadores de $SU(d_n)$"
   ]
  },
  {
   "cell_type": "markdown",
   "id": "6df5790a-4da6-49a5-8e62-95c52a69f66d",
   "metadata": {},
   "source": [
    "1) Con los generadores no diagonales en los T_I generamos otros no diagonales como se muestra en el paper\n",
    "2) Llenamos los lugares vacios en los T_I,\n",
    "3) Buscamos los V_x que no estan generados por todos los anteriores y agregamos los ultimos diagonales"
   ]
  },
  {
   "cell_type": "code",
   "execution_count": 122,
   "id": "fc56414f-37dc-46e2-8064-c45a73cca641",
   "metadata": {},
   "outputs": [],
   "source": [
    "### Esta funcion devuelve los elementos de la representacion fundamental para los cuales Tr(VxTI) = 0 para todo I \n",
    "\n",
    "def NonV(n,k,ts):\n",
    "    \n",
    "    d = TraDelta(n,k)\n",
    "    \n",
    "    Fr, sm = GenLamda3(d)\n",
    "    \n",
    "    #######################################################################################################\n",
    "    ##################### Calculo de las constantes y de que elementos de V_x no estan en los T_I #########\n",
    "    #######################################################################################################\n",
    "    \n",
    "    num = 2*np.math.factorial(k-1)*np.math.factorial(n-k-1)\n",
    "    dem = np.math.factorial(n-2)\n",
    "    \n",
    "    V_out = []\n",
    "    V_dia = []\n",
    "    \n",
    "    for x in range(0,d*d-1):\n",
    "        \n",
    "        a = []\n",
    "        \n",
    "        for I in range(0,len(ts)):\n",
    "            \n",
    "            c = sp.Rational(num,dem)*np.trace(np.matmul(Fr[x],ts[I],dtype=object))\n",
    "            \n",
    "            a.append(c)\n",
    "        \n",
    "        if all([True if abs(k)<1.0E-10 else False for k in a]) == True:\n",
    "            \n",
    "            V_out.append(Fr[x])\n",
    "            \n",
    "        if (x>n*n-1) and (sm[x] == 'd'):\n",
    "            V_dia.append(Fr[x])\n",
    "                   \n",
    "    return V_out + V_dia\n",
    "\n",
    "############################################################################################################################\n",
    "########## Ahora una funcion para trabajar con los elementos no diagonales #################################################\n",
    "\n",
    "def nonT(n,k,ts):\n",
    "    \n",
    "    d = TraDelta(n,k)\n",
    "    \n",
    "    sm = GenLamda3(n)[1]\n",
    "    \n",
    "    nonT = []\n",
    "    \n",
    "    for i in range(0,len(ts)):\n",
    "        \n",
    "        if (sm[i] == 's' or sm[i] == 'as'):\n",
    "            \n",
    "            p = np.where(ts[i] != 0)\n",
    "        \n",
    "            p1 = p[0]\n",
    "            p2 = p[1]\n",
    "            \n",
    "            u = [(s,o) for s,o in zip(p1,p2) if s<o]\n",
    "        \n",
    "            for l,m in u[:len(u)-1]:\n",
    "            \n",
    "                Ts = ts[i].copy()\n",
    "                Ts[l][m] = -Ts[l][m]\n",
    "                Ts[m][l] = -Ts[m][l]\n",
    "            \n",
    "                nonT.append(Ts)\n",
    "            \n",
    "    return nonT    \n",
    "\n",
    "\n",
    "##########################################################################################################################\n",
    "######################## LLenar Espacios Sim y AnSim #####################################################################\n",
    "\n",
    "def nonTSim(n,k,ts):\n",
    "    \n",
    "    d = TraDelta(n,k)\n",
    "    \n",
    "    sm = GenLamda3(n)[1]\n",
    "    \n",
    "    u,v = np.zeros((d,d),dtype=object),np.zeros((d,d),dtype=object)\n",
    "    \n",
    "    for i in range(len(ts)):\n",
    "                \n",
    "        if sm[i] == 's':\n",
    "            \n",
    "            u = u + ts[i]\n",
    "            \n",
    "        elif sm[i] == 'as':\n",
    "            \n",
    "            v = v + ts[i]\n",
    "    \n",
    "    p1 = np.where(u==0) \n",
    "    p2 = np.where(v==0)\n",
    "    \n",
    "    NewS, NewAS = [],[]\n",
    "    \n",
    "    for l,m in zip(p1[0],p1[1]):\n",
    "        \n",
    "        if (l == m) or (l == d-1-m) or (l > m):\n",
    "            continue\n",
    "        else:\n",
    "            M = np.zeros((d,d),dtype=object)\n",
    "            M[l][m] = 1\n",
    "            M[m][l] = M[l][m]\n",
    "        \n",
    "        NewS.append(M)\n",
    "    \n",
    "    for l,m in zip(p2[0],p2[1]):\n",
    "        \n",
    "        if (l == m) or (l == d-1-m) or (l > m):\n",
    "            continue\n",
    "        else:\n",
    "            N = np.zeros((d,d),dtype=object)\n",
    "            N[l][m] = 1j\n",
    "            N[m][l] = -N[l][m]\n",
    "        \n",
    "        NewAS.append(N)\n",
    "    \n",
    "    return NewS + NewAS"
   ]
  },
  {
   "cell_type": "code",
   "execution_count": 123,
   "id": "cd1a8820-da7c-4f90-ba19-2cf1c6626fa9",
   "metadata": {},
   "outputs": [],
   "source": [
    "##################################################################################################################\n",
    "######################### Gram–Schmidt process ##################################################################\n",
    "\n",
    "def Proj(A,B):\n",
    "    \n",
    "    u = np.trace(np.matmul(A,B,dtype=object))\n",
    "    \n",
    "    v = np.trace(np.matmul(B,B,dtype=object))\n",
    "    \n",
    "    return (u/v)*B\n",
    "\n",
    "def newG(n,k,ts):\n",
    "    \n",
    "    u1 = nonT(n,k,ts)\n",
    "    v1 = nonTSim(n,k,ts)\n",
    "    z1 = NonV(n,k,ts + u1 + v1)\n",
    "    \n",
    "    tot = ts + u1 + v1 + z1\n",
    "    \n",
    "    return tot\n",
    "\n",
    "def diagonelements(lista):\n",
    "    \n",
    "    dia = []\n",
    "    \n",
    "    for i in range(0,len(lista)):\n",
    "        if (lista[i].diagonal() == 0).all():\n",
    "            continue\n",
    "        else:    \n",
    "            dia.append(lista[i])\n",
    "            \n",
    "    return dia        \n",
    "\n",
    "    \n",
    "def GS(n,k,ts,st):\n",
    "    \n",
    "    se = newG(n,k,ts)\n",
    "    \n",
    "    VN = [se[0]]\n",
    "    \n",
    "    for i in range(1,len(se)):\n",
    "        \n",
    "        u = se[i]\n",
    "        \n",
    "        for j in range(0,i):\n",
    "            \n",
    "            u = u - Proj(se[i],VN[j])\n",
    "        \n",
    "        VN.append(u)\n",
    "    \n",
    "    # Normalizacion \n",
    "    \n",
    "    if st == 'n':\n",
    "        \n",
    "    \n",
    "        final = []\n",
    "    \n",
    "        dem = 2*np.math.factorial(k-1)*np.math.factorial(n-k-1)\n",
    "        num = np.math.factorial(n-2)\n",
    "    \n",
    "        for i in range(len(VN)):\n",
    "        \n",
    "            s = np.trace(np.matmul(VN[i],VN[i],dtype=object))\n",
    "        \n",
    "            p = (num/dem)/s\n",
    "        \n",
    "            final.append((p**(0.5))*VN[i])    \n",
    "        \n",
    "        return final\n",
    "    else: return VN"
   ]
  },
  {
   "cell_type": "code",
   "execution_count": 124,
   "id": "8a847250-5b1a-4e34-80ac-b1eb5fffa0ab",
   "metadata": {},
   "outputs": [
    {
     "data": {
      "text/plain": [
       "10.0"
      ]
     },
     "execution_count": 124,
     "metadata": {},
     "output_type": "execute_result"
    }
   ],
   "source": [
    "np.absolute(10j)"
   ]
  },
  {
   "cell_type": "code",
   "execution_count": null,
   "id": "fd62e3a8-f714-40e7-8543-3083e280f259",
   "metadata": {},
   "outputs": [],
   "source": []
  },
  {
   "cell_type": "code",
   "execution_count": 125,
   "id": "277f0755-0a20-4894-a0dd-7ab06dfbeb1c",
   "metadata": {},
   "outputs": [
    {
     "data": {
      "text/plain": [
       "array([[0, 0, 0, 0, 0, 0],\n",
       "       [0, 0, 0, 0, 0, 0],\n",
       "       [0, 0, 0, 0, 0, 0],\n",
       "       [0, 0, 0, 0, 0, 0],\n",
       "       [0, 0, 0, 0, 0, 0],\n",
       "       [0, 0, 0, 0, 0, 0]], dtype=object)"
      ]
     },
     "execution_count": 125,
     "metadata": {},
     "output_type": "execute_result"
    }
   ],
   "source": [
    "Proj(T42[0],T42[1])"
   ]
  },
  {
   "cell_type": "markdown",
   "id": "a359b7a0-3b93-4a5a-8860-81134a10fcad",
   "metadata": {},
   "source": [
    "### Otro enfoque"
   ]
  },
  {
   "cell_type": "code",
   "execution_count": 126,
   "id": "3839f9b8-b19e-4170-801c-bcb311d0774f",
   "metadata": {},
   "outputs": [],
   "source": [
    "def GS2(n,k,ts,st):\n",
    "    \n",
    "    d = TraDelta(n,k)\n",
    "    \n",
    "    Fr = GenLamda3(d)[0]\n",
    "    \n",
    "    se = ts + Fr\n",
    "    \n",
    "    VN = [se[0]]\n",
    "    \n",
    "    for i in range(1,len(se)):\n",
    "        \n",
    "        u = se[i]\n",
    "        \n",
    "        for j in range(0,len(VN)):\n",
    "            \n",
    "            u = u - Proj(se[i],VN[j])\n",
    "        \n",
    "        if (np.absolute(u) < 1.0E-10).all():\n",
    "            \n",
    "            continue\n",
    "            \n",
    "            \n",
    "        else: \n",
    "            \n",
    "            VN.append(np.where(np.absolute(u)>1.0E-10,u,0*u))\n",
    "    # Normalizacion \n",
    "    \n",
    "    if st == 'n':\n",
    "        \n",
    "    \n",
    "        final = []\n",
    "    \n",
    "        dem = 2*np.math.factorial(k-1)*np.math.factorial(n-k-1)\n",
    "        num = np.math.factorial(n-2)\n",
    "    \n",
    "        for i in range(len(VN)):\n",
    "        \n",
    "            s = np.trace(np.matmul(VN[i],VN[i],dtype=object))\n",
    "        \n",
    "            p = sp.Rational(sp.Rational(num,dem),s)\n",
    "        \n",
    "            final.append((sp.sqrt(p))*VN[i])    \n",
    "        \n",
    "        return final\n",
    "    else: return VN"
   ]
  },
  {
   "cell_type": "code",
   "execution_count": 127,
   "id": "47a9388f-9c31-4e47-98f1-402766f0d903",
   "metadata": {},
   "outputs": [],
   "source": [
    "def tracecc(lis):\n",
    "    \n",
    "    #final = newG(n,k,ts)\n",
    "    \n",
    "    dic = {}\n",
    "    \n",
    "    for i,j in itertools.product(range(0,len(lis)), repeat=2):\n",
    "        \n",
    "        if Traza(lis[i],lis[j]) != 0 and i != j:\n",
    "            dic[(i,j)] = 1\n",
    "            \n",
    "    return dic"
   ]
  },
  {
   "cell_type": "code",
   "execution_count": 128,
   "id": "8104a052-9359-4601-98bc-ae28d6fb3994",
   "metadata": {},
   "outputs": [],
   "source": [
    "Ts32 = GS2(3,2,T32,'n')"
   ]
  },
  {
   "cell_type": "code",
   "execution_count": 129,
   "id": "94508993-f076-4be0-85b0-cda0d34f9b64",
   "metadata": {},
   "outputs": [],
   "source": [
    "Ts42 = GS2(4,2,T42,'n')"
   ]
  },
  {
   "cell_type": "code",
   "execution_count": 130,
   "id": "62598a15-1a70-417b-aa1d-7e6465885df0",
   "metadata": {},
   "outputs": [],
   "source": [
    "Ts43 = GS2(4,3,T43,'n')"
   ]
  },
  {
   "cell_type": "code",
   "execution_count": 131,
   "id": "2c31f97b-c0fa-4608-8909-501de2b72e02",
   "metadata": {},
   "outputs": [],
   "source": [
    "Ts52 = GS2(5,2,T52,'n')"
   ]
  },
  {
   "cell_type": "code",
   "execution_count": 132,
   "id": "b335435e-fb14-45b4-a4ef-c5b533e99e64",
   "metadata": {},
   "outputs": [],
   "source": [
    "Ts53 = GS2(5,3,T53,'n')"
   ]
  },
  {
   "cell_type": "code",
   "execution_count": 133,
   "id": "b99a5980-a94c-45de-a8c2-38c7aea29b00",
   "metadata": {},
   "outputs": [],
   "source": [
    "Ts54 = GS2(5,4,T54,'n')"
   ]
  },
  {
   "cell_type": "markdown",
   "id": "ba54fa2a-7e47-4d1b-9c1c-0133808d60cf",
   "metadata": {},
   "source": [
    "## Las constantes entre la representacion fundamental y la de los $T_I$\n",
    "\n",
    "## La notacion es {[$V_y$],([$T_x$],[$C_{yx}$])}"
   ]
  },
  {
   "cell_type": "code",
   "execution_count": 134,
   "id": "df3d8dd8-b882-4272-9c88-4da6df46aedf",
   "metadata": {},
   "outputs": [],
   "source": [
    "def consta(n,k,ts):\n",
    "    \n",
    "    d = TraDelta(n,k)\n",
    "    \n",
    "    Fr = GenLamda3(d)[0]\n",
    "    \n",
    "    #######################################################################################################\n",
    "    ##################### Calculo de las constantes y de que elementos de V_x no estan en los T_I #########\n",
    "    #######################################################################################################\n",
    "    \n",
    "    dic_const = {}\n",
    "    \n",
    "    num = 2*np.math.factorial(k-1)*np.math.factorial(n-k-1)\n",
    "    dem = np.math.factorial(n-2)\n",
    "    \n",
    "    for x in range(0,len(Fr)):\n",
    "        \n",
    "        a = []\n",
    "        b = []\n",
    "        \n",
    "        for I in range(0,len(ts)):\n",
    "            \n",
    "            c = sp.Rational(num,dem)*np.trace(np.matmul(Fr[x],ts[I],dtype=object))\n",
    "            \n",
    "            if abs(c)>1.0E-10:\n",
    "                \n",
    "                a.append(c)\n",
    "                b.append(I)\n",
    "            \n",
    "        dic_const[x] = (b,a)\n",
    "            \n",
    "    return dic_const\n",
    "\n",
    "def verchech(lis1,lis2,ts,d):\n",
    "    \n",
    "    u = np.zeros((d,d),dtype=object)\n",
    "    \n",
    "    for i,j in zip(lis1,lis2):\n",
    "        \n",
    "        u = u + j*ts[i]\n",
    "        \n",
    "    return u     \n",
    "        \n",
    "def check(n,k,dic,ts):\n",
    "\n",
    "    d = TraDelta(n,k)\n",
    "    \n",
    "    Fr = GenLamda3(d)[0] \n",
    "    \n",
    "    a = []\n",
    "    \n",
    "    for i in dic:\n",
    "        \n",
    "        s = verchech((dic[i])[0],(dic[i])[1],ts,d)\n",
    "        \n",
    "        if (np.absolute(Fr[i] - s)<1.0E-10).all():\n",
    "            \n",
    "            a.append(True)\n",
    "     \n",
    "    if all(a):\n",
    "        \n",
    "        return 'Todo esta bien'\n",
    "    else:\n",
    "        return 'Algo esta mal'\n",
    "        \n",
    "    \n",
    "    "
   ]
  },
  {
   "cell_type": "code",
   "execution_count": 135,
   "id": "877ce011-aca7-400e-b4da-68ec1e18a8a2",
   "metadata": {},
   "outputs": [],
   "source": [
    "d32 = consta(3,2,Ts32)"
   ]
  },
  {
   "cell_type": "code",
   "execution_count": 136,
   "id": "a8b14028-3085-4161-a471-ff41f907e8d8",
   "metadata": {},
   "outputs": [
    {
     "data": {
      "text/plain": [
       "{0: ([5], [2]),\n",
       " 1: ([6], [2.00000000000000]),\n",
       " 2: ([2, 7], [-1, sqrt(3)]),\n",
       " 3: ([3], [-2]),\n",
       " 4: ([4], [-2.00000000000000]),\n",
       " 5: ([0], [2]),\n",
       " 6: ([1], [2.00000000000000]),\n",
       " 7: ([2, 7], [sqrt(3), 1])}"
      ]
     },
     "execution_count": 136,
     "metadata": {},
     "output_type": "execute_result"
    }
   ],
   "source": [
    "d32"
   ]
  },
  {
   "cell_type": "code",
   "execution_count": 137,
   "id": "eb3c0bc9-145d-4397-93e9-a67581078ae4",
   "metadata": {},
   "outputs": [
    {
     "data": {
      "text/plain": [
       "'Todo esta bien'"
      ]
     },
     "execution_count": 137,
     "metadata": {},
     "output_type": "execute_result"
    }
   ],
   "source": [
    "check(3,2,d32,Ts32)"
   ]
  },
  {
   "cell_type": "code",
   "execution_count": 138,
   "id": "e88c0ffe-7a35-469c-a5cd-40ae5fff5453",
   "metadata": {},
   "outputs": [],
   "source": [
    "d42 = consta(4,2,Ts42)"
   ]
  },
  {
   "cell_type": "code",
   "execution_count": 139,
   "id": "4a44c4ce-66e4-4f2c-8f0a-2499ae196fc5",
   "metadata": {},
   "outputs": [
    {
     "data": {
      "text/plain": [
       "{0: ([5, 15], [1, 1]),\n",
       " 1: ([6, 16], [1.00000000000000, 1.00000000000000]),\n",
       " 2: ([2, 7, 17], [-1/2, sqrt(3)/2, 1]),\n",
       " 3: ([10, 18], [1, 1]),\n",
       " 4: ([11, 19], [1.00000000000000, 1.00000000000000]),\n",
       " 5: ([12, 20], [1, 1]),\n",
       " 6: ([13, 21], [1.00000000000000, 1.00000000000000]),\n",
       " 7: ([2, 7, 14, 22], [-sqrt(3)/6, -1/6, 2*sqrt(2)/3, 1]),\n",
       " 8: ([3, 23], [-1, 1]),\n",
       " 9: ([4, 24], [-1.00000000000000, 1.00000000000000]),\n",
       " 10: ([0, 25], [1, 1]),\n",
       " 11: ([1, 26], [1.00000000000000, 1.00000000000000]),\n",
       " 12: ([27], [sqrt(2)]),\n",
       " 13: ([28], [1.0*sqrt(2)]),\n",
       " 14: ([2, 7, 14, 22], [5*sqrt(6)/12, 5*sqrt(2)/12, -1/3, sqrt(2)/2]),\n",
       " 15: ([8, 29], [-1, 1]),\n",
       " 16: ([9, 30], [-1.00000000000000, 1.00000000000000]),\n",
       " 17: ([31], [sqrt(2)]),\n",
       " 18: ([32], [1.0*sqrt(2)]),\n",
       " 19: ([0, 25], [1, -1]),\n",
       " 20: ([1, 26], [1.00000000000000, -1.00000000000000]),\n",
       " 21: ([12, 20], [1, -1]),\n",
       " 22: ([13, 21], [1.00000000000000, -1.00000000000000]),\n",
       " 23: ([2, 7, 14, 17, 22],\n",
       "  [sqrt(10)/4, -sqrt(30)/20, sqrt(15)/5, sqrt(10)/5, -sqrt(30)/10]),\n",
       " 24: ([33], [sqrt(2)]),\n",
       " 25: ([34], [1.0*sqrt(2)]),\n",
       " 26: ([8, 29], [-1, -1]),\n",
       " 27: ([9, 30], [-1.00000000000000, -1.00000000000000]),\n",
       " 28: ([3, 23], [1, 1]),\n",
       " 29: ([4, 24], [1.00000000000000, 1.00000000000000]),\n",
       " 30: ([10, 18], [-1, 1]),\n",
       " 31: ([11, 19], [-1.00000000000000, 1.00000000000000]),\n",
       " 32: ([5, 15], [1, -1]),\n",
       " 33: ([6, 16], [1.00000000000000, -1.00000000000000]),\n",
       " 34: ([7, 14, 17, 22], [2*sqrt(5)/5, sqrt(10)/5, -sqrt(15)/5, -sqrt(5)/5])}"
      ]
     },
     "execution_count": 139,
     "metadata": {},
     "output_type": "execute_result"
    }
   ],
   "source": [
    "d42"
   ]
  },
  {
   "cell_type": "code",
   "execution_count": 140,
   "id": "1ce5f76b-385c-479d-bdf8-5f892244f8bb",
   "metadata": {},
   "outputs": [
    {
     "data": {
      "text/plain": [
       "'Todo esta bien'"
      ]
     },
     "execution_count": 140,
     "metadata": {},
     "output_type": "execute_result"
    }
   ],
   "source": [
    "check(4,2,d42,Ts42)"
   ]
  },
  {
   "cell_type": "code",
   "execution_count": 141,
   "id": "a22308b6-af78-4c46-b68a-40857c7cd3b9",
   "metadata": {},
   "outputs": [],
   "source": [
    "d43 = consta(4,3,Ts43)"
   ]
  },
  {
   "cell_type": "code",
   "execution_count": 142,
   "id": "2e78a9b2-4113-4034-8668-d9da9ac66c77",
   "metadata": {},
   "outputs": [
    {
     "data": {
      "text/plain": [
       "{0: ([12], [2]),\n",
       " 1: ([13], [2.00000000000000]),\n",
       " 2: ([7, 14], [-2*sqrt(3)/3, 2*sqrt(6)/3]),\n",
       " 3: ([10], [-2]),\n",
       " 4: ([11], [-2.00000000000000]),\n",
       " 5: ([5], [2]),\n",
       " 6: ([6], [2.00000000000000]),\n",
       " 7: ([2, 7, 14], [-2*sqrt(3)/3, 4/3, 2*sqrt(2)/3]),\n",
       " 8: ([8], [2]),\n",
       " 9: ([9], [2.00000000000000]),\n",
       " 10: ([3], [-2]),\n",
       " 11: ([4], [-2.00000000000000]),\n",
       " 12: ([0], [2]),\n",
       " 13: ([1], [2.00000000000000]),\n",
       " 14: ([2, 7, 14], [2*sqrt(6)/3, 2*sqrt(2)/3, 2/3])}"
      ]
     },
     "execution_count": 142,
     "metadata": {},
     "output_type": "execute_result"
    }
   ],
   "source": [
    "d43"
   ]
  },
  {
   "cell_type": "code",
   "execution_count": 143,
   "id": "9c277909-b711-4a2d-8525-43cff7b4aca8",
   "metadata": {},
   "outputs": [
    {
     "data": {
      "text/plain": [
       "'Todo esta bien'"
      ]
     },
     "execution_count": 143,
     "metadata": {},
     "output_type": "execute_result"
    }
   ],
   "source": [
    "check(4,3,d43,Ts43)"
   ]
  },
  {
   "cell_type": "code",
   "execution_count": 144,
   "id": "f5c75a63-c527-42de-b66e-c3ca8aea685c",
   "metadata": {},
   "outputs": [],
   "source": [
    "d52 = consta(5,2,Ts52)"
   ]
  },
  {
   "cell_type": "code",
   "execution_count": 145,
   "id": "6c98fe82-242f-44c1-822e-c0d48565b6cb",
   "metadata": {},
   "outputs": [
    {
     "data": {
      "text/plain": [
       "{0: ([5, 24], [2/3, 2*sqrt(2)/3]),\n",
       " 1: ([6, 25],\n",
       "  [0.666666666666667, 4.96705373128255e-9*sqrt(36028797018963978)]),\n",
       " 2: ([2, 7, 26], [-1/3, sqrt(3)/3, 2*sqrt(2)/3]),\n",
       " 3: ([10, 27], [2/3, 2*sqrt(2)/3]),\n",
       " 4: ([11, 28],\n",
       "  [0.666666666666667, 4.96705373128255e-9*sqrt(36028797018963978)]),\n",
       " 5: ([12, 29], [2/3, 2*sqrt(2)/3]),\n",
       " 6: ([13, 30],\n",
       "  [0.666666666666667, 4.96705373128255e-9*sqrt(36028797018963978)]),\n",
       " 7: ([2, 7, 14, 31], [-sqrt(3)/9, -1/9, 4*sqrt(2)/9, 2*sqrt(2)/3]),\n",
       " 8: ([17, 32], [2/3, 2*sqrt(2)/3]),\n",
       " 9: ([18, 33],\n",
       "  [0.666666666666667, 4.96705373128255e-9*sqrt(36028797018963978)]),\n",
       " 10: ([19, 34], [2/3, 2*sqrt(2)/3]),\n",
       " 11: ([20, 35],\n",
       "  [0.666666666666667, 4.96705373128255e-9*sqrt(36028797018963978)]),\n",
       " 12: ([21, 36], [2/3, 2*sqrt(2)/3]),\n",
       " 13: ([22, 37],\n",
       "  [0.666666666666667, 4.96705373128255e-9*sqrt(36028797018963978)]),\n",
       " 14: ([2, 7, 14, 23, 38],\n",
       "  [-sqrt(6)/18, -sqrt(2)/18, -1/18, sqrt(15)/6, 2*sqrt(2)/3]),\n",
       " 15: ([3, 39], [-2/3, 2*sqrt(2)/3]),\n",
       " 16: ([4, 40],\n",
       "  [-0.666666666666667, 9.9341074625651e-9*sqrt(9007199254740993)]),\n",
       " 17: ([0, 41], [2/3, 2*sqrt(2)/3]),\n",
       " 18: ([1, 42], [0.666666666666667, 9.9341074625651e-9*sqrt(9007199254740993)]),\n",
       " 19: ([43], [2*sqrt(3)/3]),\n",
       " 20: ([44], [0.666666666666667*sqrt(3)]),\n",
       " 21: ([45], [2*sqrt(3)/3]),\n",
       " 22: ([46], [0.666666666666667*sqrt(3)]),\n",
       " 23: ([2, 7, 14, 23, 31, 38, 47],\n",
       "  [7*sqrt(10)/30,\n",
       "   7*sqrt(30)/90,\n",
       "   -sqrt(15)/18,\n",
       "   -1/6,\n",
       "   4*sqrt(15)/45,\n",
       "   2*sqrt(30)/45,\n",
       "   4*sqrt(5)/15]),\n",
       " 24: ([8, 48], [-2/3, 2*sqrt(2)/3]),\n",
       " 25: ([9, 49],\n",
       "  [-0.666666666666667, 9.9341074625651e-9*sqrt(9007199254740993)]),\n",
       " 26: ([50], [2*sqrt(3)/3]),\n",
       " 27: ([51], [0.666666666666667*sqrt(3)]),\n",
       " 28: ([0, 41, 52], [2/3, -sqrt(2)/3, sqrt(6)/3]),\n",
       " 29: ([1, 42, 53],\n",
       "  [0.666666666666667,\n",
       "   -4.96705373128255e-9*sqrt(9007199254740993),\n",
       "   0.333333333333333*sqrt(6)]),\n",
       " 30: ([54], [2*sqrt(3)/3]),\n",
       " 31: ([55], [0.666666666666667*sqrt(3)]),\n",
       " 32: ([12, 29, 56], [2/3, -sqrt(2)/3, sqrt(6)/3]),\n",
       " 33: ([13, 30, 57],\n",
       "  [0.666666666666667,\n",
       "   -2.48352686564128e-9*sqrt(36028797018963978),\n",
       "   0.333333333333333*sqrt(6)]),\n",
       " 34: ([2, 7, 14, 23, 26, 31, 38, 47, 58],\n",
       "  [7*sqrt(15)/45,\n",
       "   -sqrt(5)/15,\n",
       "   sqrt(10)/6,\n",
       "   -sqrt(6)/18,\n",
       "   sqrt(30)/18,\n",
       "   -7*sqrt(10)/90,\n",
       "   4*sqrt(5)/45,\n",
       "   -7*sqrt(30)/90,\n",
       "   sqrt(10)/6]),\n",
       " 35: ([15, 59], [-2/3, 2*sqrt(2)/3]),\n",
       " 36: ([16, 60],\n",
       "  [-0.666666666666667, 9.9341074625651e-9*sqrt(9007199254740993)]),\n",
       " 37: ([61], [2*sqrt(3)/3]),\n",
       " 38: ([62], [0.666666666666667*sqrt(3)]),\n",
       " 39: ([63], [2*sqrt(3)/3]),\n",
       " 40: ([64], [0.666666666666667*sqrt(3)]),\n",
       " 41: ([0, 41, 52], [2/3, -sqrt(2)/3, -sqrt(6)/3]),\n",
       " 42: ([1, 42, 53],\n",
       "  [0.666666666666667,\n",
       "   -4.96705373128255e-9*sqrt(9007199254740993),\n",
       "   -0.333333333333333*sqrt(6)]),\n",
       " 43: ([19, 34, 65], [2/3, -sqrt(2)/3, sqrt(6)/3]),\n",
       " 44: ([20, 35, 66],\n",
       "  [0.666666666666667,\n",
       "   -2.48352686564128e-9*sqrt(36028797018963978),\n",
       "   0.333333333333333*sqrt(6)]),\n",
       " 45: ([21, 36, 67], [2/3, -sqrt(2)/3, sqrt(6)/3]),\n",
       " 46: ([22, 37, 68],\n",
       "  [0.666666666666667,\n",
       "   -2.48352686564128e-9*sqrt(36028797018963978),\n",
       "   0.333333333333333*sqrt(6)]),\n",
       " 47: ([2, 7, 14, 23, 26, 31, 38, 47, 58],\n",
       "  [sqrt(21)/9,\n",
       "   -sqrt(7)/21,\n",
       "   -sqrt(14)/42,\n",
       "   5*sqrt(210)/126,\n",
       "   5*sqrt(42)/126,\n",
       "   5*sqrt(14)/126,\n",
       "   -8*sqrt(7)/63,\n",
       "   -sqrt(42)/18,\n",
       "   -sqrt(14)/6]),\n",
       " 48: ([69], [2*sqrt(3)/3]),\n",
       " 49: ([70], [0.666666666666667*sqrt(3)]),\n",
       " 50: ([8, 48, 71], [-2/3, -sqrt(2)/3, sqrt(6)/3]),\n",
       " 51: ([9, 49, 72],\n",
       "  [-0.666666666666667,\n",
       "   -4.96705373128255e-9*sqrt(9007199254740993),\n",
       "   0.333333333333333*sqrt(6)]),\n",
       " 52: ([3, 39, 73], [2/3, sqrt(2)/3, sqrt(6)/3]),\n",
       " 53: ([4, 40, 74],\n",
       "  [0.666666666666667,\n",
       "   4.96705373128255e-9*sqrt(9007199254740993),\n",
       "   0.333333333333333*sqrt(6)]),\n",
       " 54: ([75], [2*sqrt(3)/3]),\n",
       " 55: ([76], [0.666666666666667*sqrt(3)]),\n",
       " 56: ([10, 27, 77], [-2/3, sqrt(2)/3, sqrt(6)/3]),\n",
       " 57: ([11, 28, 78],\n",
       "  [-0.666666666666667,\n",
       "   2.48352686564128e-9*sqrt(36028797018963978),\n",
       "   0.333333333333333*sqrt(6)]),\n",
       " 58: ([5, 24, 79], [2/3, -sqrt(2)/3, sqrt(6)/3]),\n",
       " 59: ([6, 25, 80],\n",
       "  [0.666666666666667,\n",
       "   -2.48352686564128e-9*sqrt(36028797018963978),\n",
       "   0.333333333333333*sqrt(6)]),\n",
       " 60: ([81], [2*sqrt(3)/3]),\n",
       " 61: ([82], [0.666666666666667*sqrt(3)]),\n",
       " 62: ([7, 14, 23, 26, 31, 38, 47, 58],\n",
       "  [sqrt(21)/7,\n",
       "   sqrt(42)/14,\n",
       "   -sqrt(70)/42,\n",
       "   -3*sqrt(14)/28,\n",
       "   -sqrt(42)/28,\n",
       "   sqrt(21)/21,\n",
       "   -sqrt(14)/12,\n",
       "   -sqrt(42)/12]),\n",
       " 63: ([83], [2*sqrt(3)/3]),\n",
       " 64: ([84], [0.666666666666667*sqrt(3)]),\n",
       " 65: ([15, 59, 85], [-2/3, -sqrt(2)/3, sqrt(6)/3]),\n",
       " 66: ([16, 60, 86],\n",
       "  [-0.666666666666667,\n",
       "   -4.96705373128255e-9*sqrt(9007199254740993),\n",
       "   0.333333333333333*sqrt(6)]),\n",
       " 67: ([87], [2*sqrt(3)/3]),\n",
       " 68: ([88], [0.666666666666667*sqrt(3)]),\n",
       " 69: ([3, 39, 73], [2/3, sqrt(2)/3, -sqrt(6)/3]),\n",
       " 70: ([4, 40, 74],\n",
       "  [0.666666666666667,\n",
       "   4.96705373128255e-9*sqrt(9007199254740993),\n",
       "   -0.333333333333333*sqrt(6)]),\n",
       " 71: ([17, 32, 89], [-2/3, sqrt(2)/3, sqrt(6)/3]),\n",
       " 72: ([18, 33, 90],\n",
       "  [-0.666666666666667,\n",
       "   2.48352686564128e-9*sqrt(36028797018963978),\n",
       "   0.333333333333333*sqrt(6)]),\n",
       " 73: ([91], [2*sqrt(3)/3]),\n",
       " 74: ([92], [0.666666666666667*sqrt(3)]),\n",
       " 75: ([5, 24, 79], [2/3, -sqrt(2)/3, -sqrt(6)/3]),\n",
       " 76: ([6, 25, 80],\n",
       "  [0.666666666666667,\n",
       "   -2.48352686564128e-9*sqrt(36028797018963978),\n",
       "   -0.333333333333333*sqrt(6)]),\n",
       " 77: ([21, 36, 67], [2/3, -sqrt(2)/3, -sqrt(6)/3]),\n",
       " 78: ([22, 37, 68],\n",
       "  [0.666666666666667,\n",
       "   -2.48352686564128e-9*sqrt(36028797018963978),\n",
       "   -0.333333333333333*sqrt(6)]),\n",
       " 79: ([7, 14, 23, 26, 31, 38, 47, 58],\n",
       "  [sqrt(3)/3,\n",
       "   -sqrt(6)/18,\n",
       "   sqrt(10)/6,\n",
       "   -sqrt(2)/4,\n",
       "   7*sqrt(6)/108,\n",
       "   -5*sqrt(3)/27,\n",
       "   -7*sqrt(2)/36,\n",
       "   sqrt(6)/4]),\n",
       " 80: ([93], [2*sqrt(3)/3]),\n",
       " 81: ([94], [0.666666666666667*sqrt(3)]),\n",
       " 82: ([95], [2*sqrt(3)/3]),\n",
       " 83: ([96], [0.666666666666667*sqrt(3)]),\n",
       " 84: ([15, 59, 85], [-2/3, -sqrt(2)/3, -sqrt(6)/3]),\n",
       " 85: ([16, 60, 86],\n",
       "  [-0.666666666666667,\n",
       "   -4.96705373128255e-9*sqrt(9007199254740993),\n",
       "   -0.333333333333333*sqrt(6)]),\n",
       " 86: ([8, 48, 71], [2/3, sqrt(2)/3, sqrt(6)/3]),\n",
       " 87: ([9, 49, 72],\n",
       "  [0.666666666666667,\n",
       "   4.96705373128255e-9*sqrt(9007199254740993),\n",
       "   0.333333333333333*sqrt(6)]),\n",
       " 88: ([97], [2*sqrt(3)/3]),\n",
       " 89: ([98], [0.666666666666667*sqrt(3)]),\n",
       " 90: ([17, 32, 89], [-2/3, sqrt(2)/3, -sqrt(6)/3]),\n",
       " 91: ([18, 33, 90],\n",
       "  [-0.666666666666667,\n",
       "   2.48352686564128e-9*sqrt(36028797018963978),\n",
       "   -0.333333333333333*sqrt(6)]),\n",
       " 92: ([10, 27, 77], [2/3, -sqrt(2)/3, sqrt(6)/3]),\n",
       " 93: ([11, 28, 78],\n",
       "  [0.666666666666667,\n",
       "   -2.48352686564128e-9*sqrt(36028797018963978),\n",
       "   0.333333333333333*sqrt(6)]),\n",
       " 94: ([19, 34, 65], [-2/3, sqrt(2)/3, sqrt(6)/3]),\n",
       " 95: ([20, 35, 66],\n",
       "  [-0.666666666666667,\n",
       "   2.48352686564128e-9*sqrt(36028797018963978),\n",
       "   0.333333333333333*sqrt(6)]),\n",
       " 96: ([12, 29, 56], [2/3, -sqrt(2)/3, -sqrt(6)/3]),\n",
       " 97: ([13, 30, 57],\n",
       "  [0.666666666666667,\n",
       "   -2.48352686564128e-9*sqrt(36028797018963978),\n",
       "   -0.333333333333333*sqrt(6)]),\n",
       " 98: ([14, 23, 31, 38, 47],\n",
       "  [sqrt(30)/9, sqrt(2)/3, -2*sqrt(30)/27, -2*sqrt(15)/27, 2*sqrt(10)/9])}"
      ]
     },
     "execution_count": 145,
     "metadata": {},
     "output_type": "execute_result"
    }
   ],
   "source": [
    "d52"
   ]
  },
  {
   "cell_type": "code",
   "execution_count": 146,
   "id": "fc40ee92-d802-427d-9d2a-bcb62fa758e9",
   "metadata": {},
   "outputs": [
    {
     "data": {
      "text/plain": [
       "'Todo esta bien'"
      ]
     },
     "execution_count": 146,
     "metadata": {},
     "output_type": "execute_result"
    }
   ],
   "source": [
    "check(5,2,d52,Ts52)"
   ]
  },
  {
   "cell_type": "code",
   "execution_count": 147,
   "id": "46eb610b-57f3-42aa-9053-faf693b52334",
   "metadata": {},
   "outputs": [],
   "source": [
    "d53 = consta(5,3,Ts53)"
   ]
  },
  {
   "cell_type": "code",
   "execution_count": 148,
   "id": "92244b12-47c3-4798-a205-4436bf1fb871",
   "metadata": {},
   "outputs": [
    {
     "data": {
      "text/plain": [
       "{0: ([12, 24], [2/3, 2*sqrt(2)/3]),\n",
       " 1: ([13, 25],\n",
       "  [0.666666666666667, 4.96705373128255e-9*sqrt(36028797018963978)]),\n",
       " 2: ([7, 14, 26], [-2*sqrt(3)/9, 2*sqrt(6)/9, 2*sqrt(2)/3]),\n",
       " 3: ([19, 27], [2/3, 2*sqrt(2)/3]),\n",
       " 4: ([20, 28],\n",
       "  [0.666666666666667, 4.96705373128255e-9*sqrt(36028797018963978)]),\n",
       " 5: ([21, 29], [2/3, 2*sqrt(2)/3]),\n",
       " 6: ([22, 30],\n",
       "  [0.666666666666667, 4.96705373128255e-9*sqrt(36028797018963978)]),\n",
       " 7: ([7, 14, 23, 31], [-2/9, -sqrt(2)/9, sqrt(30)/9, 2*sqrt(2)/3]),\n",
       " 8: ([10, 32], [-2/3, 2*sqrt(2)/3]),\n",
       " 9: ([11, 33],\n",
       "  [-0.666666666666667, 9.9341074625651e-9*sqrt(9007199254740993)]),\n",
       " 10: ([5, 34], [2/3, 2*sqrt(2)/3]),\n",
       " 11: ([6, 35], [0.666666666666667, 9.9341074625651e-9*sqrt(9007199254740993)]),\n",
       " 12: ([36], [2*sqrt(3)/3]),\n",
       " 13: ([37], [0.666666666666667*sqrt(3)]),\n",
       " 14: ([2, 7, 14, 23, 31, 38],\n",
       "  [-sqrt(6)/6, 7*sqrt(2)/18, 7/18, -sqrt(15)/18, 1/3, sqrt(5)/3]),\n",
       " 15: ([17, 39], [-2/3, 2*sqrt(2)/3]),\n",
       " 16: ([18, 40],\n",
       "  [-0.666666666666667, 9.9341074625651e-9*sqrt(9007199254740993)]),\n",
       " 17: ([41], [2*sqrt(3)/3]),\n",
       " 18: ([42], [0.666666666666667*sqrt(3)]),\n",
       " 19: ([5, 34, 43], [2/3, -sqrt(2)/3, sqrt(6)/3]),\n",
       " 20: ([6, 35, 44],\n",
       "  [0.666666666666667,\n",
       "   -4.96705373128255e-9*sqrt(9007199254740993),\n",
       "   4.96705373128255e-9*sqrt(27021597764222982)]),\n",
       " 21: ([21, 29, 45], [2/3, -sqrt(2)/3, sqrt(6)/3]),\n",
       " 22: ([22, 30, 46],\n",
       "  [0.666666666666667,\n",
       "   -2.48352686564128e-9*sqrt(36028797018963978),\n",
       "   0.333333333333333*sqrt(6)]),\n",
       " 23: ([2, 7, 14, 23, 26, 31, 38, 47],\n",
       "  [-sqrt(10)/10,\n",
       "   7*sqrt(30)/90,\n",
       "   -sqrt(15)/18,\n",
       "   1/2,\n",
       "   2*sqrt(5)/15,\n",
       "   -sqrt(15)/15,\n",
       "   -sqrt(3)/15,\n",
       "   2*sqrt(33)/15]),\n",
       " 24: ([48], [2*sqrt(3)/3]),\n",
       " 25: ([49], [0.666666666666667*sqrt(3)]),\n",
       " 26: ([17, 39, 50], [-2/3, -sqrt(2)/3, sqrt(6)/3]),\n",
       " 27: ([18, 40, 51],\n",
       "  [-0.666666666666667,\n",
       "   -4.96705373128255e-9*sqrt(9007199254740993),\n",
       "   4.96705373128255e-9*sqrt(27021597764222982)]),\n",
       " 28: ([10, 32, 52], [2/3, sqrt(2)/3, sqrt(6)/3]),\n",
       " 29: ([11, 33, 53],\n",
       "  [0.666666666666667,\n",
       "   4.96705373128255e-9*sqrt(9007199254740993),\n",
       "   4.96705373128255e-9*sqrt(27021597764222982)]),\n",
       " 30: ([19, 27, 54], [-2/3, sqrt(2)/3, sqrt(6)/3]),\n",
       " 31: ([20, 28, 55],\n",
       "  [-0.666666666666667,\n",
       "   2.48352686564128e-9*sqrt(36028797018963978),\n",
       "   0.333333333333333*sqrt(6)]),\n",
       " 32: ([12, 24, 56], [2/3, -sqrt(2)/3, sqrt(6)/3]),\n",
       " 33: ([13, 25, 57],\n",
       "  [0.666666666666667,\n",
       "   -2.48352686564128e-9*sqrt(36028797018963978),\n",
       "   0.333333333333333*sqrt(6)]),\n",
       " 34: ([2, 7, 14, 23, 26, 31, 38, 47, 58],\n",
       "  [-sqrt(15)/15,\n",
       "   -sqrt(5)/15,\n",
       "   sqrt(10)/6,\n",
       "   sqrt(6)/6,\n",
       "   -sqrt(30)/15,\n",
       "   -sqrt(10)/15,\n",
       "   -sqrt(2)/15,\n",
       "   -sqrt(22)/55,\n",
       "   2*sqrt(165)/33]),\n",
       " 35: ([8, 59], [2/3, 2*sqrt(2)/3]),\n",
       " 36: ([9, 60], [0.666666666666667, 9.9341074625651e-9*sqrt(9007199254740993)]),\n",
       " 37: ([3, 61], [-2/3, 2*sqrt(2)/3]),\n",
       " 38: ([4, 62],\n",
       "  [-0.666666666666667, 9.9341074625651e-9*sqrt(9007199254740993)]),\n",
       " 39: ([63], [2*sqrt(3)/3]),\n",
       " 40: ([64], [0.666666666666667*sqrt(3)]),\n",
       " 41: ([0, 65], [2/3, 2*sqrt(2)/3]),\n",
       " 42: ([1, 66], [0.666666666666667, 9.9341074625651e-9*sqrt(9007199254740993)]),\n",
       " 43: ([67], [2*sqrt(3)/3]),\n",
       " 44: ([68], [0.666666666666667*sqrt(3)]),\n",
       " 45: ([69], [2*sqrt(3)/3]),\n",
       " 46: ([70], [0.666666666666667*sqrt(3)]),\n",
       " 47: ([2, 7, 14, 23, 31, 38, 47, 58],\n",
       "  [sqrt(21)/7,\n",
       "   sqrt(7)/7,\n",
       "   sqrt(14)/14,\n",
       "   -sqrt(210)/42,\n",
       "   2*sqrt(14)/21,\n",
       "   -4*sqrt(70)/105,\n",
       "   6*sqrt(770)/385,\n",
       "   2*sqrt(231)/77]),\n",
       " 48: ([15, 71], [2/3, 2*sqrt(2)/3]),\n",
       " 49: ([16, 72],\n",
       "  [0.666666666666667, 9.9341074625651e-9*sqrt(9007199254740993)]),\n",
       " 50: ([73], [2*sqrt(3)/3]),\n",
       " 51: ([74], [0.666666666666667*sqrt(3)]),\n",
       " 52: ([3, 61, 75], [-2/3, -sqrt(2)/3, sqrt(6)/3]),\n",
       " 53: ([4, 62, 76],\n",
       "  [-0.666666666666667,\n",
       "   -4.96705373128255e-9*sqrt(9007199254740993),\n",
       "   0.333333333333333*sqrt(6)]),\n",
       " 54: ([77], [2*sqrt(3)/3]),\n",
       " 55: ([78], [0.666666666666667*sqrt(3)]),\n",
       " 56: ([0, 65, 79], [2/3, -sqrt(2)/3, sqrt(6)/3]),\n",
       " 57: ([1, 66, 80],\n",
       "  [0.666666666666667,\n",
       "   -4.96705373128255e-9*sqrt(9007199254740993),\n",
       "   0.333333333333333*sqrt(6)]),\n",
       " 58: ([81], [2*sqrt(3)/3]),\n",
       " 59: ([82], [0.666666666666667*sqrt(3)]),\n",
       " 60: ([21, 29, 45], [2/3, -sqrt(2)/3, -sqrt(6)/3]),\n",
       " 61: ([22, 30, 46],\n",
       "  [0.666666666666667,\n",
       "   -2.48352686564128e-9*sqrt(36028797018963978),\n",
       "   -0.333333333333333*sqrt(6)]),\n",
       " 62: ([2, 7, 14, 23, 26, 31, 38, 47, 58],\n",
       "  [3*sqrt(7)/14,\n",
       "   sqrt(21)/14,\n",
       "   -sqrt(42)/21,\n",
       "   sqrt(70)/21,\n",
       "   sqrt(14)/12,\n",
       "   -sqrt(42)/28,\n",
       "   13*sqrt(210)/420,\n",
       "   -41*sqrt(2310)/4620,\n",
       "   3*sqrt(77)/77]),\n",
       " 63: ([83], [2*sqrt(3)/3]),\n",
       " 64: ([84], [0.666666666666667*sqrt(3)]),\n",
       " 65: ([15, 71, 85], [2/3, -sqrt(2)/3, sqrt(6)/3]),\n",
       " 66: ([16, 72, 86],\n",
       "  [0.666666666666667,\n",
       "   -4.96705373128255e-9*sqrt(9007199254740993),\n",
       "   0.333333333333333*sqrt(6)]),\n",
       " 67: ([8, 59, 87], [-2/3, sqrt(2)/3, sqrt(6)/3]),\n",
       " 68: ([9, 60, 88],\n",
       "  [-0.666666666666667,\n",
       "   4.96705373128255e-9*sqrt(9007199254740993),\n",
       "   0.333333333333333*sqrt(6)]),\n",
       " 69: ([89], [2*sqrt(3)/3]),\n",
       " 70: ([90], [0.666666666666667*sqrt(3)]),\n",
       " 71: ([91], [2*sqrt(3)/3]),\n",
       " 72: ([92], [0.666666666666667*sqrt(3)]),\n",
       " 73: ([0, 65, 79], [2/3, -sqrt(2)/3, -sqrt(6)/3]),\n",
       " 74: ([1, 66, 80],\n",
       "  [0.666666666666667,\n",
       "   -4.96705373128255e-9*sqrt(9007199254740993),\n",
       "   -0.333333333333333*sqrt(6)]),\n",
       " 75: ([19, 27, 54], [-2/3, sqrt(2)/3, -sqrt(6)/3]),\n",
       " 76: ([20, 28, 55],\n",
       "  [-0.666666666666667,\n",
       "   2.48352686564128e-9*sqrt(36028797018963978),\n",
       "   -0.333333333333333*sqrt(6)]),\n",
       " 77: ([12, 24, 56], [2/3, -sqrt(2)/3, -sqrt(6)/3]),\n",
       " 78: ([13, 25, 57],\n",
       "  [0.666666666666667,\n",
       "   -2.48352686564128e-9*sqrt(36028797018963978),\n",
       "   -0.333333333333333*sqrt(6)]),\n",
       " 79: ([2, 7, 14, 23, 26, 31, 38, 47, 58],\n",
       "  [1/2,\n",
       "   -7*sqrt(3)/54,\n",
       "   5*sqrt(6)/27,\n",
       "   sqrt(10)/9,\n",
       "   -sqrt(2)/4,\n",
       "   -sqrt(6)/12,\n",
       "   13*sqrt(30)/180,\n",
       "   13*sqrt(330)/660,\n",
       "   -5*sqrt(11)/33]),\n",
       " 80: ([93], [2*sqrt(3)/3]),\n",
       " 81: ([94], [0.666666666666667*sqrt(3)]),\n",
       " 82: ([95], [2*sqrt(3)/3]),\n",
       " 83: ([96], [0.666666666666667*sqrt(3)]),\n",
       " 84: ([97], [2*sqrt(3)/3]),\n",
       " 85: ([98], [0.666666666666667*sqrt(3)]),\n",
       " 86: ([15, 71, 85], [2/3, -sqrt(2)/3, -sqrt(6)/3]),\n",
       " 87: ([16, 72, 86],\n",
       "  [0.666666666666667,\n",
       "   -4.96705373128255e-9*sqrt(9007199254740993),\n",
       "   -0.333333333333333*sqrt(6)]),\n",
       " 88: ([8, 59, 87], [-2/3, sqrt(2)/3, -sqrt(6)/3]),\n",
       " 89: ([9, 60, 88],\n",
       "  [-0.666666666666667,\n",
       "   4.96705373128255e-9*sqrt(9007199254740993),\n",
       "   -0.333333333333333*sqrt(6)]),\n",
       " 90: ([3, 61, 75], [2/3, sqrt(2)/3, sqrt(6)/3]),\n",
       " 91: ([4, 62, 76],\n",
       "  [0.666666666666667,\n",
       "   4.96705373128255e-9*sqrt(9007199254740993),\n",
       "   0.333333333333333*sqrt(6)]),\n",
       " 92: ([17, 39, 50], [2/3, sqrt(2)/3, sqrt(6)/3]),\n",
       " 93: ([18, 40, 51],\n",
       "  [0.666666666666667,\n",
       "   4.96705373128255e-9*sqrt(9007199254740993),\n",
       "   4.96705373128255e-9*sqrt(27021597764222982)]),\n",
       " 94: ([10, 32, 52], [-2/3, -sqrt(2)/3, sqrt(6)/3]),\n",
       " 95: ([11, 33, 53],\n",
       "  [-0.666666666666667,\n",
       "   -4.96705373128255e-9*sqrt(9007199254740993),\n",
       "   4.96705373128255e-9*sqrt(27021597764222982)]),\n",
       " 96: ([5, 34, 43], [2/3, -sqrt(2)/3, -sqrt(6)/3]),\n",
       " 97: ([6, 35, 44],\n",
       "  [0.666666666666667,\n",
       "   -4.96705373128255e-9*sqrt(9007199254740993),\n",
       "   -4.96705373128255e-9*sqrt(27021597764222982)]),\n",
       " 98: ([7, 14, 23, 38, 47, 58],\n",
       "  [4*sqrt(15)/27,\n",
       "   2*sqrt(30)/27,\n",
       "   2*sqrt(2)/9,\n",
       "   -2*sqrt(6)/9,\n",
       "   -2*sqrt(66)/33,\n",
       "   -2*sqrt(55)/33])}"
      ]
     },
     "execution_count": 148,
     "metadata": {},
     "output_type": "execute_result"
    }
   ],
   "source": [
    "d53"
   ]
  },
  {
   "cell_type": "code",
   "execution_count": 149,
   "id": "6f506303-fce2-415c-ac51-00149d9d06b0",
   "metadata": {},
   "outputs": [
    {
     "data": {
      "text/plain": [
       "'Todo esta bien'"
      ]
     },
     "execution_count": 149,
     "metadata": {},
     "output_type": "execute_result"
    }
   ],
   "source": [
    "check(5,3,d53,Ts53)"
   ]
  },
  {
   "cell_type": "code",
   "execution_count": 150,
   "id": "1ee1839c-2619-4c3d-a280-7f6a3b0da558",
   "metadata": {},
   "outputs": [],
   "source": [
    "d54 = consta(5,4,Ts54)"
   ]
  },
  {
   "cell_type": "code",
   "execution_count": 151,
   "id": "b91c5cc5-2676-4724-be9f-ddb6891f5506",
   "metadata": {},
   "outputs": [
    {
     "data": {
      "text/plain": [
       "{0: ([21], [2]),\n",
       " 1: ([22], [2.00000000000000]),\n",
       " 2: ([14, 23], [-sqrt(6)/2, sqrt(10)/2]),\n",
       " 3: ([19], [-2]),\n",
       " 4: ([20], [-2.00000000000000]),\n",
       " 5: ([12], [2]),\n",
       " 6: ([13], [2.00000000000000]),\n",
       " 7: ([7, 14, 23], [-4/3, 5*sqrt(2)/6, sqrt(30)/6]),\n",
       " 8: ([17], [2]),\n",
       " 9: ([18], [2.00000000000000]),\n",
       " 10: ([10], [-2]),\n",
       " 11: ([11], [-2.00000000000000]),\n",
       " 12: ([5], [2]),\n",
       " 13: ([6], [2.00000000000000]),\n",
       " 14: ([2, 7, 14, 23], [-sqrt(6)/2, 5*sqrt(2)/6, 5/6, sqrt(15)/6]),\n",
       " 15: ([15], [-2]),\n",
       " 16: ([16], [-2.00000000000000]),\n",
       " 17: ([8], [2]),\n",
       " 18: ([9], [2.00000000000000]),\n",
       " 19: ([3], [-2]),\n",
       " 20: ([4], [-2.00000000000000]),\n",
       " 21: ([0], [2]),\n",
       " 22: ([1], [2.00000000000000]),\n",
       " 23: ([2, 7, 14, 23], [sqrt(10)/2, sqrt(30)/6, sqrt(15)/6, 1/2])}"
      ]
     },
     "execution_count": 151,
     "metadata": {},
     "output_type": "execute_result"
    }
   ],
   "source": [
    "d54"
   ]
  },
  {
   "cell_type": "code",
   "execution_count": 152,
   "id": "b32605d8-7dd6-4401-ad1a-a51f19a0e0d1",
   "metadata": {},
   "outputs": [
    {
     "data": {
      "text/plain": [
       "'Todo esta bien'"
      ]
     },
     "execution_count": 152,
     "metadata": {},
     "output_type": "execute_result"
    }
   ],
   "source": [
    "check(5,4,d54,Ts54)"
   ]
  },
  {
   "cell_type": "markdown",
   "id": "8fbd1231-3514-4875-99c0-d7765f6470f9",
   "metadata": {},
   "source": [
    "### Las versiones $(4+d_n) \\times (4 + d_n)$"
   ]
  },
  {
   "cell_type": "code",
   "execution_count": 153,
   "id": "42046733-a87d-46d9-819c-5d85dd55dc7e",
   "metadata": {},
   "outputs": [],
   "source": [
    "TFs32 = Ts(Ts32)\n",
    "TFs42 = Ts(Ts42)\n",
    "TFs43 = Ts(Ts43)\n",
    "TFs52 = Ts(Ts52)\n",
    "Tfs53 = Ts(Ts53)\n",
    "Tfs54 = Ts(Ts54)"
   ]
  },
  {
   "cell_type": "markdown",
   "id": "f6465aa3-9ec6-4831-99f6-345ee72b372e",
   "metadata": {},
   "source": [
    "### Ultimas pruebas"
   ]
  },
  {
   "cell_type": "code",
   "execution_count": 154,
   "id": "07f680ce-c8f9-4045-a382-5aab9d0daf26",
   "metadata": {},
   "outputs": [
    {
     "data": {
      "text/plain": [
       "'Todas las relaciones se cumplen'"
      ]
     },
     "execution_count": 154,
     "metadata": {},
     "output_type": "execute_result"
    }
   ],
   "source": [
    "checkTTmat(Ts32,3,2)"
   ]
  },
  {
   "cell_type": "code",
   "execution_count": 155,
   "id": "206ebff1-c1e8-4dc4-9f0e-4f0d8687fbe3",
   "metadata": {},
   "outputs": [
    {
     "data": {
      "text/plain": [
       "'Todas las relaciones se cumplen'"
      ]
     },
     "execution_count": 155,
     "metadata": {},
     "output_type": "execute_result"
    }
   ],
   "source": [
    "checkTTmat(Ts42,4,2)"
   ]
  },
  {
   "cell_type": "code",
   "execution_count": 156,
   "id": "194f13b5-366f-47af-808b-d4109a9ec813",
   "metadata": {},
   "outputs": [
    {
     "data": {
      "text/plain": [
       "'Todas las relaciones se cumplen'"
      ]
     },
     "execution_count": 156,
     "metadata": {},
     "output_type": "execute_result"
    }
   ],
   "source": [
    "checkTTmat(Ts43,4,3)"
   ]
  },
  {
   "cell_type": "code",
   "execution_count": 157,
   "id": "3db0e17f-c197-4d3b-bd5e-ea7342151894",
   "metadata": {},
   "outputs": [
    {
     "data": {
      "text/plain": [
       "'Todas las relaciones se cumplen'"
      ]
     },
     "execution_count": 157,
     "metadata": {},
     "output_type": "execute_result"
    }
   ],
   "source": [
    "checkTTmat(Ts52,5,2)"
   ]
  },
  {
   "cell_type": "code",
   "execution_count": 158,
   "id": "248abf91-47cc-491c-8788-f3b125b1c769",
   "metadata": {},
   "outputs": [
    {
     "data": {
      "text/plain": [
       "'Todas las relaciones se cumplen'"
      ]
     },
     "execution_count": 158,
     "metadata": {},
     "output_type": "execute_result"
    }
   ],
   "source": [
    "checkTTmat(Ts53,5,3)"
   ]
  },
  {
   "cell_type": "code",
   "execution_count": 1,
   "id": "b0d200bd-8c18-4c76-ad95-2f1ad87d3315",
   "metadata": {},
   "outputs": [
    {
     "ename": "NameError",
     "evalue": "name 'checkTTmat' is not defined",
     "output_type": "error",
     "traceback": [
      "\u001b[1;31m---------------------------------------------------------------------------\u001b[0m",
      "\u001b[1;31mNameError\u001b[0m                                 Traceback (most recent call last)",
      "Cell \u001b[1;32mIn[1], line 1\u001b[0m\n\u001b[1;32m----> 1\u001b[0m \u001b[43mcheckTTmat\u001b[49m(Ts54,\u001b[38;5;241m5\u001b[39m,\u001b[38;5;241m4\u001b[39m)\n",
      "\u001b[1;31mNameError\u001b[0m: name 'checkTTmat' is not defined"
     ]
    }
   ],
   "source": [
    "checkTTmat(Ts54,5,4)"
   ]
  },
  {
   "cell_type": "markdown",
   "id": "ba6ae5fc-3ad3-4dd2-a2f1-1a5e64fd78d9",
   "metadata": {},
   "source": [
    "### Checks with S"
   ]
  },
  {
   "cell_type": "code",
   "execution_count": 160,
   "id": "72a6ddec-f0fa-4697-862e-1db9c39a3ec3",
   "metadata": {},
   "outputs": [
    {
     "ename": "IndentationError",
     "evalue": "expected an indented block after 'for' statement on line 5 (3262312561.py, line 8)",
     "output_type": "error",
     "traceback": [
      "\u001b[1;36m  Cell \u001b[1;32mIn[160], line 8\u001b[1;36m\u001b[0m\n\u001b[1;33m    u[i+4][a] = np.math.factorial(k)*1\u001b[0m\n\u001b[1;37m    ^\u001b[0m\n\u001b[1;31mIndentationError\u001b[0m\u001b[1;31m:\u001b[0m expected an indented block after 'for' statement on line 5\n"
     ]
    }
   ],
   "source": [
    "def S(i,j):\n",
    "    \n",
    "    u = np.zeros((d+4,d+4),dtype=object)    \n",
    "   # d = TraDelta(n,k)\n",
    "     \n",
    "    u[i+4][a] = np.math.factorial(k)*1\n",
    "        \n",
    "    return u"
   ]
  }
 ],
 "metadata": {
  "kernelspec": {
   "display_name": "Python 3 (ipykernel)",
   "language": "python",
   "name": "python3"
  },
  "language_info": {
   "codemirror_mode": {
    "name": "ipython",
    "version": 3
   },
   "file_extension": ".py",
   "mimetype": "text/x-python",
   "name": "python",
   "nbconvert_exporter": "python",
   "pygments_lexer": "ipython3",
   "version": "3.10.9"
  }
 },
 "nbformat": 4,
 "nbformat_minor": 5
}

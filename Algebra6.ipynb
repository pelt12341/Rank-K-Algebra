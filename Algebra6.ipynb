{
 "cells": [
  {
   "cell_type": "code",
   "execution_count": 16,
   "id": "bcd56274-b2aa-484d-8579-2fecca59fd24",
   "metadata": {},
   "outputs": [],
   "source": [
    "import numpy as np\n",
    "import pandas as pd\n",
    "import sympy as sp\n",
    "from fractions import Fraction\n",
    "import itertools\n",
    "import timeit"
   ]
  },
  {
   "cell_type": "markdown",
   "id": "a732d6fe-3962-470d-91cc-00e34268c1ec",
   "metadata": {},
   "source": [
    "### Funciones previas"
   ]
  },
  {
   "cell_type": "code",
   "execution_count": 17,
   "id": "9a0e4b0f-83d4-424c-b3ee-d1951243cf17",
   "metadata": {},
   "outputs": [],
   "source": [
    "def permutation(lst):\n",
    "    \n",
    "    if len(lst) == 0:\n",
    "        return []\n",
    "    if len(lst) == 1:\n",
    "        return [lst]\n",
    "    \n",
    "    l = []\n",
    "\n",
    "    for i in range(len(lst)):\n",
    "        m = lst[i]\n",
    "        remLst = lst[:i] + lst[i+1:]\n",
    "\n",
    "        for p in permutation(remLst):\n",
    "            l.append([m] + p)\n",
    "        \n",
    "    return l\n",
    "\n",
    "# Paridad de las permutaciones (solo funciona con el orden de la funcion anterior)\n",
    "\n",
    "def par(lst):\n",
    "    \n",
    "    l = []\n",
    "    \n",
    "    for i in range(len(lst)):\n",
    "        if i % 2 == 0:\n",
    "            l.append(1)\n",
    "            \n",
    "        else:\n",
    "            l.append(-1)\n",
    "    return np.cumprod(np.array(l))\n",
    "\n",
    "def combinations(n,k):\n",
    "    \n",
    "    u = list(range(0,n))\n",
    "    \n",
    "    c = [list(v) for v in itertools.product(u, repeat=k) if len([i for i in v if v.count(i)>1])==0]\n",
    "    \n",
    "    return c \n",
    " \n",
    "def kCombinations(output, temp, index, n, i, K):\n",
    "    if index == K:\n",
    "        output.append(temp.copy())\n",
    "        return\n",
    "    \n",
    "    if i >=n:\n",
    "        return\n",
    "    \n",
    "    temp[index] = i #+ 1\n",
    "    kCombinations(output, temp, index + 1, n, i + 1, K)\n",
    "    kCombinations(output, temp, index, n, i + 1, K)\n",
    "    \n",
    "def findKCombination(K,n):\n",
    "    \n",
    "    output = []\n",
    "    temp = [0]*K\n",
    "    kCombinations(output, temp, 0, n, 0, K)\n",
    "    return output"
   ]
  },
  {
   "cell_type": "markdown",
   "id": "eb6bf1c4-9a74-44b3-b2b6-cc271067a317",
   "metadata": {},
   "source": [
    "### Delta Generalizada"
   ]
  },
  {
   "cell_type": "code",
   "execution_count": 18,
   "id": "9d81129a-e073-4469-96c9-b45809a95cf6",
   "metadata": {},
   "outputs": [],
   "source": [
    "def Delta(upI,lwI):\n",
    "    \n",
    "    per = permutation(lwI)\n",
    "    pari = par(per)\n",
    "    \n",
    "    # Verifica si hay indices repetidos\n",
    "    \n",
    "    if len([i for i in upI if upI.count(i)>1]) > 0:\n",
    "        return 0\n",
    "    if len([i for i in lwI if lwI.count(i)>1]) > 0:\n",
    "        return 0  \n",
    "    \n",
    "    # Busca si los indices superiores son una permutacion (par o impar) del los inferiores\n",
    "    \n",
    "    if upI in per:\n",
    "        k = per.index(upI)\n",
    "        return sp.Rational(pari[k],np.math.factorial(len(upI)))\n",
    "    else:\n",
    "        return 0"
   ]
  },
  {
   "cell_type": "markdown",
   "id": "edfd660b-5278-48e2-916f-4b431ead9fc2",
   "metadata": {},
   "source": [
    "### Check de traza\n",
    "\n",
    "Deberia ser \n",
    "\n",
    "$\\Delta^{\\mu_1 ... \\mu_k}_{\\nu_1 ... \\nu_k} = \\frac{1}{k!}\\frac{n!}{(n-k)!}$"
   ]
  },
  {
   "cell_type": "code",
   "execution_count": 43,
   "id": "96fdd243-75d4-44b2-808d-1b98f9d56173",
   "metadata": {},
   "outputs": [],
   "source": [
    "def TraDelta(n,k):\n",
    "    u = 0\n",
    "    for i in combinations(n,k):\n",
    "        u = u + Delta(i,i)\n",
    "    return u  \n",
    "\n",
    "def checkDelta(n,k):\n",
    "    \n",
    "    #a = np.math.factorial(n)/np.math.factorial(n-k)\n",
    "    #b = np.math.factorial(k)\n",
    "    #s = (1/b)*a\n",
    "    \n",
    "    s = sp.Rational(1,np.math.factorial(k))*sp.Rational(np.math.factorial(n),np.math.factorial(n-k))\n",
    "    \n",
    "    if TraDelta(n,k) == s:\n",
    "        return True\n",
    "    else: \n",
    "        return False"
   ]
  },
  {
   "cell_type": "code",
   "execution_count": 39,
   "id": "5720c46f-b958-4967-90b9-0ba8162ed091",
   "metadata": {},
   "outputs": [
    {
     "name": "stdout",
     "output_type": "stream",
     "text": [
      "42 µs ± 442 ns per loop (mean ± std. dev. of 4 runs, 10,000 loops each)\n"
     ]
    }
   ],
   "source": [
    "%timeit -r 4 -n 10000 checkDelta(4,1)"
   ]
  },
  {
   "cell_type": "code",
   "execution_count": 40,
   "id": "11d2203f-f917-4a5f-8858-b758e36f09fd",
   "metadata": {},
   "outputs": [
    {
     "name": "stdout",
     "output_type": "stream",
     "text": [
      "18.6 µs ± 397 ns per loop (mean ± std. dev. of 4 runs, 10,000 loops each)\n"
     ]
    }
   ],
   "source": [
    "%timeit -r 4 -n 10000 checkDelta2(4,1)"
   ]
  },
  {
   "cell_type": "code",
   "execution_count": 27,
   "id": "e3174914-8b2e-4614-9f13-b9c2b9fe48cc",
   "metadata": {},
   "outputs": [
    {
     "data": {
      "text/plain": [
       "False"
      ]
     },
     "execution_count": 27,
     "metadata": {},
     "output_type": "execute_result"
    }
   ],
   "source": [
    "checkDelta(4,2)"
   ]
  },
  {
   "cell_type": "code",
   "execution_count": 28,
   "id": "85094f53-20e2-47b6-98a3-916d20cfc70c",
   "metadata": {},
   "outputs": [
    {
     "data": {
      "text/plain": [
       "False"
      ]
     },
     "execution_count": 28,
     "metadata": {},
     "output_type": "execute_result"
    }
   ],
   "source": [
    "checkDelta(4,3)"
   ]
  },
  {
   "cell_type": "code",
   "execution_count": 29,
   "id": "c56d0bd9-d3d6-4cf4-96ef-2a10305e2ded",
   "metadata": {},
   "outputs": [
    {
     "data": {
      "text/plain": [
       "False"
      ]
     },
     "execution_count": 29,
     "metadata": {},
     "output_type": "execute_result"
    }
   ],
   "source": [
    "checkDelta(5,2)"
   ]
  },
  {
   "cell_type": "code",
   "execution_count": 30,
   "id": "0456ea41-835e-49b2-91a1-d14137893e66",
   "metadata": {},
   "outputs": [
    {
     "data": {
      "text/plain": [
       "False"
      ]
     },
     "execution_count": 30,
     "metadata": {},
     "output_type": "execute_result"
    }
   ],
   "source": [
    "checkDelta(5,3)"
   ]
  },
  {
   "cell_type": "code",
   "execution_count": 31,
   "id": "cf30bb09-bd2a-4af3-8270-d5fccc9ab7b5",
   "metadata": {},
   "outputs": [
    {
     "data": {
      "text/plain": [
       "False"
      ]
     },
     "execution_count": 31,
     "metadata": {},
     "output_type": "execute_result"
    }
   ],
   "source": [
    "checkDelta(5,4)"
   ]
  },
  {
   "cell_type": "markdown",
   "id": "6fdb8a20-2df1-4553-8c1c-d4c0016b9c22",
   "metadata": {},
   "source": [
    "### Representacion fundamental de SU(n)"
   ]
  },
  {
   "cell_type": "code",
   "execution_count": 44,
   "id": "6db31c68-cf9d-4f1b-a346-ff5953726857",
   "metadata": {},
   "outputs": [],
   "source": [
    "def Li(n,i,j,a,b):\n",
    "    \n",
    "    s = Delta([a],[j])*Delta([i],[b])-Delta([i],[j])*Delta([a],[b])*sp.Rational(1,n)\n",
    "    \n",
    "    return s\n",
    "\n",
    "def LiM(n,i,j):\n",
    "    \n",
    "    u = np.zeros((n,n),dtype=object)\n",
    "    \n",
    "    for a in range(0,n):\n",
    "        for b in range(0,n):\n",
    "            u[a][b]=Li(n,i,j,a,b)\n",
    "    return u   \n",
    "\n",
    "def L2(n,i,j):\n",
    "    \n",
    "    u = np.zeros((n,n),dtype=object)\n",
    "    \n",
    "    for a in range(0,n):\n",
    "        for b in range(a,n):\n",
    "            u[a][b] = (sp.Rational(1,2))*(Li(n,i,j,a,b)+Li(n,j,i,a,b))\n",
    "            u[b][a] = u[a][b]\n",
    "            \n",
    "    return u          \n",
    "\n",
    "def M2(n,i,k):\n",
    "    \n",
    "    u = np.zeros((n,n),dtype=object)\n",
    "    \n",
    "    for a in range(0,n):\n",
    "        for b in range(a,n):\n",
    "            u[a][b] = (sp.Rational(1,2))*(1j)*(Li(n,i,k,a,b)-Li(n,k,i,a,b))\n",
    "            u[b][a] = -u[a][b]\n",
    "            \n",
    "    return u\n",
    "\n",
    "def D(n,k):\n",
    "    \n",
    "    u = sp.sqrt(2*(k+1)*(k+2))\n",
    "    \n",
    "    s = np.zeros((n,n),dtype=object)\n",
    "    \n",
    "    for i in range(0,k+1):\n",
    "        s = s + LiM(n,i,i)\n",
    "        \n",
    "    s = s - (k+1)*LiM(n,k+1,k+1)\n",
    "    \n",
    "    return s*(1/u)"
   ]
  },
  {
   "cell_type": "code",
   "execution_count": 45,
   "id": "f87021b3-07cc-4309-808b-082c28aa6724",
   "metadata": {},
   "outputs": [],
   "source": [
    "def GenLamda3(n):\n",
    "    \n",
    "    p = []\n",
    "    b = []\n",
    "\n",
    "    for j in range(1,n):\n",
    "        for i in range(0,j):\n",
    "           # if i >= j:\n",
    "           #     continue    \n",
    "\n",
    "            p.append(2*L2(n,i,j))\n",
    "            b.append('s')\n",
    "            p.append(2*M2(n,i,j))\n",
    "            b.append('as')\n",
    "        p.append(2*D(n,j-1))\n",
    "        b.append('d')\n",
    "    return p,b"
   ]
  },
  {
   "cell_type": "markdown",
   "id": "99d70de3-23c2-4370-9c4e-ae8cf4907cdf",
   "metadata": {},
   "source": [
    "### Traza de los generadores $\\lambda_I$"
   ]
  },
  {
   "cell_type": "code",
   "execution_count": 7,
   "id": "5800b098-83fe-44b6-96e2-2fd416b6c7c5",
   "metadata": {},
   "outputs": [],
   "source": [
    "def Traza(A,B):\n",
    "    \n",
    "    u = np.trace(np.matmul(A,B,dtype=object))\n",
    "    \n",
    "    return u"
   ]
  },
  {
   "cell_type": "code",
   "execution_count": 8,
   "id": "ba197480-53c7-4acb-8274-82e2445e29db",
   "metadata": {},
   "outputs": [],
   "source": [
    "def checkTL(Lamdas):\n",
    "    \n",
    "    u = (Lamdas[0].shape)[0]\n",
    "    s = []\n",
    "    \n",
    "    for i,j in itertools.product(range(0,u*u-1), repeat=2):\n",
    "        \n",
    "        if Traza(Lamdas[i],Lamdas[j]) == 2*Delta([i],[j]):\n",
    "            s.append(True)\n",
    "        else:\n",
    "            s.append(False)\n",
    "    \n",
    "    \n",
    "    if all(s) == True:\n",
    "        return 'Todas las relaciones se cumplen'\n",
    "    else:\n",
    "        return 'Algo va mal'\n",
    "    \n",
    "    "
   ]
  },
  {
   "cell_type": "code",
   "execution_count": 15,
   "id": "4726252e-8906-471b-8804-8098b9cced0c",
   "metadata": {},
   "outputs": [
    {
     "data": {
      "text/plain": [
       "'Todas las relaciones se cumplen'"
      ]
     },
     "execution_count": 15,
     "metadata": {},
     "output_type": "execute_result"
    }
   ],
   "source": [
    "checkTL(GenLamda3(2)[0])"
   ]
  },
  {
   "cell_type": "code",
   "execution_count": 16,
   "id": "05564f3b-ce55-4a04-90cb-b67911e981c3",
   "metadata": {},
   "outputs": [
    {
     "data": {
      "text/plain": [
       "'Todas las relaciones se cumplen'"
      ]
     },
     "execution_count": 16,
     "metadata": {},
     "output_type": "execute_result"
    }
   ],
   "source": [
    "checkTL(GenLamda3(3)[0])"
   ]
  },
  {
   "cell_type": "code",
   "execution_count": 17,
   "id": "512c418c-8622-4000-afd0-68b770ab4d7f",
   "metadata": {},
   "outputs": [
    {
     "data": {
      "text/plain": [
       "'Todas las relaciones se cumplen'"
      ]
     },
     "execution_count": 17,
     "metadata": {},
     "output_type": "execute_result"
    }
   ],
   "source": [
    "checkTL(GenLamda3(4)[0])"
   ]
  },
  {
   "cell_type": "code",
   "execution_count": 18,
   "id": "45d76e4c-1d46-4db0-a9e0-f7f217cfc5d4",
   "metadata": {},
   "outputs": [
    {
     "data": {
      "text/plain": [
       "'Todas las relaciones se cumplen'"
      ]
     },
     "execution_count": 18,
     "metadata": {},
     "output_type": "execute_result"
    }
   ],
   "source": [
    "checkTL(GenLamda3(5)[0])"
   ]
  },
  {
   "cell_type": "code",
   "execution_count": 19,
   "id": "7b5f21f8-f6cc-4a43-8679-eac57274aaa0",
   "metadata": {},
   "outputs": [
    {
     "data": {
      "text/plain": [
       "'Todas las relaciones se cumplen'"
      ]
     },
     "execution_count": 19,
     "metadata": {},
     "output_type": "execute_result"
    }
   ],
   "source": [
    "checkTL(GenLamda3(6)[0])"
   ]
  },
  {
   "cell_type": "markdown",
   "id": "d8f89fca-0941-4681-8439-68316c8b272f",
   "metadata": {},
   "source": [
    "### Calculo de los $t_I$\n",
    "\n",
    "$(t_I)^{\\quad \\ \\ \\  \\mu_1 \\ldots \\mu_k}_{\\nu_1 \\ldots \\nu_k} = (-1)^{k-1}(k-1)!\\delta_{l_1}^{[\\mu_1}\\Delta^{\\mu_2 \\ldots \\mu_k]\\rho_1}_{\\nu_1 \\ldots \\nu_k}(\\lambda_I)_{\\rho_1}^{l_1}$\n",
    "\n",
    "Estos generadores satisfacen la condicion:\n",
    "\n",
    "$Tr(t_It_J) = \\frac{2(k-1)!(n-2)!}{k^2(n-k-1)!}\\delta_{IJ}$\n",
    "\n",
    "$[t_I,t_J]^{\\quad \\ \\ \\  \\mu_1 \\ldots \\mu_k}_{\\nu_1 \\ldots \\nu_k} = 2i\\frac{(k-1)!}{k}f_{IJ}^K (t_K)^{\\quad \\ \\ \\  \\mu_1 \\ldots \\mu_k}_{\\nu_1 \\ldots \\nu_k} $\n",
    "\n",
    "Resulta mas comodo definir todo como\n",
    "\n",
    "\n",
    "$(t_I)^{\\quad \\ \\ \\  \\mu_1 \\ldots \\mu_k}_{\\nu_1 \\ldots \\nu_k} = (-1)^{k-1}\\frac{2}{k}\\delta_{l_1}^{[\\mu_1}\\Delta^{\\mu_2 \\ldots \\mu_k]\\rho_1}_{\\nu_1 \\ldots \\nu_k}(\\lambda_I)_{\\rho_1}^{l_1}$\n",
    "\n",
    "\n",
    "$Tr(t_It_J) = \\frac{(n-2)!}{2(k-1)!(n-k-1)!}\\delta_{IJ}$\n",
    "\n",
    "$[t_I,t_J]^{\\quad \\ \\ \\  \\mu_1 \\ldots \\mu_k}_{\\nu_1 \\ldots \\nu_k} = if_{IJ}^K (t_K)^{\\quad \\ \\ \\  \\mu_1 \\ldots \\mu_k}_{\\nu_1 \\ldots \\nu_k} $\n"
   ]
  },
  {
   "cell_type": "code",
   "execution_count": 9,
   "id": "317b5e6f-1cf1-4f90-a504-00c6a823d1c4",
   "metadata": {},
   "outputs": [],
   "source": [
    "def Pro(UpI,LwI):\n",
    "    \n",
    "    s = 0\n",
    "    \n",
    "    perU = permutation(UpI[:len(UpI)-1])\n",
    "    pari = par(perU)\n",
    "    \n",
    "    if len([i for i in UpI[:len(UpI)-1] if UpI[:len(UpI)-1].count(i)>1]) > 0:\n",
    "        return 0\n",
    "    else:\n",
    "        for i in perU:\n",
    "            k = perU.index(i)\n",
    "            s = s + Delta([i[0]],[LwI[0]])*Delta(i[1:]+[UpI[-1]],LwI[1:])*pari[k]*Fraction(1,np.math.factorial(len(UpI)-1))\n",
    "    return s "
   ]
  },
  {
   "cell_type": "code",
   "execution_count": 10,
   "id": "1e5947f5-cdf1-4658-8c2f-3996c3ff86a6",
   "metadata": {},
   "outputs": [],
   "source": [
    "def t3(n,matrix,upI,lwI):\n",
    "    \n",
    "    i = 0\n",
    "    \n",
    "    sig = ((-1)**(len(upI)-1))*sp.Rational(len(upI),2)\n",
    "    \n",
    "    s,t = np.where(matrix !=0 )\n",
    "    \n",
    "    \n",
    "    for p,m in zip(s,t):\n",
    "        UpI = upI + [p]\n",
    "        LpI = [m] + lwI\n",
    "        i = i + Pro(UpI,LpI)*(matrix)[p][m]\n",
    "    \n",
    "    return i*sig"
   ]
  },
  {
   "cell_type": "markdown",
   "id": "b88617ce-1828-4991-bd4d-fcf99a6b44fb",
   "metadata": {},
   "source": [
    "### Verifiquemos la traza"
   ]
  },
  {
   "cell_type": "code",
   "execution_count": 11,
   "id": "f77cc0a3-10c6-4dbb-b0af-22a9a8d9d131",
   "metadata": {},
   "outputs": [],
   "source": [
    "def Tract(matrix,k):\n",
    "    \n",
    "    u = (matrix[0].shape)[0]\n",
    "    \n",
    "    p = combinations(u,k)\n",
    "    \n",
    "    rs = sp.Rational(np.math.factorial(u-2),2*np.math.factorial(k-1)*np.math.factorial(u-k-1))\n",
    "    \n",
    "    t = []\n",
    "    \n",
    "    for i,j in itertools.product(range(0,u*u-1), repeat=2):\n",
    "        \n",
    "        l = []\n",
    "        \n",
    "        for upI in p:\n",
    "            for lwI in p:\n",
    "                l.append(sp.nsimplify(t3(u,matrix[i],upI,lwI)*t3(u,matrix[j],lwI,upI)))\n",
    "                \n",
    "  #      print(sp.nsimplify(sum(l)),sp.nsimplify(rs*Delta([i],[j])))\n",
    "        \n",
    "        if sp.nsimplify(sum(l)) == sp.nsimplify(rs*Delta([i],[j])):\n",
    "            t.append(True)\n",
    "        else:\n",
    "            t.append(False)\n",
    "            \n",
    "    if all(t) == True:\n",
    "        return 'Todas las relaciones se cumplen'\n",
    "    else:\n",
    "        return 'Algo va mal'            "
   ]
  },
  {
   "cell_type": "markdown",
   "id": "f23bd2c1-20fc-4f62-b272-9b22a04756e8",
   "metadata": {},
   "source": [
    "Esto tarda mucho"
   ]
  },
  {
   "cell_type": "code",
   "execution_count": 23,
   "id": "27f7686a-867b-47fb-8104-1cc22da0f317",
   "metadata": {},
   "outputs": [
    {
     "data": {
      "text/plain": [
       "'Todas las relaciones se cumplen'"
      ]
     },
     "execution_count": 23,
     "metadata": {},
     "output_type": "execute_result"
    }
   ],
   "source": [
    "Tract(GenLamda3(3)[0],2)"
   ]
  },
  {
   "cell_type": "code",
   "execution_count": 24,
   "id": "c4be0582-e68e-4368-b103-e629cf4b3853",
   "metadata": {},
   "outputs": [
    {
     "ename": "KeyboardInterrupt",
     "evalue": "",
     "output_type": "error",
     "traceback": [
      "\u001b[1;31m---------------------------------------------------------------------------\u001b[0m",
      "\u001b[1;31mKeyboardInterrupt\u001b[0m                         Traceback (most recent call last)",
      "Cell \u001b[1;32mIn[24], line 1\u001b[0m\n\u001b[1;32m----> 1\u001b[0m \u001b[43mTract\u001b[49m\u001b[43m(\u001b[49m\u001b[43mGenLamda3\u001b[49m\u001b[43m(\u001b[49m\u001b[38;5;241;43m4\u001b[39;49m\u001b[43m)\u001b[49m\u001b[43m[\u001b[49m\u001b[38;5;241;43m0\u001b[39;49m\u001b[43m]\u001b[49m\u001b[43m,\u001b[49m\u001b[38;5;241;43m2\u001b[39;49m\u001b[43m)\u001b[49m\n",
      "Cell \u001b[1;32mIn[22], line 17\u001b[0m, in \u001b[0;36mTract\u001b[1;34m(matrix, k)\u001b[0m\n\u001b[0;32m     15\u001b[0m       \u001b[38;5;28;01mfor\u001b[39;00m upI \u001b[38;5;129;01min\u001b[39;00m p:\n\u001b[0;32m     16\u001b[0m           \u001b[38;5;28;01mfor\u001b[39;00m lwI \u001b[38;5;129;01min\u001b[39;00m p:\n\u001b[1;32m---> 17\u001b[0m               l\u001b[38;5;241m.\u001b[39mappend(sp\u001b[38;5;241m.\u001b[39mnsimplify(\u001b[43mt3\u001b[49m\u001b[43m(\u001b[49m\u001b[43mu\u001b[49m\u001b[43m,\u001b[49m\u001b[43mmatrix\u001b[49m\u001b[43m[\u001b[49m\u001b[43mi\u001b[49m\u001b[43m]\u001b[49m\u001b[43m,\u001b[49m\u001b[43mupI\u001b[49m\u001b[43m,\u001b[49m\u001b[43mlwI\u001b[49m\u001b[43m)\u001b[49m\u001b[38;5;241m*\u001b[39mt3(u,matrix[j],lwI,upI)))\n\u001b[0;32m     19\u001b[0m \u001b[38;5;66;03m#      print(sp.nsimplify(sum(l)),sp.nsimplify(rs*Delta([i],[j])))\u001b[39;00m\n\u001b[0;32m     21\u001b[0m       \u001b[38;5;28;01mif\u001b[39;00m sp\u001b[38;5;241m.\u001b[39mnsimplify(\u001b[38;5;28msum\u001b[39m(l)) \u001b[38;5;241m==\u001b[39m sp\u001b[38;5;241m.\u001b[39mnsimplify(rs\u001b[38;5;241m*\u001b[39mDelta([i],[j])):\n",
      "Cell \u001b[1;32mIn[21], line 13\u001b[0m, in \u001b[0;36mt3\u001b[1;34m(n, matrix, upI, lwI)\u001b[0m\n\u001b[0;32m     11\u001b[0m     UpI \u001b[38;5;241m=\u001b[39m upI \u001b[38;5;241m+\u001b[39m [p]\n\u001b[0;32m     12\u001b[0m     LpI \u001b[38;5;241m=\u001b[39m [m] \u001b[38;5;241m+\u001b[39m lwI\n\u001b[1;32m---> 13\u001b[0m     i \u001b[38;5;241m=\u001b[39m i \u001b[38;5;241m+\u001b[39m \u001b[43mPro\u001b[49m\u001b[43m(\u001b[49m\u001b[43mUpI\u001b[49m\u001b[43m,\u001b[49m\u001b[43mLpI\u001b[49m\u001b[43m)\u001b[49m\u001b[38;5;241m*\u001b[39m(matrix)[p][m]\n\u001b[0;32m     15\u001b[0m \u001b[38;5;28;01mreturn\u001b[39;00m i\u001b[38;5;241m*\u001b[39msig\n",
      "Cell \u001b[1;32mIn[20], line 13\u001b[0m, in \u001b[0;36mPro\u001b[1;34m(UpI, LwI)\u001b[0m\n\u001b[0;32m     11\u001b[0m     \u001b[38;5;28;01mfor\u001b[39;00m i \u001b[38;5;129;01min\u001b[39;00m perU:\n\u001b[0;32m     12\u001b[0m         k \u001b[38;5;241m=\u001b[39m perU\u001b[38;5;241m.\u001b[39mindex(i)\n\u001b[1;32m---> 13\u001b[0m         s \u001b[38;5;241m=\u001b[39m s \u001b[38;5;241m+\u001b[39m \u001b[43mDelta\u001b[49m\u001b[43m(\u001b[49m\u001b[43m[\u001b[49m\u001b[43mi\u001b[49m\u001b[43m[\u001b[49m\u001b[38;5;241;43m0\u001b[39;49m\u001b[43m]\u001b[49m\u001b[43m]\u001b[49m\u001b[43m,\u001b[49m\u001b[43m[\u001b[49m\u001b[43mLwI\u001b[49m\u001b[43m[\u001b[49m\u001b[38;5;241;43m0\u001b[39;49m\u001b[43m]\u001b[49m\u001b[43m]\u001b[49m\u001b[43m)\u001b[49m\u001b[38;5;241;43m*\u001b[39;49m\u001b[43mDelta\u001b[49m\u001b[43m(\u001b[49m\u001b[43mi\u001b[49m\u001b[43m[\u001b[49m\u001b[38;5;241;43m1\u001b[39;49m\u001b[43m:\u001b[49m\u001b[43m]\u001b[49m\u001b[38;5;241;43m+\u001b[39;49m\u001b[43m[\u001b[49m\u001b[43mUpI\u001b[49m\u001b[43m[\u001b[49m\u001b[38;5;241;43m-\u001b[39;49m\u001b[38;5;241;43m1\u001b[39;49m\u001b[43m]\u001b[49m\u001b[43m]\u001b[49m\u001b[43m,\u001b[49m\u001b[43mLwI\u001b[49m\u001b[43m[\u001b[49m\u001b[38;5;241;43m1\u001b[39;49m\u001b[43m:\u001b[49m\u001b[43m]\u001b[49m\u001b[43m)\u001b[49m\u001b[38;5;241;43m*\u001b[39;49m\u001b[43mpari\u001b[49m\u001b[43m[\u001b[49m\u001b[43mk\u001b[49m\u001b[43m]\u001b[49m\u001b[38;5;241m*\u001b[39mFraction(\u001b[38;5;241m1\u001b[39m,np\u001b[38;5;241m.\u001b[39mmath\u001b[38;5;241m.\u001b[39mfactorial(\u001b[38;5;28mlen\u001b[39m(UpI)\u001b[38;5;241m-\u001b[39m\u001b[38;5;241m1\u001b[39m))\n\u001b[0;32m     14\u001b[0m \u001b[38;5;28;01mreturn\u001b[39;00m s\n",
      "File \u001b[1;32m~\\anaconda3\\lib\\site-packages\\sympy\\core\\decorators.py:64\u001b[0m, in \u001b[0;36m__sympifyit.<locals>.__sympifyit_wrapper\u001b[1;34m(a, b)\u001b[0m\n\u001b[0;32m     60\u001b[0m \u001b[38;5;28;01mtry\u001b[39;00m:\n\u001b[0;32m     61\u001b[0m     \u001b[38;5;66;03m# If an external class has _op_priority, it knows how to deal\u001b[39;00m\n\u001b[0;32m     62\u001b[0m     \u001b[38;5;66;03m# with SymPy objects. Otherwise, it must be converted.\u001b[39;00m\n\u001b[0;32m     63\u001b[0m     \u001b[38;5;28;01mif\u001b[39;00m \u001b[38;5;129;01mnot\u001b[39;00m \u001b[38;5;28mhasattr\u001b[39m(b, \u001b[38;5;124m'\u001b[39m\u001b[38;5;124m_op_priority\u001b[39m\u001b[38;5;124m'\u001b[39m):\n\u001b[1;32m---> 64\u001b[0m         b \u001b[38;5;241m=\u001b[39m \u001b[43msympify\u001b[49m\u001b[43m(\u001b[49m\u001b[43mb\u001b[49m\u001b[43m,\u001b[49m\u001b[43m \u001b[49m\u001b[43mstrict\u001b[49m\u001b[38;5;241;43m=\u001b[39;49m\u001b[38;5;28;43;01mTrue\u001b[39;49;00m\u001b[43m)\u001b[49m\n\u001b[0;32m     65\u001b[0m     \u001b[38;5;28;01mreturn\u001b[39;00m func(a, b)\n\u001b[0;32m     66\u001b[0m \u001b[38;5;28;01mexcept\u001b[39;00m SympifyError:\n",
      "File \u001b[1;32m~\\anaconda3\\lib\\site-packages\\sympy\\core\\sympify.py:399\u001b[0m, in \u001b[0;36msympify\u001b[1;34m(a, locals, convert_xor, strict, rational, evaluate)\u001b[0m\n\u001b[0;32m    397\u001b[0m     \u001b[38;5;28;01mimport\u001b[39;00m \u001b[38;5;21;01mnumpy\u001b[39;00m \u001b[38;5;28;01mas\u001b[39;00m \u001b[38;5;21;01mnp\u001b[39;00m\n\u001b[0;32m    398\u001b[0m     \u001b[38;5;28;01mif\u001b[39;00m np\u001b[38;5;241m.\u001b[39misscalar(a):\n\u001b[1;32m--> 399\u001b[0m         \u001b[38;5;28;01mreturn\u001b[39;00m \u001b[43m_convert_numpy_types\u001b[49m\u001b[43m(\u001b[49m\u001b[43ma\u001b[49m\u001b[43m,\u001b[49m\u001b[43m \u001b[49m\u001b[38;5;28;43mlocals\u001b[39;49m\u001b[38;5;241;43m=\u001b[39;49m\u001b[38;5;28;43mlocals\u001b[39;49m\u001b[43m,\u001b[49m\n\u001b[0;32m    400\u001b[0m \u001b[43m            \u001b[49m\u001b[43mconvert_xor\u001b[49m\u001b[38;5;241;43m=\u001b[39;49m\u001b[43mconvert_xor\u001b[49m\u001b[43m,\u001b[49m\u001b[43m \u001b[49m\u001b[43mstrict\u001b[49m\u001b[38;5;241;43m=\u001b[39;49m\u001b[43mstrict\u001b[49m\u001b[43m,\u001b[49m\u001b[43m \u001b[49m\u001b[43mrational\u001b[49m\u001b[38;5;241;43m=\u001b[39;49m\u001b[43mrational\u001b[49m\u001b[43m,\u001b[49m\n\u001b[0;32m    401\u001b[0m \u001b[43m            \u001b[49m\u001b[43mevaluate\u001b[49m\u001b[38;5;241;43m=\u001b[39;49m\u001b[43mevaluate\u001b[49m\u001b[43m)\u001b[49m\n\u001b[0;32m    403\u001b[0m _sympy_ \u001b[38;5;241m=\u001b[39m \u001b[38;5;28mgetattr\u001b[39m(a, \u001b[38;5;124m\"\u001b[39m\u001b[38;5;124m_sympy_\u001b[39m\u001b[38;5;124m\"\u001b[39m, \u001b[38;5;28;01mNone\u001b[39;00m)\n\u001b[0;32m    404\u001b[0m \u001b[38;5;28;01mif\u001b[39;00m _sympy_ \u001b[38;5;129;01mis\u001b[39;00m \u001b[38;5;129;01mnot\u001b[39;00m \u001b[38;5;28;01mNone\u001b[39;00m:\n",
      "File \u001b[1;32m~\\anaconda3\\lib\\site-packages\\sympy\\core\\sympify.py:87\u001b[0m, in \u001b[0;36m_convert_numpy_types\u001b[1;34m(a, **sympify_args)\u001b[0m\n\u001b[0;32m     85\u001b[0m         \u001b[38;5;28;01mreturn\u001b[39;00m _sympy_converter[\u001b[38;5;28mcomplex\u001b[39m](a\u001b[38;5;241m.\u001b[39mitem())\n\u001b[0;32m     86\u001b[0m     \u001b[38;5;28;01melse\u001b[39;00m:\n\u001b[1;32m---> 87\u001b[0m         \u001b[38;5;28;01mreturn\u001b[39;00m sympify(a\u001b[38;5;241m.\u001b[39mitem(), \u001b[38;5;241m*\u001b[39m\u001b[38;5;241m*\u001b[39msympify_args)\n\u001b[0;32m     88\u001b[0m \u001b[38;5;28;01melse\u001b[39;00m:\n\u001b[0;32m     89\u001b[0m     \u001b[38;5;28;01mtry\u001b[39;00m:\n",
      "File \u001b[1;32m~\\anaconda3\\lib\\site-packages\\sympy\\core\\sympify.py:363\u001b[0m, in \u001b[0;36msympify\u001b[1;34m(a, locals, convert_xor, strict, rational, evaluate)\u001b[0m\n\u001b[0;32m    354\u001b[0m \u001b[38;5;66;03m# XXX: If a is a Basic subclass rather than instance (e.g. sin rather than\u001b[39;00m\n\u001b[0;32m    355\u001b[0m \u001b[38;5;66;03m# sin(x)) then a.__sympy__ will be the property. Only on the instance will\u001b[39;00m\n\u001b[0;32m    356\u001b[0m \u001b[38;5;66;03m# a.__sympy__ give the *value* of the property (True). Since sympify(sin)\u001b[39;00m\n\u001b[1;32m   (...)\u001b[0m\n\u001b[0;32m    360\u001b[0m \u001b[38;5;66;03m#\u001b[39;00m\n\u001b[0;32m    361\u001b[0m \u001b[38;5;66;03m# https://github.com/sympy/sympy/issues/20124\u001b[39;00m\n\u001b[0;32m    362\u001b[0m is_sympy \u001b[38;5;241m=\u001b[39m \u001b[38;5;28mgetattr\u001b[39m(a, \u001b[38;5;124m'\u001b[39m\u001b[38;5;124m__sympy__\u001b[39m\u001b[38;5;124m'\u001b[39m, \u001b[38;5;28;01mNone\u001b[39;00m)\n\u001b[1;32m--> 363\u001b[0m \u001b[38;5;28;01mif\u001b[39;00m \u001b[43mis_sympy\u001b[49m\u001b[43m \u001b[49m\u001b[38;5;129;43;01mis\u001b[39;49;00m\u001b[43m \u001b[49m\u001b[38;5;28;43;01mTrue\u001b[39;49;00m:\n\u001b[0;32m    364\u001b[0m     \u001b[38;5;28;01mreturn\u001b[39;00m a\n\u001b[0;32m    365\u001b[0m \u001b[38;5;28;01melif\u001b[39;00m is_sympy \u001b[38;5;129;01mis\u001b[39;00m \u001b[38;5;129;01mnot\u001b[39;00m \u001b[38;5;28;01mNone\u001b[39;00m:\n",
      "\u001b[1;31mKeyboardInterrupt\u001b[0m: "
     ]
    }
   ],
   "source": [
    "Tract(GenLamda3(4)[0],2)"
   ]
  },
  {
   "cell_type": "code",
   "execution_count": null,
   "id": "34584858-4c11-4d3c-a582-d7c3a77caf73",
   "metadata": {},
   "outputs": [],
   "source": [
    "Tract(GenLamda3(4)[0],3)"
   ]
  },
  {
   "cell_type": "code",
   "execution_count": null,
   "id": "11c39b05-24fc-4d4b-b19a-1534407cda3e",
   "metadata": {},
   "outputs": [],
   "source": [
    "Tract(GenLamda3(5)[0],2)"
   ]
  },
  {
   "cell_type": "markdown",
   "id": "22db1537-fb58-4481-9f5f-f7302300773d",
   "metadata": {},
   "source": [
    "### Veamos el bracket"
   ]
  },
  {
   "cell_type": "code",
   "execution_count": 12,
   "id": "60129ed1-9939-4bf7-84a0-0f11a77595ed",
   "metadata": {},
   "outputs": [],
   "source": [
    "def brat(n,A,B,upI,lwI):\n",
    "    \n",
    "    k = len(upI)\n",
    "    u = 0\n",
    "    \n",
    "    p = combinations(n,k)\n",
    "        \n",
    "    for s in p:\n",
    "        u = u + (t3(n,A,s,lwI)*t3(n,B,upI,s) - t3(n,B,s,lwI)*t3(n,A,upI,s))\n",
    "        \n",
    "    return u    \n",
    "    "
   ]
  },
  {
   "cell_type": "markdown",
   "id": "811d4e58-9275-4992-a5da-a69a03053abe",
   "metadata": {},
   "source": [
    "## Representacion Matricial de los generadores"
   ]
  },
  {
   "cell_type": "code",
   "execution_count": 13,
   "id": "4cf43278-98a4-44f3-85f3-1d5ddc5e0ead",
   "metadata": {},
   "outputs": [],
   "source": [
    "def tM(n,Ma,st,k):\n",
    "    \n",
    "    values = findKCombination(k,n)\n",
    "    dim = len(values)\n",
    "    keys = [i for i in range(0,dim)]\n",
    "    \n",
    "    dic = dict(zip(keys,values))\n",
    "    \n",
    "    matrix = np.zeros((dim,dim),dtype=object)\n",
    "    \n",
    "    if st == 's':\n",
    "        \n",
    "        for i in range(0,dim):\n",
    "            for j in range(i,dim):\n",
    "                matrix[i][j] = np.math.factorial(k)*t3(n,Ma,dic[j],dic[i])\n",
    "                matrix[j][i] = matrix[i][j]\n",
    "                \n",
    "    elif st == 'as':\n",
    "        \n",
    "        for i in range(0,dim):\n",
    "            for j in range(i,dim):\n",
    "                matrix[i][j] = np.math.factorial(k)*t3(n,Ma,dic[j],dic[i])\n",
    "                matrix[j][i] = -matrix[i][j]\n",
    "                \n",
    "    elif st == 'd':\n",
    "        \n",
    "        for i in range(0,dim):\n",
    "            matrix[i][i] = np.math.factorial(k)*t3(n,Ma,dic[i],dic[i])       \n",
    "            \n",
    "    return matrix"
   ]
  },
  {
   "cell_type": "code",
   "execution_count": 14,
   "id": "2d4290aa-f4b5-4443-963e-cdd39cb63491",
   "metadata": {},
   "outputs": [],
   "source": [
    "def tMf(n,k):\n",
    "    \n",
    "    ##############################################################\n",
    "    ############ Todas las matrices y su simetria ################\n",
    "    ##############################################################\n",
    "    \n",
    "    Lamda, Sim = GenLamda3(n)\n",
    "    \n",
    "    ###############################################################\n",
    "    ######## Representacion Matricial de los T ####################\n",
    "    ###############################################################\n",
    "    \n",
    "    a = []\n",
    "    \n",
    "    for u in range(0,n*n-1):\n",
    "        \n",
    "        a.append(tM(n,Lamda[u],Sim[u],k))\n",
    "    \n",
    "    return Lamda,a"
   ]
  },
  {
   "cell_type": "code",
   "execution_count": 15,
   "id": "c0c23d40",
   "metadata": {},
   "outputs": [],
   "source": [
    "def bra(A,B):\n",
    "    \n",
    "    return np.matmul(A,B,dtype=object)-np.matmul(B,A,dtype=object)\n",
    "\n",
    "### Anticomutador\n",
    "\n",
    "\n",
    "def Abra(A,B):\n",
    "    \n",
    "    return np.matmul(A,B,dtype=object)+np.matmul(B,A,dtype=object)\n",
    "\n",
    "\n",
    "\n",
    "def f3(LamdL,n):\n",
    "       \n",
    "    u = range(0,n*n-1)\n",
    "    \n",
    "   # values = [list(v) for v in itertools.product(u, repeat=3)]\n",
    "    di = {}\n",
    "    \n",
    "    for i,j,k in itertools.product(u, repeat=3):\n",
    "        \n",
    "        m = sp.nsimplify(-(1j)*sp.Rational(1,4)*np.trace(np.matmul(LamdL[i],bra(LamdL[j],LamdL[k]),dtype=object)))\n",
    "        di[(i,j,k)] = m\n",
    "        \n",
    "    return di    \n",
    "\n"
   ]
  },
  {
   "cell_type": "markdown",
   "id": "bb00528b-b302-4218-a644-aed3829bbfa1",
   "metadata": {},
   "source": [
    "## Generadores $T_I$ \n",
    "\n",
    "En esta parte se calculan todos los $T_I$ en su representacion matricial. Por simplicidad aqui calculare todos los generadores para $n=3$,$n=4$,$n=5$. Para todos los valores de $2 \\leq k < n$."
   ]
  },
  {
   "cell_type": "markdown",
   "id": "174f137e-43f1-4c79-972f-a68f65c9e7d2",
   "metadata": {},
   "source": [
    "### n=3"
   ]
  },
  {
   "cell_type": "code",
   "execution_count": 16,
   "id": "899bfa4e-b842-4719-ba1a-302240918d15",
   "metadata": {},
   "outputs": [],
   "source": [
    "# k=2\n",
    "\n",
    "Lamda_3, T32 = tMf(3,2)"
   ]
  },
  {
   "cell_type": "code",
   "execution_count": 17,
   "id": "dfffb75d",
   "metadata": {},
   "outputs": [],
   "source": [
    "F_3 = f3(Lamda_3,3)"
   ]
  },
  {
   "cell_type": "markdown",
   "id": "0469860d-5ace-46b1-9756-a3ccc763a1c2",
   "metadata": {},
   "source": [
    "### n=4"
   ]
  },
  {
   "cell_type": "code",
   "execution_count": 18,
   "id": "68516b15-8acf-4327-a785-bed36db597b7",
   "metadata": {},
   "outputs": [],
   "source": [
    "# k = 2\n",
    "\n",
    "Lamda_4, T42 = tMf(4,2) \n",
    "\n",
    "# k =3\n",
    "T43 = tMf(4,3)[1]"
   ]
  },
  {
   "cell_type": "code",
   "execution_count": 19,
   "id": "48dcb6a0",
   "metadata": {},
   "outputs": [],
   "source": [
    "F_4 = f3(Lamda_4,4)"
   ]
  },
  {
   "cell_type": "markdown",
   "id": "c24e6179-fc1a-4757-b8d9-cfdb6734ca57",
   "metadata": {},
   "source": [
    "### n = 5"
   ]
  },
  {
   "cell_type": "code",
   "execution_count": 20,
   "id": "7e4ba1ad-88a4-4162-87f9-ecb82c17272a",
   "metadata": {},
   "outputs": [],
   "source": [
    "# k = 2\n",
    "\n",
    "Lamda_5, T52 = tMf(5,2)\n",
    "\n",
    "# k = 3\n",
    "\n",
    "T53 = tMf(5,3)[1]\n",
    "\n",
    "# k = 4\n",
    "\n",
    "T54 = tMf(5,4)[1]"
   ]
  },
  {
   "cell_type": "code",
   "execution_count": 21,
   "id": "120e9763",
   "metadata": {},
   "outputs": [],
   "source": [
    "F_5 = f3(Lamda_5,5)"
   ]
  },
  {
   "cell_type": "markdown",
   "id": "6384364f-3bf2-4609-95c2-c16b8cdaaa0c",
   "metadata": {},
   "source": [
    "### Pruebas de traza y algebra"
   ]
  },
  {
   "cell_type": "code",
   "execution_count": 22,
   "id": "33ea94c9-72b5-4925-9490-d8de71921cbc",
   "metadata": {},
   "outputs": [],
   "source": [
    "## Comutador\n",
    "\n",
    "\n",
    "\n",
    "## Constantes de estructura de SU(n)\n",
    "\n",
    "def f2(LamdL,I,J,K):\n",
    "    \n",
    "    if I == J or J == K:\n",
    "        return 0\n",
    "    else:\n",
    "        return  sp.nsimplify(-(1j)*sp.Rational(1,4)*np.trace(np.matmul(LamdL[I],bra(LamdL[J],LamdL[K]),dtype=object)))\n",
    "    \n"
   ]
  },
  {
   "cell_type": "markdown",
   "id": "e7b7dff8-93bd-42f9-9222-1f052b35990c",
   "metadata": {},
   "source": [
    "### Algebra"
   ]
  },
  {
   "cell_type": "code",
   "execution_count": 23,
   "id": "d0033344",
   "metadata": {},
   "outputs": [],
   "source": [
    "def rhs(n,I,J,Mat,Lamda,st):\n",
    "    \n",
    "    a = np.zeros((len(Mat[0]),len(Mat[0])),dtype=object)\n",
    "    \n",
    "    for i in range(0,n*n-1):\n",
    "        if st == 'l':\n",
    "            p = 2j\n",
    "        elif st == 't':\n",
    "            p = 1j\n",
    "        elif st == 'T':\n",
    "            p = 1\n",
    "        u = f2(Lamda,I,J,i)*p*Mat[i]\n",
    "        u[u!=0] = np.array([sp.nsimplify(i) for i in u[u!=0]],dtype=object)\n",
    "        \n",
    "        a = a + u\n",
    "        \n",
    "    return a\n",
    "\n",
    "def rhs2(n,I,J,Mat,estc,st,k):\n",
    "    \n",
    "    a = np.zeros((len(Mat[0]),len(Mat[0])),dtype=object)\n",
    "    \n",
    "    for i in range(0,n*n-1):\n",
    "        if st == 'l':\n",
    "            p = 2j\n",
    "        elif st == 't':\n",
    "            p = 1j\n",
    "        elif st == 'T':\n",
    "            p = 1\n",
    "        u = estc[(I,J,i)]*p*Mat[i]\n",
    "        u[u!=0] = np.array([sp.nsimplify(i) for i in u[u!=0]],dtype=object)\n",
    "        \n",
    "        a = a + u\n",
    "        \n",
    "    return a\n",
    "    "
   ]
  },
  {
   "cell_type": "code",
   "execution_count": 24,
   "id": "deba7d62-238c-46f7-9101-0ee51f6ffb4d",
   "metadata": {},
   "outputs": [],
   "source": [
    "def alg(n,I,J,Mat,Lamda,st,k):\n",
    "    \n",
    "    a = rhs(n,I,J,Mat,Lamda,st)\n",
    "        \n",
    "    b = bra(Mat[I],Mat[J])\n",
    "    \n",
    "    ## Verifiquemos que todo sea del mismo tipo\n",
    "    \n",
    "    a[a!=0] = np.array([sp.nsimplify(i) for i in a[a!=0]],dtype=object)\n",
    "    b[b!=0] = np.array([sp.nsimplify(i) for i in b[b!=0]],dtype=object)\n",
    "    \n",
    "    if (b == a).all():\n",
    "        return True\n",
    "    else:\n",
    "        return False\n",
    "    \n",
    "def alg2(n,I,J,Mat,estc,st,k):\n",
    "    \n",
    "    a = rhs2(n,I,J,Mat,estc,st,k)\n",
    "        \n",
    "    b = bra(Mat[I],Mat[J])\n",
    "    \n",
    "    ## Verifiquemos que todo sea del mismo tipo\n",
    "    \n",
    "    a[a!=0] = np.array([sp.nsimplify(i) for i in a[a!=0]],dtype=object)\n",
    "    b[b!=0] = np.array([sp.nsimplify(i) for i in b[b!=0]],dtype=object)\n",
    "    \n",
    "    if (b == a).all():\n",
    "        return True\n",
    "    else:\n",
    "        return False    "
   ]
  },
  {
   "cell_type": "markdown",
   "id": "de1efae7",
   "metadata": {},
   "source": [
    "### Vamos ahora con las pruebas para cada caso"
   ]
  },
  {
   "cell_type": "code",
   "execution_count": 25,
   "id": "abd9bde6",
   "metadata": {},
   "outputs": [],
   "source": [
    "def Algtest(n,Mat,Lamda,st,k):\n",
    "    \n",
    "    a = []\n",
    "    \n",
    "    for i,j in combinations(n*n-1,2):\n",
    "        a.append(alg(n,i,j,Mat,Lamda,st))\n",
    "        \n",
    "        # Para saber en que indices no se cumple\n",
    "        \n",
    "        # if alg(n,i,j,Mat,st) == False:\n",
    "            \n",
    "        #     print(i,j)\n",
    "        \n",
    "    if all(a) == True:\n",
    "        return 'Todas las relaciones se cumplen'\n",
    "    else:\n",
    "        return 'Algo va mal'\n",
    "    \n",
    "def Algtest2(n,Mat,estc,st,k):\n",
    "    \n",
    "    a = []\n",
    "    \n",
    "    for i,j in combinations(n*n-1,2):\n",
    "        a.append(alg2(n,i,j,Mat,estc,st,k))\n",
    "        \n",
    "        # Para saber en que indices no se cumple\n",
    "        \n",
    "        #if alg2(n,i,j,Mat,estc,st) == False:\n",
    "            \n",
    "        #    print(i,j)\n",
    "        \n",
    "    if all(a) == True:\n",
    "        return 'Todas las relaciones se cumplen'\n",
    "    else:\n",
    "        return 'Algo va mal'    "
   ]
  },
  {
   "cell_type": "markdown",
   "id": "7c2a1b86",
   "metadata": {},
   "source": [
    "### Verificando las relaciones de conmutacion de los $\\lambda_I$"
   ]
  },
  {
   "cell_type": "code",
   "execution_count": 39,
   "id": "83bc0582",
   "metadata": {},
   "outputs": [
    {
     "data": {
      "text/plain": [
       "'Todas las relaciones se cumplen'"
      ]
     },
     "execution_count": 39,
     "metadata": {},
     "output_type": "execute_result"
    }
   ],
   "source": [
    "Algtest2(3,Lamda_3,F_3,'l',1)"
   ]
  },
  {
   "cell_type": "code",
   "execution_count": 40,
   "id": "b5878785",
   "metadata": {},
   "outputs": [
    {
     "data": {
      "text/plain": [
       "'Todas las relaciones se cumplen'"
      ]
     },
     "execution_count": 40,
     "metadata": {},
     "output_type": "execute_result"
    }
   ],
   "source": [
    "Algtest2(4,Lamda_4,F_4,'l',1)"
   ]
  },
  {
   "cell_type": "code",
   "execution_count": 41,
   "id": "9386a259",
   "metadata": {},
   "outputs": [
    {
     "data": {
      "text/plain": [
       "'Todas las relaciones se cumplen'"
      ]
     },
     "execution_count": 41,
     "metadata": {},
     "output_type": "execute_result"
    }
   ],
   "source": [
    "Algtest2(5,Lamda_5,F_5,'l',1)"
   ]
  },
  {
   "cell_type": "markdown",
   "id": "c518bdbb",
   "metadata": {},
   "source": [
    "### Verificando las relaciones de commutacion de los $t_I$"
   ]
  },
  {
   "cell_type": "code",
   "execution_count": 42,
   "id": "c9f2c9bd",
   "metadata": {},
   "outputs": [
    {
     "data": {
      "text/plain": [
       "'Todas las relaciones se cumplen'"
      ]
     },
     "execution_count": 42,
     "metadata": {},
     "output_type": "execute_result"
    }
   ],
   "source": [
    "Algtest2(3,T32,F_3,'t',2)"
   ]
  },
  {
   "cell_type": "code",
   "execution_count": 43,
   "id": "55231dd0",
   "metadata": {},
   "outputs": [
    {
     "data": {
      "text/plain": [
       "'Todas las relaciones se cumplen'"
      ]
     },
     "execution_count": 43,
     "metadata": {},
     "output_type": "execute_result"
    }
   ],
   "source": [
    "Algtest2(4,T42,F_4,'t',2)"
   ]
  },
  {
   "cell_type": "code",
   "execution_count": 44,
   "id": "be0b4d65",
   "metadata": {},
   "outputs": [
    {
     "data": {
      "text/plain": [
       "'Todas las relaciones se cumplen'"
      ]
     },
     "execution_count": 44,
     "metadata": {},
     "output_type": "execute_result"
    }
   ],
   "source": [
    "Algtest2(4,T43,F_4,'t',3)"
   ]
  },
  {
   "cell_type": "code",
   "execution_count": 45,
   "id": "c473e2e2",
   "metadata": {},
   "outputs": [
    {
     "data": {
      "text/plain": [
       "'Todas las relaciones se cumplen'"
      ]
     },
     "execution_count": 45,
     "metadata": {},
     "output_type": "execute_result"
    }
   ],
   "source": [
    "Algtest2(5,T52,F_5,'t',2)"
   ]
  },
  {
   "cell_type": "code",
   "execution_count": 46,
   "id": "74c9eb6e-bc21-47b9-8a69-6bc2e968f2de",
   "metadata": {},
   "outputs": [
    {
     "data": {
      "text/plain": [
       "'Todas las relaciones se cumplen'"
      ]
     },
     "execution_count": 46,
     "metadata": {},
     "output_type": "execute_result"
    }
   ],
   "source": [
    "Algtest2(5,T53,F_5,'t',3)"
   ]
  },
  {
   "cell_type": "code",
   "execution_count": 47,
   "id": "bd597c70-10bd-41f2-a860-4c21d8a3c00e",
   "metadata": {},
   "outputs": [
    {
     "data": {
      "text/plain": [
       "'Todas las relaciones se cumplen'"
      ]
     },
     "execution_count": 47,
     "metadata": {},
     "output_type": "execute_result"
    }
   ],
   "source": [
    "Algtest2(5,T54,F_5,'t',4)"
   ]
  },
  {
   "cell_type": "markdown",
   "id": "e2484aa6-8ea8-423f-a2e1-c999c7e1d20a",
   "metadata": {},
   "source": [
    "### Verificando la traza"
   ]
  },
  {
   "cell_type": "code",
   "execution_count": 26,
   "id": "2c393a18-8bed-49b4-b9b6-297ef6d8f018",
   "metadata": {},
   "outputs": [],
   "source": [
    "def checkTTmat(tmat,n,k):\n",
    "    \n",
    "    s = []\n",
    "    \n",
    "    rs = sp.Rational(np.math.factorial(n-2),2*np.math.factorial(k-1)*np.math.factorial(n-k-1))\n",
    "    \n",
    "    for i,j in itertools.product(range(0,n*n-1), repeat=2):\n",
    "        \n",
    "        if Traza(tmat[i],tmat[j]) == rs*Delta([i],[j]):\n",
    "            s.append(True)\n",
    "        else:\n",
    "            print(Traza(tmat[i],tmat[j]),rs*Delta([i],[j]))\n",
    "            s.append(False)\n",
    "    \n",
    "    \n",
    "    if all(s) == True:\n",
    "        return 'Todas las relaciones se cumplen'\n",
    "    else:\n",
    "        return 'Algo va mal'"
   ]
  },
  {
   "cell_type": "code",
   "execution_count": 49,
   "id": "6ea6769b-bcf1-45cf-aa5d-ec23744c4db3",
   "metadata": {},
   "outputs": [
    {
     "data": {
      "text/plain": [
       "'Todas las relaciones se cumplen'"
      ]
     },
     "execution_count": 49,
     "metadata": {},
     "output_type": "execute_result"
    }
   ],
   "source": [
    "checkTTmat(T32,3,2)"
   ]
  },
  {
   "cell_type": "code",
   "execution_count": 50,
   "id": "33427eb6-e319-4ae1-83d8-07614da33bd4",
   "metadata": {},
   "outputs": [
    {
     "data": {
      "text/plain": [
       "'Todas las relaciones se cumplen'"
      ]
     },
     "execution_count": 50,
     "metadata": {},
     "output_type": "execute_result"
    }
   ],
   "source": [
    "checkTTmat(T42,4,2)"
   ]
  },
  {
   "cell_type": "code",
   "execution_count": 51,
   "id": "d61dea9e-c74d-4a62-a0c2-0d25bc1c2a1f",
   "metadata": {},
   "outputs": [
    {
     "data": {
      "text/plain": [
       "'Todas las relaciones se cumplen'"
      ]
     },
     "execution_count": 51,
     "metadata": {},
     "output_type": "execute_result"
    }
   ],
   "source": [
    "checkTTmat(T43,4,3)"
   ]
  },
  {
   "cell_type": "code",
   "execution_count": 52,
   "id": "5490ab5f-3aeb-49d7-9af2-8c180db47f93",
   "metadata": {},
   "outputs": [
    {
     "data": {
      "text/plain": [
       "'Todas las relaciones se cumplen'"
      ]
     },
     "execution_count": 52,
     "metadata": {},
     "output_type": "execute_result"
    }
   ],
   "source": [
    "checkTTmat(T52,5,2)"
   ]
  },
  {
   "cell_type": "code",
   "execution_count": 53,
   "id": "aea0a7c0-0ea5-4947-b999-81660362ed01",
   "metadata": {},
   "outputs": [
    {
     "data": {
      "text/plain": [
       "'Todas las relaciones se cumplen'"
      ]
     },
     "execution_count": 53,
     "metadata": {},
     "output_type": "execute_result"
    }
   ],
   "source": [
    "checkTTmat(T53,5,3)"
   ]
  },
  {
   "cell_type": "code",
   "execution_count": 54,
   "id": "ac3695ea-8e87-4a79-9c09-0025c2c9aa7f",
   "metadata": {},
   "outputs": [
    {
     "data": {
      "text/plain": [
       "'Todas las relaciones se cumplen'"
      ]
     },
     "execution_count": 54,
     "metadata": {},
     "output_type": "execute_result"
    }
   ],
   "source": [
    "checkTTmat(T54,5,4)"
   ]
  },
  {
   "cell_type": "markdown",
   "id": "ba55070f-9663-4914-9eb3-b0130da99982",
   "metadata": {},
   "source": [
    "### Vamos ahora a calcular los $T_I$\n",
    "\n",
    "En base a los cambios anteriores yo colocaria \n",
    "\n",
    "$(T_I)^{A}_{B} = i(t^t_I)^{A}_{B}$"
   ]
  },
  {
   "cell_type": "code",
   "execution_count": 27,
   "id": "1a6609a2-404f-4ed2-bf93-7bc2486991a2",
   "metadata": {},
   "outputs": [],
   "source": [
    "def Ts(tm):\n",
    "    \n",
    "    s = tm[0].shape\n",
    "    a = []\n",
    "    \n",
    "    for k in tm:\n",
    "        \n",
    "        u = np.array(np.zeros((s[0]+4,s[0]+4),dtype=object))\n",
    "        u[4:,4:] = (1j)*np.transpose(k)\n",
    "        a.append(u)\n",
    "        \n",
    "    return a   "
   ]
  },
  {
   "cell_type": "code",
   "execution_count": 28,
   "id": "025b36d5-8114-4494-baf3-fa54884bd54e",
   "metadata": {},
   "outputs": [],
   "source": [
    "TF32 = Ts(T32)\n",
    "TF42 = Ts(T42)\n",
    "TF43 = Ts(T43)\n",
    "TF52 = Ts(T52)\n",
    "TF53 = Ts(T53)\n",
    "TF54 = Ts(T54)"
   ]
  },
  {
   "cell_type": "code",
   "execution_count": 113,
   "id": "5093e10e-2fa8-4ada-83d1-2e9a2419bde0",
   "metadata": {},
   "outputs": [
    {
     "data": {
      "text/plain": [
       "'Todas las relaciones se cumplen'"
      ]
     },
     "execution_count": 113,
     "metadata": {},
     "output_type": "execute_result"
    }
   ],
   "source": [
    "Algtest2(3,TF32,F_3,'T',2)"
   ]
  },
  {
   "cell_type": "code",
   "execution_count": 114,
   "id": "b1da8d61-404f-4b26-b0c1-12b20f584ece",
   "metadata": {},
   "outputs": [
    {
     "data": {
      "text/plain": [
       "'Todas las relaciones se cumplen'"
      ]
     },
     "execution_count": 114,
     "metadata": {},
     "output_type": "execute_result"
    }
   ],
   "source": [
    "Algtest2(4,TF42,F_4,'T',2)"
   ]
  },
  {
   "cell_type": "code",
   "execution_count": 115,
   "id": "debe5aef-d775-4c9c-bacd-f6b14e62170e",
   "metadata": {},
   "outputs": [
    {
     "data": {
      "text/plain": [
       "'Todas las relaciones se cumplen'"
      ]
     },
     "execution_count": 115,
     "metadata": {},
     "output_type": "execute_result"
    }
   ],
   "source": [
    "Algtest2(4,TF43,F_4,'T',3)"
   ]
  },
  {
   "cell_type": "code",
   "execution_count": 116,
   "id": "6f114651-7d2d-4437-8bbc-5094625a06d6",
   "metadata": {},
   "outputs": [
    {
     "data": {
      "text/plain": [
       "'Todas las relaciones se cumplen'"
      ]
     },
     "execution_count": 116,
     "metadata": {},
     "output_type": "execute_result"
    }
   ],
   "source": [
    "Algtest2(5,TF52,F_5,'T',2)"
   ]
  },
  {
   "cell_type": "code",
   "execution_count": 117,
   "id": "cd8052f1-01a9-4a1d-bdd5-fa6ae793e5f0",
   "metadata": {},
   "outputs": [
    {
     "data": {
      "text/plain": [
       "'Todas las relaciones se cumplen'"
      ]
     },
     "execution_count": 117,
     "metadata": {},
     "output_type": "execute_result"
    }
   ],
   "source": [
    "Algtest2(5,TF53,F_5,'T',3)"
   ]
  },
  {
   "cell_type": "code",
   "execution_count": 118,
   "id": "889d7437-d527-42eb-97c1-9ab225bd8808",
   "metadata": {},
   "outputs": [
    {
     "data": {
      "text/plain": [
       "'Todas las relaciones se cumplen'"
      ]
     },
     "execution_count": 118,
     "metadata": {},
     "output_type": "execute_result"
    }
   ],
   "source": [
    "Algtest2(5,TF54,F_5,'T',4)"
   ]
  },
  {
   "cell_type": "markdown",
   "id": "f66d6f9c-af18-4e57-ad10-934cc57cdb3e",
   "metadata": {},
   "source": [
    "## Verifiquemos la propiedad $T_I^\\dagger = - T_I$"
   ]
  },
  {
   "cell_type": "code",
   "execution_count": 29,
   "id": "4fe78b5d-9eda-4a6f-aa9e-3576e6fbf5c5",
   "metadata": {},
   "outputs": [],
   "source": [
    "def anticheck(Matrix):\n",
    "    \n",
    "    a = []\n",
    "    \n",
    "    for i in Matrix:\n",
    "        \n",
    "        u = np.conjugate(np.transpose(i))\n",
    "        \n",
    "        if (u == -i).all():\n",
    "            a.append(True)\n",
    "        else:\n",
    "            a.append(False)\n",
    "            \n",
    "    \n",
    "    if all(a) == True:\n",
    "        return 'Todas las relaciones se cumplen'\n",
    "    else:\n",
    "        return 'Algo va mal'            "
   ]
  },
  {
   "cell_type": "code",
   "execution_count": 64,
   "id": "349e2295-d48c-48dd-8f35-9ee7cbc0de91",
   "metadata": {},
   "outputs": [
    {
     "data": {
      "text/plain": [
       "'Todas las relaciones se cumplen'"
      ]
     },
     "execution_count": 64,
     "metadata": {},
     "output_type": "execute_result"
    }
   ],
   "source": [
    "anticheck(TF32)"
   ]
  },
  {
   "cell_type": "code",
   "execution_count": 65,
   "id": "c4e109ca-baa5-4cba-8222-f6fe8a2379b4",
   "metadata": {},
   "outputs": [
    {
     "data": {
      "text/plain": [
       "'Todas las relaciones se cumplen'"
      ]
     },
     "execution_count": 65,
     "metadata": {},
     "output_type": "execute_result"
    }
   ],
   "source": [
    "anticheck(TF42)"
   ]
  },
  {
   "cell_type": "code",
   "execution_count": 66,
   "id": "a05f13a4-8ddb-4cbe-b510-4456b379f71d",
   "metadata": {},
   "outputs": [
    {
     "data": {
      "text/plain": [
       "'Todas las relaciones se cumplen'"
      ]
     },
     "execution_count": 66,
     "metadata": {},
     "output_type": "execute_result"
    }
   ],
   "source": [
    "anticheck(TF43)"
   ]
  },
  {
   "cell_type": "code",
   "execution_count": 67,
   "id": "76e86e27-e481-4609-8ff4-8d71263270b1",
   "metadata": {},
   "outputs": [
    {
     "data": {
      "text/plain": [
       "'Todas las relaciones se cumplen'"
      ]
     },
     "execution_count": 67,
     "metadata": {},
     "output_type": "execute_result"
    }
   ],
   "source": [
    "anticheck(TF52)"
   ]
  },
  {
   "cell_type": "code",
   "execution_count": 68,
   "id": "b1c7024a-f586-463e-8d8e-0f5b203257ee",
   "metadata": {},
   "outputs": [
    {
     "data": {
      "text/plain": [
       "'Todas las relaciones se cumplen'"
      ]
     },
     "execution_count": 68,
     "metadata": {},
     "output_type": "execute_result"
    }
   ],
   "source": [
    "anticheck(TF53)"
   ]
  },
  {
   "cell_type": "code",
   "execution_count": 69,
   "id": "1e8ab879-d357-4572-a8c5-30766c5834c0",
   "metadata": {},
   "outputs": [
    {
     "data": {
      "text/plain": [
       "'Todas las relaciones se cumplen'"
      ]
     },
     "execution_count": 69,
     "metadata": {},
     "output_type": "execute_result"
    }
   ],
   "source": [
    "anticheck(TF54)"
   ]
  },
  {
   "cell_type": "code",
   "execution_count": 30,
   "id": "a2509b22-2698-4858-aade-205174dbf666",
   "metadata": {},
   "outputs": [],
   "source": [
    "def Gamma(n,k):\n",
    "    \n",
    "    d = TraDelta(n,k)\n",
    "    \n",
    "    u = np.array(np.zeros((d+4,d+4),dtype=object))\n",
    "\n",
    "    for i in range(0,4): u[i][i] = 1\n",
    "    \n",
    "    for i in range(4,d+4): u[i][i] = -1#sp.Rational(d,np.math.factorial(k))\n",
    "    \n",
    "    return u\n",
    "    "
   ]
  },
  {
   "cell_type": "code",
   "execution_count": 31,
   "id": "c1cbab30-da3d-4919-9f50-d45e8e8ac7a1",
   "metadata": {},
   "outputs": [],
   "source": [
    "def superTr(n,k,mat):\n",
    "    \n",
    "    s = Gamma(n,k)\n",
    "    \n",
    "    l = []\n",
    "    \n",
    "    rs = sp.Rational(np.math.factorial(n-2),2*np.math.factorial(k-1)*np.math.factorial(n-k-1))\n",
    "    \n",
    "    for i,j in itertools.product(range(0,n*n-1), repeat=2):\n",
    "        \n",
    "        t = np.matmul(s,np.matmul(mat[i],mat[j],dtype=object),dtype=object)\n",
    "        \n",
    "        t[t!=0] = np.array([sp.nsimplify(o) for o in t[t!=0]],dtype=object)\n",
    "        \n",
    "        u = sp.nsimplify(np.trace(t))\n",
    "        \n",
    "        if u == sp.nsimplify(rs*Delta([i],[j])):\n",
    "            l.append(True)\n",
    "        else:\n",
    "            l.append(False)\n",
    "            print(u,sp.nsimplify(rs*Delta([i],[j])))\n",
    "    \n",
    "    \n",
    "    if all(l) == True:\n",
    "        return 'Todas las relaciones se cumplen'\n",
    "    else:\n",
    "        return 'Algo va mal'\n",
    "       \n",
    "    return l        "
   ]
  },
  {
   "cell_type": "code",
   "execution_count": 72,
   "id": "f5f41c17-eadb-47ad-b63d-e97604ab70e2",
   "metadata": {},
   "outputs": [
    {
     "data": {
      "text/plain": [
       "'Todas las relaciones se cumplen'"
      ]
     },
     "execution_count": 72,
     "metadata": {},
     "output_type": "execute_result"
    }
   ],
   "source": [
    "superTr(3,2,TF32)"
   ]
  },
  {
   "cell_type": "code",
   "execution_count": 73,
   "id": "9c1c1ded-bff8-4b6d-b66e-5eeb55baa5ba",
   "metadata": {},
   "outputs": [
    {
     "data": {
      "text/plain": [
       "'Todas las relaciones se cumplen'"
      ]
     },
     "execution_count": 73,
     "metadata": {},
     "output_type": "execute_result"
    }
   ],
   "source": [
    "superTr(4,2,TF42)"
   ]
  },
  {
   "cell_type": "code",
   "execution_count": 74,
   "id": "2d03da79-1ec0-4046-a252-b608469e62c8",
   "metadata": {},
   "outputs": [
    {
     "data": {
      "text/plain": [
       "'Todas las relaciones se cumplen'"
      ]
     },
     "execution_count": 74,
     "metadata": {},
     "output_type": "execute_result"
    }
   ],
   "source": [
    "superTr(4,3,TF43)"
   ]
  },
  {
   "cell_type": "code",
   "execution_count": 75,
   "id": "5c292c57-a3ae-4af8-8dc8-ede6328b5e58",
   "metadata": {},
   "outputs": [
    {
     "data": {
      "text/plain": [
       "'Todas las relaciones se cumplen'"
      ]
     },
     "execution_count": 75,
     "metadata": {},
     "output_type": "execute_result"
    }
   ],
   "source": [
    "superTr(5,2,TF52)"
   ]
  },
  {
   "cell_type": "code",
   "execution_count": 76,
   "id": "2b1dab96-33a2-483c-a787-2f220815b7be",
   "metadata": {},
   "outputs": [
    {
     "data": {
      "text/plain": [
       "'Todas las relaciones se cumplen'"
      ]
     },
     "execution_count": 76,
     "metadata": {},
     "output_type": "execute_result"
    }
   ],
   "source": [
    "superTr(5,3,TF53)"
   ]
  },
  {
   "cell_type": "code",
   "execution_count": 77,
   "id": "a1074b5d-e084-44ce-89da-8ac639cbb8d3",
   "metadata": {},
   "outputs": [
    {
     "data": {
      "text/plain": [
       "'Todas las relaciones se cumplen'"
      ]
     },
     "execution_count": 77,
     "metadata": {},
     "output_type": "execute_result"
    }
   ],
   "source": [
    "superTr(5,4,TF54)"
   ]
  },
  {
   "cell_type": "markdown",
   "id": "65fafdfd-0486-4352-868b-33629713c580",
   "metadata": {},
   "source": [
    "### Las Cargas susy:\n",
    "\n",
    "$(Q_{i'}^\\alpha)^A_B = k! \\Delta^A_{i'+4} \\delta^\\alpha_{B} \\quad (\\bar{Q}^{i'}_\\alpha)^A_B = k!  \\delta_\\alpha^{A}\\Delta_B^{i'+4}$"
   ]
  },
  {
   "cell_type": "code",
   "execution_count": 32,
   "id": "e0949e4c-c8fc-4dd9-bb47-1e8d95d2fe76",
   "metadata": {},
   "outputs": [],
   "source": [
    "def char(d,k,a,i):\n",
    "    \n",
    "   # d = TraDelta(n,k)\n",
    "    \n",
    "    u = np.zeros((d+4,d+4),dtype=object)\n",
    "    \n",
    "    u[i+4][a] = np.math.factorial(k)*1\n",
    "        \n",
    "    return u\n",
    "    \n",
    "def charB(d,k,a,i):\n",
    "    \n",
    "   # d = TraDelta(n,k)\n",
    "    \n",
    "    u = np.zeros((d+4,d+4),dtype=object)\n",
    "    \n",
    "    u[a][i+4] = np.math.factorial(k)*1\n",
    "        \n",
    "    return u    "
   ]
  },
  {
   "cell_type": "markdown",
   "id": "98defdfa-6dde-4e2f-9739-f4b4ba4e970a",
   "metadata": {},
   "source": [
    "### Vamos a generarlas todas ahora"
   ]
  },
  {
   "cell_type": "code",
   "execution_count": 33,
   "id": "888c27b7-ee3c-4817-9974-3b62a0023864",
   "metadata": {},
   "outputs": [],
   "source": [
    "def Charges(n,k):\n",
    "    \n",
    "    d = TraDelta(n,k)\n",
    "    p = {}\n",
    "    \n",
    "    for a in range(0,4):\n",
    "        for i in range(0,d):\n",
    "            \n",
    "            p[(a,i)] = char(d,k,a,i)\n",
    "            \n",
    "    return p \n",
    "\n",
    "def ChargesB(n,k):\n",
    "    \n",
    "    d = TraDelta(n,k)\n",
    "    p = {}\n",
    "    \n",
    "    for a in range(0,4):\n",
    "        for i in range(0,d):\n",
    "            \n",
    "            p[(i,a)] = charB(d,k,a,i)\n",
    "            \n",
    "    return p    "
   ]
  },
  {
   "cell_type": "code",
   "execution_count": 34,
   "id": "4555787b-42c7-42b3-83ed-5c84aeb347c2",
   "metadata": {},
   "outputs": [],
   "source": [
    "Q32 = Charges(3,2)\n",
    "QB32 = ChargesB(3,2)"
   ]
  },
  {
   "cell_type": "code",
   "execution_count": 35,
   "id": "53ea4008-aeef-420c-8b47-b57d4a59b6f3",
   "metadata": {},
   "outputs": [],
   "source": [
    "Q42 = Charges(4,2)\n",
    "QB42 = ChargesB(4,2)\n",
    "\n",
    "Q43 = Charges(4,3)\n",
    "QB43 = ChargesB(4,3)"
   ]
  },
  {
   "cell_type": "code",
   "execution_count": 36,
   "id": "2da0fcee-8d1b-4e43-9cde-20348316227e",
   "metadata": {},
   "outputs": [],
   "source": [
    "Q52 = Charges(5,2)\n",
    "QB52 = ChargesB(5,2)\n",
    "\n",
    "Q53 = Charges(5,3)\n",
    "QB53 = ChargesB(5,3)\n",
    "\n",
    "Q54 = Charges(5,4)\n",
    "QB54 = ChargesB(5,4)"
   ]
  },
  {
   "cell_type": "markdown",
   "id": "f01323f2-2571-4297-8047-dd14528252af",
   "metadata": {},
   "source": [
    "### Los conmutadores \n",
    "\n",
    "$[T_I,Q^\\alpha_{i'}] = i(t_I)_{i'}^{\\ \\ j'}Q^\\alpha_{j'}$\n",
    "\n",
    "$[T_I,\\bar{Q}_\\alpha^{i'}] = -i\\bar{Q}_\\alpha^{j'}(t_I)^{\\ \\ i'}_{j'}$"
   ]
  },
  {
   "cell_type": "code",
   "execution_count": 37,
   "id": "fb38787b-9665-4ff9-909c-ad36c47ebc27",
   "metadata": {},
   "outputs": [],
   "source": [
    "def rhsQ(n,k,Mat,tmat,I,i,a,st):\n",
    "    \n",
    "    d = TraDelta(n,k)\n",
    "    \n",
    "    p = np.zeros((d+4,d+4),dtype=object)\n",
    "    \n",
    "    for s in range(0,d):\n",
    "        \n",
    "        if st == 'Q':\n",
    "            u = (tmat[I])[i][s]*Mat[(a,s)]\n",
    "            u[u!=0] = np.array([sp.nsimplify(i) for i in u[u!=0]],dtype=object)\n",
    "        \n",
    "            p = p + u\n",
    "            \n",
    "        elif st == 'QB':\n",
    "            \n",
    "            u = (tmat[I])[s][i]*Mat[(s,a)]\n",
    "            u[u!=0] = np.array([sp.nsimplify(i) for i in u[u!=0]],dtype=object)\n",
    "        \n",
    "            p = p + u\n",
    "            \n",
    "    if st == 'Q':\n",
    "        return (1j)*p\n",
    "        \n",
    "    elif st == 'QB':\n",
    "        return -(1j)*p\n",
    "\n",
    "def algQ(n,k,Tmat,tmat,Mat,I,i,al,st):\n",
    "    \n",
    "    a = rhsQ(n,k,Mat,tmat,I,i,al,st)\n",
    "    \n",
    "    if st == 'Q':\n",
    "        \n",
    "        b = bra(Tmat[I],Mat[(al,i)])\n",
    "    \n",
    "    elif st == 'QB':\n",
    "        \n",
    "        b = bra(Tmat[I],Mat[(i,al)])\n",
    "        \n",
    "    ## Verifiquemos que todo sea del mismo tipo\n",
    "    \n",
    "    a[a!=0] = np.array([sp.nsimplify(s) for s in a[a!=0]],dtype=object)\n",
    "    b[b!=0] = np.array([sp.nsimplify(s) for s in b[b!=0]],dtype=object)\n",
    "    \n",
    "    if (b == a).all():\n",
    "        return True\n",
    "    else:\n",
    "        return False \n",
    "    \n",
    "def AlgtestQ(n,k,Tmat,tmat,Mat,st):\n",
    "    \n",
    "    a = []\n",
    "    \n",
    "    d = TraDelta(n,k)\n",
    "    \n",
    "    for I in range(0,n*n-1):\n",
    "        for al in range(0,4):\n",
    "            for i in range(0,d):\n",
    "                a.append(algQ(n,k,Tmat,tmat,Mat,I,i,al,st))\n",
    "    \n",
    "        # Para saber en que indices no se cumple\n",
    "        \n",
    "        #if alg2(n,i,j,Mat,estc,st) == False:\n",
    "            \n",
    "        #    print(i,j)\n",
    "        \n",
    "    if all(a) == True:\n",
    "        return 'Todas las relaciones se cumplen'\n",
    "    else:\n",
    "        return 'Algo va mal'    "
   ]
  },
  {
   "cell_type": "code",
   "execution_count": 191,
   "id": "9723bc26-d305-4a45-b844-7858180246ae",
   "metadata": {},
   "outputs": [
    {
     "data": {
      "text/plain": [
       "'Todas las relaciones se cumplen'"
      ]
     },
     "execution_count": 191,
     "metadata": {},
     "output_type": "execute_result"
    }
   ],
   "source": [
    "AlgtestQ(3,2,TF32,T32,Q32,'Q')"
   ]
  },
  {
   "cell_type": "code",
   "execution_count": 192,
   "id": "833e8ed8-bb9c-44b6-86f5-6d864bc44b92",
   "metadata": {},
   "outputs": [
    {
     "data": {
      "text/plain": [
       "'Todas las relaciones se cumplen'"
      ]
     },
     "execution_count": 192,
     "metadata": {},
     "output_type": "execute_result"
    }
   ],
   "source": [
    "AlgtestQ(3,2,TF32,T32,QB32,'QB')"
   ]
  },
  {
   "cell_type": "code",
   "execution_count": 193,
   "id": "5b4140c3-1ac7-4495-94fa-d42db912d0ee",
   "metadata": {},
   "outputs": [
    {
     "data": {
      "text/plain": [
       "'Todas las relaciones se cumplen'"
      ]
     },
     "execution_count": 193,
     "metadata": {},
     "output_type": "execute_result"
    }
   ],
   "source": [
    "AlgtestQ(4,2,TF42,T42,Q42,'Q')"
   ]
  },
  {
   "cell_type": "code",
   "execution_count": 198,
   "id": "687f8ff3-29e6-482d-bd04-9e1cee592d9b",
   "metadata": {},
   "outputs": [
    {
     "data": {
      "text/plain": [
       "'Todas las relaciones se cumplen'"
      ]
     },
     "execution_count": 198,
     "metadata": {},
     "output_type": "execute_result"
    }
   ],
   "source": [
    "AlgtestQ(4,2,TF42,T42,QB42,'QB')"
   ]
  },
  {
   "cell_type": "code",
   "execution_count": 201,
   "id": "a915080a-fbd1-4810-8939-d8b1e5b112e0",
   "metadata": {},
   "outputs": [
    {
     "data": {
      "text/plain": [
       "'Todas las relaciones se cumplen'"
      ]
     },
     "execution_count": 201,
     "metadata": {},
     "output_type": "execute_result"
    }
   ],
   "source": [
    "AlgtestQ(4,3,TF43,T43,Q43,'Q')"
   ]
  },
  {
   "cell_type": "code",
   "execution_count": 203,
   "id": "8c775b50-80a0-4943-8bb4-14f42bc0b027",
   "metadata": {},
   "outputs": [
    {
     "data": {
      "text/plain": [
       "'Todas las relaciones se cumplen'"
      ]
     },
     "execution_count": 203,
     "metadata": {},
     "output_type": "execute_result"
    }
   ],
   "source": [
    "AlgtestQ(4,3,TF43,T43,QB43,'QB')"
   ]
  },
  {
   "cell_type": "code",
   "execution_count": 204,
   "id": "ea3f20fd-07f3-44de-b51c-2085e0a4c041",
   "metadata": {},
   "outputs": [
    {
     "data": {
      "text/plain": [
       "'Todas las relaciones se cumplen'"
      ]
     },
     "execution_count": 204,
     "metadata": {},
     "output_type": "execute_result"
    }
   ],
   "source": [
    "AlgtestQ(5,2,TF52,T52,Q52,'Q')"
   ]
  },
  {
   "cell_type": "code",
   "execution_count": 205,
   "id": "0df4322c-ada5-4ce7-b916-40c2a9bc2187",
   "metadata": {},
   "outputs": [
    {
     "data": {
      "text/plain": [
       "'Todas las relaciones se cumplen'"
      ]
     },
     "execution_count": 205,
     "metadata": {},
     "output_type": "execute_result"
    }
   ],
   "source": [
    "AlgtestQ(5,2,TF52,T52,QB52,'QB')"
   ]
  },
  {
   "cell_type": "code",
   "execution_count": 206,
   "id": "3b127c2b-7e45-4def-9bb1-e231773ddf33",
   "metadata": {},
   "outputs": [
    {
     "data": {
      "text/plain": [
       "'Todas las relaciones se cumplen'"
      ]
     },
     "execution_count": 206,
     "metadata": {},
     "output_type": "execute_result"
    }
   ],
   "source": [
    "AlgtestQ(5,3,TF53,T53,Q53,'Q')"
   ]
  },
  {
   "cell_type": "code",
   "execution_count": 207,
   "id": "a2b4615b-4b3d-4e52-a3b5-c79f1e25220a",
   "metadata": {},
   "outputs": [
    {
     "data": {
      "text/plain": [
       "'Todas las relaciones se cumplen'"
      ]
     },
     "execution_count": 207,
     "metadata": {},
     "output_type": "execute_result"
    }
   ],
   "source": [
    "AlgtestQ(5,3,TF53,T53,QB53,'QB')"
   ]
  },
  {
   "cell_type": "code",
   "execution_count": 208,
   "id": "50c0644b-5adf-49d2-8772-386e6ba67d8e",
   "metadata": {},
   "outputs": [
    {
     "data": {
      "text/plain": [
       "'Todas las relaciones se cumplen'"
      ]
     },
     "execution_count": 208,
     "metadata": {},
     "output_type": "execute_result"
    }
   ],
   "source": [
    "AlgtestQ(5,4,TF54,T54,Q54,'Q')"
   ]
  },
  {
   "cell_type": "code",
   "execution_count": 209,
   "id": "a1d015ac-2573-4eee-b0aa-d475f1e57268",
   "metadata": {},
   "outputs": [
    {
     "data": {
      "text/plain": [
       "'Todas las relaciones se cumplen'"
      ]
     },
     "execution_count": 209,
     "metadata": {},
     "output_type": "execute_result"
    }
   ],
   "source": [
    "AlgtestQ(5,4,TF54,T54,QB54,'QB')"
   ]
  },
  {
   "cell_type": "markdown",
   "id": "83371236-a8de-4b11-9357-7e069a092393",
   "metadata": {},
   "source": [
    "### Supertraza de las cargas"
   ]
  },
  {
   "cell_type": "code",
   "execution_count": 38,
   "id": "0ccb4cd1-1a77-4b39-9535-c1b3592c9595",
   "metadata": {},
   "outputs": [],
   "source": [
    "def superTrQ(n,k,mat1,mat2):\n",
    "    \n",
    "    d = TraDelta(n,k)\n",
    "    \n",
    "    s = Gamma(n,k)\n",
    "    \n",
    "    l = []\n",
    "    \n",
    "#    rs = sp.Rational(np.math.factorial(n-2),2*np.math.factorial(k-1)*np.math.factorial(n-k-1))\n",
    "    \n",
    "    for i,j in itertools.product(range(0,d), repeat=2):\n",
    "        for al,bl in itertools.product(range(0,4), repeat=2):\n",
    "        \n",
    "            t = np.matmul(s,np.matmul(mat1[(al,i)],mat2[(j,bl)],dtype=object),dtype=object)\n",
    "        \n",
    "            t[t!=0] = np.array([sp.nsimplify(o) for o in t[t!=0]],dtype=object)\n",
    "        \n",
    "            u = sp.nsimplify(np.trace(t))\n",
    "        \n",
    "            if u == sp.nsimplify(-np.math.factorial(k)**2*Delta([al],[bl])*Delta([i],[j])):\n",
    "                l.append(True)\n",
    "            else:\n",
    "                l.append(False)\n",
    "                print(u,sp.nsimplify(-Delta([al],[bl])*Delta([i],[j])))\n",
    "    \n",
    "    if all(l) == True:\n",
    "        return 'Todas las relaciones se cumplen'\n",
    "    else:\n",
    "        return 'Algo va mal'\n",
    "       \n",
    "    return l    "
   ]
  },
  {
   "cell_type": "code",
   "execution_count": 39,
   "id": "7aa35d57-052e-4455-8a0f-e7baaa842270",
   "metadata": {},
   "outputs": [
    {
     "data": {
      "text/plain": [
       "'Todas las relaciones se cumplen'"
      ]
     },
     "execution_count": 39,
     "metadata": {},
     "output_type": "execute_result"
    }
   ],
   "source": [
    "superTrQ(3,2,Q32,QB32)"
   ]
  },
  {
   "cell_type": "code",
   "execution_count": 40,
   "id": "933fa169-a229-4593-a982-91434ea9bca8",
   "metadata": {},
   "outputs": [
    {
     "data": {
      "text/plain": [
       "'Todas las relaciones se cumplen'"
      ]
     },
     "execution_count": 40,
     "metadata": {},
     "output_type": "execute_result"
    }
   ],
   "source": [
    "superTrQ(4,2,Q42,QB42)"
   ]
  },
  {
   "cell_type": "code",
   "execution_count": 41,
   "id": "333d02a1-0a1d-4e15-8240-54d3e8eae558",
   "metadata": {},
   "outputs": [
    {
     "data": {
      "text/plain": [
       "'Todas las relaciones se cumplen'"
      ]
     },
     "execution_count": 41,
     "metadata": {},
     "output_type": "execute_result"
    }
   ],
   "source": [
    "superTrQ(4,3,Q43,QB43)"
   ]
  },
  {
   "cell_type": "code",
   "execution_count": 43,
   "id": "54539187-c8a5-4e34-9085-4bf888d28450",
   "metadata": {},
   "outputs": [
    {
     "data": {
      "text/plain": [
       "'Todas las relaciones se cumplen'"
      ]
     },
     "execution_count": 43,
     "metadata": {},
     "output_type": "execute_result"
    }
   ],
   "source": [
    "superTrQ(5,2,Q52,QB52)"
   ]
  },
  {
   "cell_type": "code",
   "execution_count": 44,
   "id": "41cccf72-9dca-463b-b6d0-dffc95ecbd67",
   "metadata": {},
   "outputs": [
    {
     "data": {
      "text/plain": [
       "'Todas las relaciones se cumplen'"
      ]
     },
     "execution_count": 44,
     "metadata": {},
     "output_type": "execute_result"
    }
   ],
   "source": [
    "superTrQ(5,3,Q53,QB53)"
   ]
  },
  {
   "cell_type": "code",
   "execution_count": 45,
   "id": "379a7e46-06f2-4824-ad04-095a21034afa",
   "metadata": {},
   "outputs": [
    {
     "data": {
      "text/plain": [
       "'Todas las relaciones se cumplen'"
      ]
     },
     "execution_count": 45,
     "metadata": {},
     "output_type": "execute_result"
    }
   ],
   "source": [
    "superTrQ(5,4,Q54,QB54)"
   ]
  },
  {
   "cell_type": "markdown",
   "id": "bb30b10d-c313-4b37-a545-a1d3a6b1dff3",
   "metadata": {},
   "source": [
    "### Carga Central\n",
    "\n",
    "$Z^A_B = iz(\\delta^A_\\alpha\\delta_B^\\alpha + 4 \\Delta^A_{i'+4}\\Delta^{i'+4}_B/d_n)$"
   ]
  },
  {
   "cell_type": "code",
   "execution_count": 39,
   "id": "ea35f6a9-da3a-4324-850c-dbc334697fd4",
   "metadata": {},
   "outputs": [],
   "source": [
    "def Z(n,k,c):\n",
    "    \n",
    "    d = TraDelta(n,k)\n",
    "    \n",
    "    u = np.zeros((d+4,d+4),dtype=object)\n",
    "    \n",
    "    for i in range(0,4):\n",
    "        \n",
    "        u[i,i] = (1j)*c\n",
    "    \n",
    "    for j in range(4,d+4):\n",
    "        \n",
    "        u[j,j] = (1j)*sp.Rational(4,d)*c\n",
    "        \n",
    "    return u     "
   ]
  },
  {
   "cell_type": "markdown",
   "id": "1e9a5dd8-a15f-4b16-917e-1e3212337055",
   "metadata": {},
   "source": [
    "### Relaciones de conmutacion"
   ]
  },
  {
   "cell_type": "markdown",
   "id": "e35bbe6d-5d4f-45a5-b496-fd04ea2bd6af",
   "metadata": {},
   "source": [
    "$[Z,Q^\\alpha_{i'}] = iz(4/d_{n}-1)Q^\\alpha_{i'}$\n",
    "\n",
    "$[Z,\\bar{Q}_\\alpha^{i'}] = iz(4/d_{n}-1)\\bar{Q}_\\alpha^{i'}$"
   ]
  },
  {
   "cell_type": "code",
   "execution_count": 42,
   "id": "1727a317-a08e-4081-a68b-2b4c9918e340",
   "metadata": {},
   "outputs": [
    {
     "data": {
      "text/latex": [
       "$\\displaystyle 4$"
      ],
      "text/plain": [
       "4"
      ]
     },
     "execution_count": 42,
     "metadata": {},
     "output_type": "execute_result"
    }
   ],
   "source": [
    "d = TraDelta(4,3)\n",
    "d"
   ]
  },
  {
   "cell_type": "code",
   "execution_count": null,
   "id": "7bdc18e9-a7e0-49c5-a277-41571c6228a2",
   "metadata": {},
   "outputs": [],
   "source": []
  }
 ],
 "metadata": {
  "kernelspec": {
   "display_name": "Python 3 (ipykernel)",
   "language": "python",
   "name": "python3"
  },
  "language_info": {
   "codemirror_mode": {
    "name": "ipython",
    "version": 3
   },
   "file_extension": ".py",
   "mimetype": "text/x-python",
   "name": "python",
   "nbconvert_exporter": "python",
   "pygments_lexer": "ipython3",
   "version": "3.10.9"
  }
 },
 "nbformat": 4,
 "nbformat_minor": 5
}
